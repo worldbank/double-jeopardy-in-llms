{
 "cells": [
  {
   "cell_type": "markdown",
   "id": "814630b5-3fe3-47a3-8d36-675e21bb5280",
   "metadata": {},
   "source": [
    "# Estimate Tokenizer Premium Costs for Low-Resource Langugages\n",
    "\n",
    "This notebook is designed to provide an estimation of the premium cost associated with tokenizing text for row-resouce languages."
   ]
  },
  {
   "cell_type": "code",
   "execution_count": 1,
   "id": "a3822a8a-6115-41e2-9e11-7e33309d8d5a",
   "metadata": {},
   "outputs": [
    {
     "name": "stderr",
     "output_type": "stream",
     "text": [
      "/Users/g4brielvs/.pyenv/versions/3.10.13/envs/worldbank-llm/lib/python3.10/site-packages/tqdm/auto.py:21: TqdmWarning: IProgress not found. Please update jupyter and ipywidgets. See https://ipywidgets.readthedocs.io/en/stable/user_install.html\n",
      "  from .autonotebook import tqdm as notebook_tqdm\n"
     ]
    }
   ],
   "source": [
    "import numpy as np\n",
    "import pandas as pd\n",
    "import plotly.express as px\n",
    "import tiktoken\n",
    "\n",
    "from llm_lang.assets.flores200_langs import LANGUAGES\n",
    "from llm_lang.external import flores\n",
    "from llm_lang.utils import compute_premium\n",
    "from llm_lang.worldbank import fetch_gdp_per_capita\n",
    "\n",
    "%load_ext autoreload\n",
    "%autoreload 2"
   ]
  },
  {
   "cell_type": "markdown",
   "id": "bf85baf1-762d-40f0-b4dd-1a2a5f35f157",
   "metadata": {},
   "source": [
    "## Data"
   ]
  },
  {
   "cell_type": "code",
   "execution_count": 2,
   "id": "31369f32",
   "metadata": {
    "editable": true,
    "slideshow": {
     "slide_type": ""
    },
    "tags": [
     "remove-cell"
    ]
   },
   "outputs": [
    {
     "data": {
      "text/plain": [
       "['cl100k_base', 'p50k_edit', 'p50k_base', 'r50k_base', 'gpt2']"
      ]
     },
     "execution_count": 2,
     "metadata": {},
     "output_type": "execute_result"
    }
   ],
   "source": [
    "encodings = tiktoken.list_encoding_names()\n",
    "encodings.reverse()\n",
    "encodings"
   ]
  },
  {
   "cell_type": "markdown",
   "id": "86ca4e42",
   "metadata": {},
   "source": [
    "### Flores200\n",
    "\n",
    "Fisrt, we import [Flores200](https://github.com/facebookresearch/flores/blob/main/flores200/README.md) dataset."
   ]
  },
  {
   "cell_type": "code",
   "execution_count": 3,
   "id": "15d06e00-39e2-4a73-a73c-8c0d7e855e5e",
   "metadata": {},
   "outputs": [],
   "source": [
    "fl = flores.Flores200(config_name=\"eng_Latn\")\n",
    "fl.download_and_prepare()"
   ]
  },
  {
   "cell_type": "markdown",
   "id": "6f365d92-fa3b-483c-9209-2f6569323206",
   "metadata": {},
   "source": [
    "We calculate the *baseline* premium cost for **English (`eng`)**."
   ]
  },
  {
   "cell_type": "code",
   "execution_count": 4,
   "id": "1a6d0e55-cbba-409b-a901-dd7df14fba02",
   "metadata": {},
   "outputs": [],
   "source": [
    "ds = fl.as_dataset(split=\"devtest\")\n",
    "ENG = fl.as_dataset(split=\"devtest\").to_pandas()\n",
    "ENG[\"n_baseline\"] = ENG[\"sentence\"].apply(compute_premium)"
   ]
  },
  {
   "cell_type": "markdown",
   "id": "8386ac39-180a-4bea-920e-f94a8aecee76",
   "metadata": {},
   "source": [
    "Subsequently, we calculate the premium cost for all languages relative to **English (`eng`)**."
   ]
  },
  {
   "cell_type": "code",
   "execution_count": 5,
   "id": "97ed557c",
   "metadata": {},
   "outputs": [],
   "source": [
    "dfs = []\n",
    "\n",
    "for lang in LANGUAGES:\n",
    "    fl = flores.Flores200(config_name=lang)\n",
    "    fl.download_and_prepare()\n",
    "\n",
    "    df = fl.as_dataset(split=\"devtest\").to_pandas()\n",
    "    df[\"config_name\"] = lang\n",
    "    df[\"n_tokens\"] = df[\"sentence\"].apply(compute_premium)\n",
    "\n",
    "    df = pd.merge(\n",
    "        df,\n",
    "        ENG[\n",
    "            [\n",
    "                \"id\",\n",
    "                \"sentence\",\n",
    "                \"n_baseline\",\n",
    "            ]\n",
    "        ],\n",
    "        on=\"id\",\n",
    "    )\n",
    "\n",
    "    df[\"cost\"] = df[\"n_tokens\"] / df[\"n_baseline\"]\n",
    "\n",
    "    dfs.append(df)\n",
    "\n",
    "COSTS = pd.concat(dfs)\n",
    "COSTS[\"lang\"] = COSTS[\"config_name\"].apply(lambda x: x[:3])"
   ]
  },
  {
   "cell_type": "code",
   "execution_count": 6,
   "id": "a1c991bf",
   "metadata": {},
   "outputs": [
    {
     "data": {
      "text/html": [
       "<div>\n",
       "<style scoped>\n",
       "    .dataframe tbody tr th:only-of-type {\n",
       "        vertical-align: middle;\n",
       "    }\n",
       "\n",
       "    .dataframe tbody tr th {\n",
       "        vertical-align: top;\n",
       "    }\n",
       "\n",
       "    .dataframe thead th {\n",
       "        text-align: right;\n",
       "    }\n",
       "</style>\n",
       "<table border=\"1\" class=\"dataframe\">\n",
       "  <thead>\n",
       "    <tr style=\"text-align: right;\">\n",
       "      <th></th>\n",
       "      <th>lang</th>\n",
       "      <th>cost</th>\n",
       "    </tr>\n",
       "  </thead>\n",
       "  <tbody>\n",
       "    <tr>\n",
       "      <th>0</th>\n",
       "      <td>ace</td>\n",
       "      <td>2.910664</td>\n",
       "    </tr>\n",
       "    <tr>\n",
       "      <th>1</th>\n",
       "      <td>acm</td>\n",
       "      <td>3.000731</td>\n",
       "    </tr>\n",
       "    <tr>\n",
       "      <th>2</th>\n",
       "      <td>acq</td>\n",
       "      <td>3.031674</td>\n",
       "    </tr>\n",
       "    <tr>\n",
       "      <th>3</th>\n",
       "      <td>aeb</td>\n",
       "      <td>2.935153</td>\n",
       "    </tr>\n",
       "    <tr>\n",
       "      <th>4</th>\n",
       "      <td>afr</td>\n",
       "      <td>1.705142</td>\n",
       "    </tr>\n",
       "    <tr>\n",
       "      <th>...</th>\n",
       "      <td>...</td>\n",
       "      <td>...</td>\n",
       "    </tr>\n",
       "    <tr>\n",
       "      <th>191</th>\n",
       "      <td>yor</td>\n",
       "      <td>2.984898</td>\n",
       "    </tr>\n",
       "    <tr>\n",
       "      <th>192</th>\n",
       "      <td>yue</td>\n",
       "      <td>2.111599</td>\n",
       "    </tr>\n",
       "    <tr>\n",
       "      <th>193</th>\n",
       "      <td>zho</td>\n",
       "      <td>2.019078</td>\n",
       "    </tr>\n",
       "    <tr>\n",
       "      <th>194</th>\n",
       "      <td>zsm</td>\n",
       "      <td>1.639492</td>\n",
       "    </tr>\n",
       "    <tr>\n",
       "      <th>195</th>\n",
       "      <td>zul</td>\n",
       "      <td>2.233700</td>\n",
       "    </tr>\n",
       "  </tbody>\n",
       "</table>\n",
       "<p>196 rows × 2 columns</p>\n",
       "</div>"
      ],
      "text/plain": [
       "    lang      cost\n",
       "0    ace  2.910664\n",
       "1    acm  3.000731\n",
       "2    acq  3.031674\n",
       "3    aeb  2.935153\n",
       "4    afr  1.705142\n",
       "..   ...       ...\n",
       "191  yor  2.984898\n",
       "192  yue  2.111599\n",
       "193  zho  2.019078\n",
       "194  zsm  1.639492\n",
       "195  zul  2.233700\n",
       "\n",
       "[196 rows x 2 columns]"
      ]
     },
     "execution_count": 6,
     "metadata": {},
     "output_type": "execute_result"
    }
   ],
   "source": [
    "COSTS = COSTS.groupby([\"lang\"])[\"cost\"].mean().to_frame().reset_index()\n",
    "COSTS"
   ]
  },
  {
   "cell_type": "markdown",
   "id": "1899388b-468b-4104-a5ac-ed95cf0e4e65",
   "metadata": {},
   "source": [
    "#### Languages by total number of speakers\n",
    "\n",
    "In this section, we import the pre-cooked data, whose relevant columns are `language`, `country` and `population_2022adj`, obtaind from [Ethnologue](https://www.ethnologue.com).\n",
    "\n",
    "```{note}\n",
    "Please note that the column `population_2022adj either 2022 or 2023, if available or 2022 adjusted.\n",
    "```"
   ]
  },
  {
   "cell_type": "code",
   "execution_count": 24,
   "id": "4e3dda7a",
   "metadata": {},
   "outputs": [
    {
     "data": {
      "text/html": [
       "<div>\n",
       "<style scoped>\n",
       "    .dataframe tbody tr th:only-of-type {\n",
       "        vertical-align: middle;\n",
       "    }\n",
       "\n",
       "    .dataframe tbody tr th {\n",
       "        vertical-align: top;\n",
       "    }\n",
       "\n",
       "    .dataframe thead th {\n",
       "        text-align: right;\n",
       "    }\n",
       "</style>\n",
       "<table border=\"1\" class=\"dataframe\">\n",
       "  <thead>\n",
       "    <tr style=\"text-align: right;\">\n",
       "      <th></th>\n",
       "      <th>language</th>\n",
       "      <th>location</th>\n",
       "      <th>country</th>\n",
       "      <th>population_2022adj</th>\n",
       "    </tr>\n",
       "  </thead>\n",
       "  <tbody>\n",
       "    <tr>\n",
       "      <th>0</th>\n",
       "      <td>tuk</td>\n",
       "      <td>Afghanistan</td>\n",
       "      <td>AFG</td>\n",
       "      <td>1150000.0</td>\n",
       "    </tr>\n",
       "    <tr>\n",
       "      <th>1</th>\n",
       "      <td>kir</td>\n",
       "      <td>Afghanistan</td>\n",
       "      <td>AFG</td>\n",
       "      <td>750.0</td>\n",
       "    </tr>\n",
       "    <tr>\n",
       "      <th>2</th>\n",
       "      <td>snd</td>\n",
       "      <td>Afghanistan</td>\n",
       "      <td>AFG</td>\n",
       "      <td>24876.0</td>\n",
       "    </tr>\n",
       "    <tr>\n",
       "      <th>3</th>\n",
       "      <td>azj</td>\n",
       "      <td>Afghanistan</td>\n",
       "      <td>AFG</td>\n",
       "      <td>15400.0</td>\n",
       "    </tr>\n",
       "    <tr>\n",
       "      <th>4</th>\n",
       "      <td>urd</td>\n",
       "      <td>Afghanistan, all users. L1 users: 16,900 in Af...</td>\n",
       "      <td>AFG</td>\n",
       "      <td>1247414.0</td>\n",
       "    </tr>\n",
       "    <tr>\n",
       "      <th>...</th>\n",
       "      <td>...</td>\n",
       "      <td>...</td>\n",
       "      <td>...</td>\n",
       "      <td>...</td>\n",
       "    </tr>\n",
       "    <tr>\n",
       "      <th>3020</th>\n",
       "      <td>por</td>\n",
       "      <td>Zimbabwe</td>\n",
       "      <td>ZWE</td>\n",
       "      <td>18058.0</td>\n",
       "    </tr>\n",
       "    <tr>\n",
       "      <th>3021</th>\n",
       "      <td>nya</td>\n",
       "      <td>Zimbabwe</td>\n",
       "      <td>ZWE</td>\n",
       "      <td>506283.0</td>\n",
       "    </tr>\n",
       "    <tr>\n",
       "      <th>3022</th>\n",
       "      <td>tsn</td>\n",
       "      <td>Zimbabwe</td>\n",
       "      <td>ZWE</td>\n",
       "      <td>96545.0</td>\n",
       "    </tr>\n",
       "    <tr>\n",
       "      <th>3023</th>\n",
       "      <td>sna</td>\n",
       "      <td>Zimbabwe, all users. L1 users: 7,160,000 in Zi...</td>\n",
       "      <td>ZWE</td>\n",
       "      <td>13325866.0</td>\n",
       "    </tr>\n",
       "    <tr>\n",
       "      <th>3024</th>\n",
       "      <td>eng</td>\n",
       "      <td>Zimbabwe, all users. L1 users: 8,000 in Zimbabwe</td>\n",
       "      <td>ZWE</td>\n",
       "      <td>5158000.0</td>\n",
       "    </tr>\n",
       "  </tbody>\n",
       "</table>\n",
       "<p>3025 rows × 4 columns</p>\n",
       "</div>"
      ],
      "text/plain": [
       "     language                                           location country  \\\n",
       "0         tuk                                        Afghanistan     AFG   \n",
       "1         kir                                        Afghanistan     AFG   \n",
       "2         snd                                        Afghanistan     AFG   \n",
       "3         azj                                        Afghanistan     AFG   \n",
       "4         urd  Afghanistan, all users. L1 users: 16,900 in Af...     AFG   \n",
       "...       ...                                                ...     ...   \n",
       "3020      por                                           Zimbabwe     ZWE   \n",
       "3021      nya                                           Zimbabwe     ZWE   \n",
       "3022      tsn                                           Zimbabwe     ZWE   \n",
       "3023      sna  Zimbabwe, all users. L1 users: 7,160,000 in Zi...     ZWE   \n",
       "3024      eng   Zimbabwe, all users. L1 users: 8,000 in Zimbabwe     ZWE   \n",
       "\n",
       "      population_2022adj  \n",
       "0              1150000.0  \n",
       "1                  750.0  \n",
       "2                24876.0  \n",
       "3                15400.0  \n",
       "4              1247414.0  \n",
       "...                  ...  \n",
       "3020             18058.0  \n",
       "3021            506283.0  \n",
       "3022             96545.0  \n",
       "3023          13325866.0  \n",
       "3024           5158000.0  \n",
       "\n",
       "[3025 rows x 4 columns]"
      ]
     },
     "execution_count": 24,
     "metadata": {},
     "output_type": "execute_result"
    }
   ],
   "source": [
    "LANG_POP = pd.read_csv(\"../data/processed/lang_pop2022adj.csv\")\n",
    "LANG_POP[[\"language\", \"location\", \"country\", \"population_2022adj\"]]"
   ]
  },
  {
   "cell_type": "markdown",
   "id": "49c44469-1cf7-4f5f-bb71-12d2e4fb1e14",
   "metadata": {},
   "source": [
    "### Enriching with socioeconomic data\n",
    "\n",
    "#### World Bank Data \n",
    "\n",
    "In this section, we fetch the GDP per capita ([`NY.GDP.PCAP.CD`](https://data.worldbank.org/indicator/NY.GDP.PCAP.CD))."
   ]
  },
  {
   "cell_type": "code",
   "execution_count": 8,
   "id": "21e1daff-15f1-4c5f-b884-80c4220f4298",
   "metadata": {},
   "outputs": [],
   "source": [
    "LANG_POP[\"NY.GDP.PCAP.CD\"] = LANG_POP[\"country\"].apply(fetch_gdp_per_capita)"
   ]
  },
  {
   "cell_type": "markdown",
   "id": "4513f507-bbc0-4815-a736-a3dcff14f8fd",
   "metadata": {},
   "source": [
    "#### World Bank Country API \n",
    "\n",
    "The [World Bank Country API](https://datahelpdesk.worldbank.org/knowledgebase/articles/898590-country-api-queries) returns the current (as of 2024) [World Bank Country and Lending Groups](https://datahelpdesk.worldbank.org/knowledgebase/articles/906519-world-bank-country-and-lending-groups)."
   ]
  },
  {
   "cell_type": "code",
   "execution_count": 9,
   "id": "7a4f4996-20f9-46dc-ab82-3e34ad057ad4",
   "metadata": {},
   "outputs": [],
   "source": [
    "WB_COUNTRIES = pd.read_csv(\"../data/processed/language_country_income_level.csv\")\n",
    "WB_COUNTRIES = WB_COUNTRIES.drop_duplicates([\"id\", \"incomeLevel\"])\n",
    "WB_COUNTRIES = WB_COUNTRIES[\n",
    "    [\n",
    "        \"code\",\n",
    "        \"id\",\n",
    "        \"name\",\n",
    "        \"region\",\n",
    "        \"incomeLevel\",\n",
    "        \"capitalCity\",\n",
    "        \"longitude\",\n",
    "        \"latitude\",\n",
    "    ]\n",
    "]"
   ]
  },
  {
   "cell_type": "markdown",
   "id": "01400a45-4e73-48bf-98ff-10f11284d810",
   "metadata": {},
   "source": [
    "## Merging and Computing Population-weighted GDP for each Language\n",
    "\n",
    "In this section, we merge the datasets to obtain information on the *number of speakers* and *GDP per capita* for each `language` and `country`."
   ]
  },
  {
   "cell_type": "code",
   "execution_count": 10,
   "id": "3990a831-a049-495d-ba5a-121f2ced74a9",
   "metadata": {},
   "outputs": [],
   "source": [
    "df = LANG_POP.merge(\n",
    "    WB_COUNTRIES, left_on=[\"country\"], right_on=[\"id\"], how=\"left\"\n",
    ").merge(COSTS, left_on=[\"language\"], right_on=[\"lang\"], how=\"left\")"
   ]
  },
  {
   "cell_type": "code",
   "execution_count": 11,
   "id": "feff560e-5c35-4618-a74d-cbb800c44982",
   "metadata": {
    "editable": true,
    "slideshow": {
     "slide_type": ""
    },
    "tags": [
     "remove-cell"
    ]
   },
   "outputs": [],
   "source": [
    "# df.to_csv(\"../data/processed/lang_pop2022adj_costs.csv\")\n",
    "# df = pd.read_csv(\"../data/processed/lang_pop2022adj_costs.csv\")"
   ]
  },
  {
   "cell_type": "markdown",
   "id": "12ea92e2-0faf-4f81-945e-bde7c37c249e",
   "metadata": {},
   "source": [
    "We define an indicator - $W_{lang}$ -  calculated as a population-weighted GDP for the language."
   ]
  },
  {
   "cell_type": "code",
   "execution_count": 12,
   "id": "fd1c16c6-922b-471f-bb67-35f1ea4795b0",
   "metadata": {},
   "outputs": [],
   "source": [
    "df[\"wealth\"] = df[\"population_2022adj\"] * df[\"NY.GDP.PCAP.CD\"]\n",
    "\n",
    "wealth = df.groupby([\"lang\"]).apply(\n",
    "    lambda x: x[\"wealth\"].sum() / x[\"population_2022adj\"].sum(),\n",
    "    include_groups=False,\n",
    ")"
   ]
  },
  {
   "cell_type": "markdown",
   "id": "ec8c9476-317c-4850-beef-bc70e1498dd7",
   "metadata": {},
   "source": [
    "And population, "
   ]
  },
  {
   "cell_type": "code",
   "execution_count": 13,
   "id": "58ff6926-3936-47d9-b0ed-944862ab5e93",
   "metadata": {},
   "outputs": [],
   "source": [
    "pop = df.groupby([\"lang\"])[\"population_2022adj\"].sum()"
   ]
  },
  {
   "cell_type": "markdown",
   "id": "1b9360b1-0803-42be-8515-f0fd965e895d",
   "metadata": {},
   "source": [
    "And income level, "
   ]
  },
  {
   "cell_type": "code",
   "execution_count": null,
   "id": "7513b466-1eaa-414e-8422-1a630221d57c",
   "metadata": {},
   "outputs": [],
   "source": [
    "df[\"incomeLevel\"] = df[\"incomeLevel\"].map(\n",
    "    {\n",
    "        x: i / 5\n",
    "        for i, x in enumerate(\n",
    "            [\n",
    "                \"Not classified\",\n",
    "                \"Low income\",\n",
    "                \"Lower middle income\",\n",
    "                \"Upper middle income\",\n",
    "                \"High income\",\n",
    "            ]\n",
    "        )\n",
    "    }\n",
    ")\n",
    "\n",
    "incomeLevel = df.groupby([\"lang\"])[\"incomeLevel\"].mean().to_frame()"
   ]
  },
  {
   "cell_type": "markdown",
   "id": "a373f1c7-99da-4501-8aa5-487517a36214",
   "metadata": {},
   "source": [
    "Finally, we compute the indicator by combiting the columns above,"
   ]
  },
  {
   "cell_type": "code",
   "execution_count": 15,
   "id": "b67ed7d9-65f3-493d-a2e6-fd7658052cb2",
   "metadata": {},
   "outputs": [],
   "source": [
    "W = (\n",
    "    pd.merge(\n",
    "        COSTS,\n",
    "        wealth.to_frame(\"wealth\").reset_index(),\n",
    "        left_on=\"lang\",\n",
    "        right_on=\"lang\",\n",
    "        how=\"outer\",\n",
    "    )\n",
    "    .merge(pop, on=\"lang\")\n",
    "    .merge(incomeLevel, on=\"lang\")\n",
    ")"
   ]
  },
  {
   "cell_type": "code",
   "execution_count": 16,
   "id": "7eff9ad5-355a-4b14-8285-28b720f73612",
   "metadata": {},
   "outputs": [
    {
     "data": {
      "text/html": [
       "<div>\n",
       "<style scoped>\n",
       "    .dataframe tbody tr th:only-of-type {\n",
       "        vertical-align: middle;\n",
       "    }\n",
       "\n",
       "    .dataframe tbody tr th {\n",
       "        vertical-align: top;\n",
       "    }\n",
       "\n",
       "    .dataframe thead th {\n",
       "        text-align: right;\n",
       "    }\n",
       "</style>\n",
       "<table border=\"1\" class=\"dataframe\">\n",
       "  <thead>\n",
       "    <tr style=\"text-align: right;\">\n",
       "      <th></th>\n",
       "      <th>lang</th>\n",
       "      <th>cost</th>\n",
       "      <th>w</th>\n",
       "      <th>population_2022adj</th>\n",
       "      <th>incomeLevel</th>\n",
       "    </tr>\n",
       "  </thead>\n",
       "  <tbody>\n",
       "    <tr>\n",
       "      <th>0</th>\n",
       "      <td>acm</td>\n",
       "      <td>3.000731</td>\n",
       "      <td>7543.131613</td>\n",
       "      <td>18606581.0</td>\n",
       "      <td>0.672000</td>\n",
       "    </tr>\n",
       "    <tr>\n",
       "      <th>1</th>\n",
       "      <td>acq</td>\n",
       "      <td>3.031674</td>\n",
       "      <td>2595.585862</td>\n",
       "      <td>12694834.0</td>\n",
       "      <td>0.487500</td>\n",
       "    </tr>\n",
       "    <tr>\n",
       "      <th>2</th>\n",
       "      <td>aeb</td>\n",
       "      <td>2.935153</td>\n",
       "      <td>6253.115427</td>\n",
       "      <td>12240945.0</td>\n",
       "      <td>0.745455</td>\n",
       "    </tr>\n",
       "    <tr>\n",
       "      <th>3</th>\n",
       "      <td>afr</td>\n",
       "      <td>1.705142</td>\n",
       "      <td>5676.207961</td>\n",
       "      <td>65837380.0</td>\n",
       "      <td>0.586667</td>\n",
       "    </tr>\n",
       "    <tr>\n",
       "      <th>4</th>\n",
       "      <td>aka</td>\n",
       "      <td>2.738359</td>\n",
       "      <td>3407.152128</td>\n",
       "      <td>12140954.0</td>\n",
       "      <td>0.577778</td>\n",
       "    </tr>\n",
       "    <tr>\n",
       "      <th>...</th>\n",
       "      <td>...</td>\n",
       "      <td>...</td>\n",
       "      <td>...</td>\n",
       "      <td>...</td>\n",
       "      <td>...</td>\n",
       "    </tr>\n",
       "    <tr>\n",
       "      <th>167</th>\n",
       "      <td>xho</td>\n",
       "      <td>2.081686</td>\n",
       "      <td>6752.098207</td>\n",
       "      <td>21638367.0</td>\n",
       "      <td>0.500000</td>\n",
       "    </tr>\n",
       "    <tr>\n",
       "      <th>168</th>\n",
       "      <td>ydd</td>\n",
       "      <td>5.602995</td>\n",
       "      <td>61969.322679</td>\n",
       "      <td>451255.0</td>\n",
       "      <td>0.714286</td>\n",
       "    </tr>\n",
       "    <tr>\n",
       "      <th>169</th>\n",
       "      <td>yor</td>\n",
       "      <td>2.984898</td>\n",
       "      <td>2576.646057</td>\n",
       "      <td>49493154.0</td>\n",
       "      <td>0.511111</td>\n",
       "    </tr>\n",
       "    <tr>\n",
       "      <th>170</th>\n",
       "      <td>yue</td>\n",
       "      <td>2.111599</td>\n",
       "      <td>17247.621512</td>\n",
       "      <td>86702360.0</td>\n",
       "      <td>0.664706</td>\n",
       "    </tr>\n",
       "    <tr>\n",
       "      <th>171</th>\n",
       "      <td>zul</td>\n",
       "      <td>2.233700</td>\n",
       "      <td>6676.459552</td>\n",
       "      <td>31281829.0</td>\n",
       "      <td>0.400000</td>\n",
       "    </tr>\n",
       "  </tbody>\n",
       "</table>\n",
       "<p>172 rows × 5 columns</p>\n",
       "</div>"
      ],
      "text/plain": [
       "    lang      cost             w  population_2022adj  incomeLevel\n",
       "0    acm  3.000731   7543.131613          18606581.0     0.672000\n",
       "1    acq  3.031674   2595.585862          12694834.0     0.487500\n",
       "2    aeb  2.935153   6253.115427          12240945.0     0.745455\n",
       "3    afr  1.705142   5676.207961          65837380.0     0.586667\n",
       "4    aka  2.738359   3407.152128          12140954.0     0.577778\n",
       "..   ...       ...           ...                 ...          ...\n",
       "167  xho  2.081686   6752.098207          21638367.0     0.500000\n",
       "168  ydd  5.602995  61969.322679            451255.0     0.714286\n",
       "169  yor  2.984898   2576.646057          49493154.0     0.511111\n",
       "170  yue  2.111599  17247.621512          86702360.0     0.664706\n",
       "171  zul  2.233700   6676.459552          31281829.0     0.400000\n",
       "\n",
       "[172 rows x 5 columns]"
      ]
     },
     "execution_count": 16,
     "metadata": {},
     "output_type": "execute_result"
    }
   ],
   "source": [
    "W"
   ]
  },
  {
   "cell_type": "code",
   "execution_count": 23,
   "id": "a4c2dbe5-efa1-4e7a-9789-4ebce4505b32",
   "metadata": {},
   "outputs": [
    {
     "data": {
      "application/vnd.plotly.v1+json": {
       "config": {
        "plotlyServerURL": "https://plot.ly"
       },
       "data": [
        {
         "hovertemplate": "<b>%{hovertext}</b><br><br>w=%{x}<br>cost=%{y}<br>population_2022adj=%{marker.size}<br>incomeLevel=%{marker.color}<extra></extra>",
         "hovertext": [
          "acm",
          "acq",
          "aeb",
          "afr",
          "aka",
          "als",
          "amh",
          "apc",
          "arb",
          "ars",
          "ary",
          "arz",
          "asm",
          "ast",
          "awa",
          "ayr",
          "azb",
          "azj",
          "bak",
          "bam",
          "bel",
          "bem",
          "ben",
          "bho",
          "bjn",
          "bod",
          "bos",
          "bug",
          "bul",
          "cat",
          "ceb",
          "ces",
          "cjk",
          "ckb",
          "crh",
          "cym",
          "dan",
          "deu",
          "dyu",
          "dzo",
          "ell",
          "eng",
          "eus",
          "ewe",
          "fao",
          "fij",
          "fin",
          "fon",
          "fra",
          "fuv",
          "gaz",
          "gla",
          "gle",
          "glg",
          "guj",
          "hat",
          "hau",
          "heb",
          "hin",
          "hrv",
          "hun",
          "hye",
          "ibo",
          "ilo",
          "ind",
          "isl",
          "ita",
          "jav",
          "jpn",
          "kab",
          "kac",
          "kam",
          "kan",
          "kas",
          "kat",
          "kaz",
          "kbp",
          "kea",
          "khk",
          "khm",
          "kin",
          "kir",
          "kmb",
          "kmr",
          "knc",
          "kor",
          "lao",
          "lij",
          "lim",
          "lin",
          "lit",
          "lmo",
          "ltz",
          "lua",
          "lug",
          "luo",
          "lus",
          "lvs",
          "mag",
          "mai",
          "mal",
          "mar",
          "mkd",
          "mlt",
          "mni",
          "mos",
          "mri",
          "mya",
          "nld",
          "npi",
          "nso",
          "nus",
          "nya",
          "oci",
          "ory",
          "pag",
          "pan",
          "pap",
          "pbt",
          "pes",
          "plt",
          "pol",
          "por",
          "prs",
          "ron",
          "run",
          "rus",
          "sag",
          "san",
          "sat",
          "shn",
          "sin",
          "slk",
          "slv",
          "smo",
          "sna",
          "snd",
          "som",
          "sot",
          "spa",
          "srp",
          "ssw",
          "swe",
          "swh",
          "tam",
          "taq",
          "tat",
          "tel",
          "tgk",
          "tgl",
          "tha",
          "tir",
          "tpi",
          "tsn",
          "tso",
          "tuk",
          "tum",
          "tur",
          "tzm",
          "uig",
          "ukr",
          "urd",
          "uzn",
          "vec",
          "vie",
          "war",
          "wol",
          "xho",
          "ydd",
          "yor",
          "yue",
          "zul"
         ],
         "legendgroup": "",
         "marker": {
          "color": [
           0.672,
           0.48750000000000004,
           0.7454545454545456,
           0.5866666666666667,
           0.5777777777777778,
           0.7222222222222222,
           0.6166666666666667,
           0.562962962962963,
           0.48,
           0.6666666666666666,
           0.6947368421052632,
           0.664864864864865,
           0.4,
           0.8,
           0.4,
           0.6,
           0.6,
           0.5857142857142856,
           0.5599999999999999,
           0.37142857142857144,
           0.6666666666666666,
           0.30000000000000004,
           0.6857142857142857,
           0.5,
           0.6,
           0.6571428571428573,
           0.7565217391304349,
           0.6666666666666666,
           0.72,
           0.6727272727272727,
           0.72,
           0.7533333333333334,
           0.3333333333333333,
           0.68,
           0.55,
           0.76,
           0.8,
           0.6901408450704225,
           0.26666666666666666,
           0.4000000000000001,
           0.6262295081967214,
           0.6222222222222222,
           0.75,
           0.4,
           0.8,
           0.75,
           0.7875000000000001,
           0.30000000000000004,
           0.5965217391304348,
           0.4,
           0.5333333333333333,
           0.8,
           0.8,
           0.75,
           0.5,
           0.7,
           0.3888888888888889,
           0.76,
           0.6115384615384616,
           0.7615384615384616,
           0.7612903225806452,
           0.55,
           0.6857142857142858,
           0.6666666666666666,
           0.7058823529411765,
           0.8000000000000002,
           0.7148148148148148,
           0.7333333333333334,
           0.7230769230769232,
           0.7000000000000001,
           0.5,
           0.4,
           0.7250000000000001,
           0.4,
           0.6571428571428571,
           0.6285714285714287,
           0.30000000000000004,
           0.6210526315789474,
           0.7333333333333334,
           0.6666666666666666,
           0.4571428571428572,
           0.5111111111111111,
           0.4,
           0.65625,
           0.28,
           0.6377358490566039,
           0.6222222222222222,
           0.8000000000000002,
           0.8,
           0.45454545454545453,
           0.7363636363636363,
           0.8,
           0.8,
           0.30000000000000004,
           0.5666666666666668,
           0.4,
           0.4000000000000001,
           0.7473684210526317,
           0.4,
           0.4,
           0.7066666666666668,
           0.7333333333333334,
           0.76,
           0.7142857142857143,
           0.4,
           0.30000000000000004,
           0.8,
           0.6470588235294118,
           0.7741935483870968,
           0.7153846153846154,
           0.6,
           0.2,
           0.32,
           0.8,
           0.5,
           0.6666666666666666,
           0.6421052631578948,
           0.8,
           0.6428571428571429,
           0.6972972972972973,
           0.5,
           0.7162790697674418,
           0.6444444444444445,
           0.676923076923077,
           0.7209302325581395,
           0.42857142857142855,
           0.6447761194029851,
           0.30000000000000004,
           0.4,
           0.4,
           0.5,
           0.7272727272727273,
           0.7555555555555556,
           0.7692307692307693,
           0.7000000000000001,
           0.6000000000000001,
           0.6142857142857142,
           0.6,
           0.5,
           0.6789473684210526,
           0.7351351351351351,
           0.4,
           0.790909090909091,
           0.5047619047619047,
           0.6962962962962963,
           0.26666666666666666,
           0.5538461538461539,
           0.6941176470588236,
           0.5454545454545454,
           0.7291666666666666,
           0.725925925925926,
           0.6384615384615385,
           0.6000000000000001,
           0.55,
           0.4,
           0.4444444444444444,
           0.30000000000000004,
           0.6576271186440679,
           0.6666666666666666,
           0.5636363636363636,
           0.6943396226415095,
           0.6789473684210526,
           0.6125,
           0.7333333333333334,
           0.7142857142857143,
           0.6000000000000001,
           0.5846153846153846,
           0.5,
           0.7142857142857143,
           0.5111111111111112,
           0.6647058823529413,
           0.39999999999999997
          ],
          "coloraxis": "coloraxis",
          "opacity": 0.5,
          "size": [
           18606581,
           12694834,
           12240945,
           65837380,
           12140954,
           1331299,
           64946773,
           55329899,
           332459000,
           19540846,
           55439449,
           108877629,
           17490761,
           728298,
           5372285,
           1692745,
           12074151,
           10302594,
           1176413,
           19823637,
           3668566,
           6312369,
           297023859,
           59920345,
           3928919,
           1902434,
           2608856,
           5030376,
           7433181,
           12402153,
           21763577,
           12308045,
           3786255,
           5684612,
           543960,
           549017,
           6150124,
           181911040,
           15614443,
           321275,
           12816357,
           1737483695,
           1118042,
           6625599,
           74513,
           341840,
           21428085,
           2409684,
           319561939,
           17840209,
           24750842,
           62420,
           1338363,
           3472801,
           71557624,
           13771779,
           94145247,
           10189419,
           697251233,
           6231897,
           12309910,
           3675981,
           33194195,
           8827678,
           227382598,
           374694,
           66897058,
           73440050,
           122422240,
           7899370,
           1115496,
           5684690,
           66983781,
           8123801,
           3912529,
           17380273,
           1292355,
           890887,
           2947221,
           18382666,
           15249200,
           5759701,
           2220309,
           16672903,
           9752379,
           64917506,
           5020133,
           403518,
           1461478,
           43183092,
           2811841,
           4102890,
           553043,
           19021521,
           14794187,
           5760206,
           968286,
           1996051,
           23897749,
           28771814,
           42698188,
           113269060,
           1649420,
           710310,
           2028071,
           12523013,
           212694,
           48513329,
           31934055,
           33243517,
           15466019,
           1763705,
           16644579,
           1390264,
           45378324,
           1696028,
           42146064,
           5394928,
           21324923,
           79697088,
           12857025,
           40589758,
           269417058,
           36760398,
           24741382,
           13967493,
           250267650,
           5925237,
           35196,
           8699573,
           4895001,
           18082649,
           7463394,
           2324145,
           3317204,
           13560068,
           35922486,
           25276952,
           15142852,
           595898580,
           9822600,
           5219375,
           30061908,
           90355442,
           99363368,
           919624,
           4837385,
           109134150,
           10538203,
           107011427,
           70336181,
           11976444,
           6820532,
           62689823,
           11550933,
           6292670,
           2653503,
           112243960,
           3188939,
           11188429,
           33943705,
           264353604,
           29290959,
           3974558,
           89373561,
           3559879,
           23829688,
           21638367,
           451255,
           49493154,
           86702360,
           31281829
          ],
          "sizemode": "area",
          "sizeref": 308885.99022222223,
          "symbol": "circle"
         },
         "mode": "markers",
         "name": "",
         "orientation": "v",
         "showlegend": false,
         "type": "scatter",
         "x": [
          7543.131612585549,
          2595.585862246689,
          6253.115427158833,
          5676.207960732274,
          3407.152128256886,
          18091.642943314688,
          1629.9172457614854,
          11246.075082173014,
          7706.676159197123,
          25579.017558889464,
          4602.765950003651,
          7443.433621238459,
          2407.2303568398074,
          29604.469149222696,
          2215.3703542004414,
          4891.279148360835,
          5375.1823966849815,
          8077.67496524644,
          14586.193659529335,
          852.7603433638267,
          8458.690287799294,
          1377.7995079796137,
          3321.48729869045,
          2387.2406892630083,
          4798.481798285877,
          10627.939635520206,
          18786.90313966438,
          4997.630737990869,
          18161.66067420217,
          32405.208859226594,
          3810.2303034987767,
          26461.126961235674,
          2116.1922305738026,
          5943.873854259608,
          5266.820918040918,
          45983.42761142918,
          67624.90619443118,
          35819.78728497108,
          2003.9144569019059,
          100.0442108327314,
          25123.9609462025,
          26306.84587361024,
          30075.377753154506,
          1885.677340846774,
          67218.25693677421,
          9407.587025965366,
          13249.159712445777,
          1291.291547992345,
          23379.826138154487,
          2158.643893146028,
          1147.4860016386967,
          46304.10646658208,
          103188.99852870981,
          25904.370537761573,
          3260.3144744233327,
          7839.64684890356,
          1776.3783139674035,
          51644.445624179214,
          2912.8122730232944,
          24607.518960436984,
          20020.956358159146,
          7936.850692618825,
          2478.672593441818,
          4592.790235480589,
          4935.273283300879,
          73819.19837049894,
          36204.89754302427,
          4916.251018719469,
          33974.18901816362,
          9702.283909354413,
          1620.8182406855362,
          2099.30193826696,
          2573.945146799582,
          2370.8017951375164,
          7833.2435159363495,
          11289.828030630259,
          947.7091701217473,
          11700.143214595162,
          6167.0005851031,
          3186.3012080632757,
          1072.7401032269395,
          2368.6117948585716,
          3000.396685498399,
          9517.742675985237,
          2042.212664404591,
          27776.458441410752,
          4484.746863267653,
          171145.82090035046,
          53704.56511508502,
          747.0355331226399,
          29099.516766223765,
          40190.37423373749,
          106536.26112803907,
          662.3541896791797,
          1102.674206804751,
          2055.100944527308,
          2385.6449519082507,
          24910.45928089867,
          2398.7643456532783,
          2275.3799942972746,
          3753.4198151905703,
          2552.3131832275667,
          20911.60507137482,
          35117.524711757214,
          2413.502602600992,
          1064.374203108655,
          49579.489128051246,
          1515.7742300361763,
          50623.2892369705,
          3204.196031960952,
          6767.490934436255,
          138.20895186791552,
          828.5286550201948,
          78776.5613503366,
          2416.8037019386393,
          3740.628416446183,
          5003.4663758413635,
          31314.962027088714,
          1291.6124890041842,
          5956.127128261852,
          421.8407450159947,
          21555.837906107092,
          10163.747632320263,
          661.9045414432273,
          18373.62307548993,
          407.38674562572425,
          13921.688106556694,
          476.30647127511185,
          2200.634937605481,
          2410.6809106265464,
          1270.962392792096,
          4725.643459038925,
          23843.945267327013,
          29528.62465372569,
          21410.67781844811,
          1912.2241484892318,
          2067.8918129817607,
          2572.548353607051,
          6042.039799975352,
          18448.930391330985,
          13951.374542213352,
          6171.523525425155,
          26631.377674947747,
          1760.04894094185,
          5070.330469030525,
          1010.4264891114216,
          13700.52858690674,
          3201.082290272974,
          1707.05644564632,
          8437.230976857407,
          7312.94163340151,
          18175.399128441306,
          3149.366184741379,
          5480.980379683875,
          4017.0960395895668,
          6735.698815415366,
          812.3922197553342,
          11569.701266090446,
          5538.420927687495,
          12640.48335883771,
          11709.769525981439,
          2376.6415342461137,
          2712.2081369882003,
          34589.35144407701,
          6091.663740248868,
          3566.1578349721754,
          1895.5974094951914,
          6752.098206541516,
          61969.32267855234,
          2576.646056672214,
          17247.621512055444,
          6676.459551959446
         ],
         "xaxis": "x",
         "y": [
          3.0007307343223384,
          3.0316736302587217,
          2.935153030746194,
          1.7051422103030622,
          2.7383589371759722,
          2.2697449652770945,
          7.705929472096874,
          2.8449173326526425,
          2.7642455624992954,
          3.059073739528037,
          2.9863158966906367,
          2.9884128048930503,
          6.237912649194907,
          1.5951382253806814,
          4.7978976166789105,
          2.2132112263985446,
          3.3487798373519158,
          2.6751950142964662,
          4.308189086542974,
          2.5943398879210178,
          3.5481035259902813,
          2.2432169474432673,
          5.877417375837583,
          4.722551675307431,
          2.776297419811197,
          11.37653043226391,
          1.893455572083671,
          1.994676592475988,
          2.655355178062571,
          1.7278281672146922,
          1.956616539799298,
          2.13029290988602,
          1.994868730721641,
          4.869182695287233,
          2.1272687687456395,
          2.16612293267088,
          1.6342581833627516,
          1.5989462275225308,
          2.096919038375192,
          12.45929748661326,
          5.198570251888484,
          1,
          1.9068599378093742,
          2.7714230386038308,
          2.1032959955228145,
          2.189001501571473,
          2.012123500353218,
          3.7484980659929623,
          1.6206789501944112,
          1.8942409316341617,
          2.3439527798290283,
          2.445417886792841,
          2.357116971912392,
          1.578325788684656,
          7.763391329622801,
          1.7625872442973414,
          2.0184522322979848,
          3.6888862986748103,
          4.821500508442177,
          1.8537626419686744,
          2.171144332095264,
          9.990197434702646,
          2.5008983472024,
          2.0790876900413484,
          1.5630490479053394,
          2.1636789959410114,
          1.6625573828487523,
          1.7498646396792958,
          2.3041225157188707,
          2.4918268403593102,
          2.403786044303041,
          2.2068801969834393,
          8.973210644483132,
          4.687832041743954,
          9.884888680855841,
          3.830281746835178,
          4.799921109220812,
          1.7425113720463195,
          3.80667681683381,
          8.8667440574414,
          2.154008217407018,
          3.5421634950215783,
          2.1641067543412285,
          2.231329009917956,
          3.0372986924005265,
          2.398143796236063,
          9.732260676348531,
          2.0070925443445398,
          1.8298652355780087,
          1.8913337211503525,
          2.211593014318654,
          2.072500687946787,
          2.0036548823621976,
          1.976483266410053,
          1.9956085137961435,
          1.8490691366342542,
          2.03164170978881,
          2.3677465204610586,
          4.737560223856157,
          4.938703650389578,
          9.04924675795549,
          5.107235498475261,
          2.795054146213778,
          2.449787424980242,
          6.82067158614608,
          2.3139283328124227,
          2.3856658323632733,
          11.817972965315922,
          1.62329674672602,
          4.83796915028221,
          2.215206106651403,
          4.031436833053848,
          2.1213743769364544,
          1.8517874188679528,
          12.594206220046544,
          1.5817994522261896,
          7.948821989442483,
          1.7614355353662192,
          3.799872415477013,
          3.3010242783851806,
          2.2839201349491662,
          1.9450707969313812,
          1.4898468663614808,
          3.190840405835147,
          1.8955597515540819,
          2.1646241750858066,
          2.486563568400427,
          2.1113909810988254,
          5.00963679067176,
          12.962892241210177,
          15.328764904257177,
          8.789215421310667,
          2.1563777993149986,
          1.9025683442235553,
          2.3101928141979204,
          2.172313130420417,
          4.0209342426430394,
          2.2409449506590913,
          2.245488049537201,
          1.5654680709760074,
          2.9336459214602764,
          2.1958554892218727,
          1.5933939392913068,
          1.9765001276532637,
          7.761549958218314,
          6.2832030370384935,
          3.7770306639693056,
          8.426995195314177,
          3.67385689367635,
          2.0782114570410664,
          4.402135036376465,
          7.89991768240613,
          2.0754686112538834,
          2.3082934082526037,
          2.291191790987688,
          2.4229613707722857,
          2.6144529955570492,
          1.9451286273218424,
          10.150778827413847,
          5.219701178190199,
          2.9975085929802576,
          4.401929325651385,
          2.192623458937091,
          1.7235692811432668,
          2.477658180679506,
          1.9796589125536876,
          1.9644836093951608,
          2.081685580418545,
          5.6029954307684005,
          2.9848977518257804,
          2.111598697437899,
          2.2336995810065807
         ],
         "yaxis": "y"
        }
       ],
       "layout": {
        "autosize": true,
        "coloraxis": {
         "colorbar": {
          "title": {
           "text": "incomeLevel"
          }
         },
         "colorscale": [
          [
           0,
           "#0d0887"
          ],
          [
           0.1111111111111111,
           "#46039f"
          ],
          [
           0.2222222222222222,
           "#7201a8"
          ],
          [
           0.3333333333333333,
           "#9c179e"
          ],
          [
           0.4444444444444444,
           "#bd3786"
          ],
          [
           0.5555555555555556,
           "#d8576b"
          ],
          [
           0.6666666666666666,
           "#ed7953"
          ],
          [
           0.7777777777777778,
           "#fb9f3a"
          ],
          [
           0.8888888888888888,
           "#fdca26"
          ],
          [
           1,
           "#f0f921"
          ]
         ]
        },
        "height": 600,
        "legend": {
         "itemsizing": "constant",
         "tracegroupgap": 0
        },
        "template": {
         "data": {
          "bar": [
           {
            "error_x": {
             "color": "#2a3f5f"
            },
            "error_y": {
             "color": "#2a3f5f"
            },
            "marker": {
             "line": {
              "color": "#E5ECF6",
              "width": 0.5
             },
             "pattern": {
              "fillmode": "overlay",
              "size": 10,
              "solidity": 0.2
             }
            },
            "type": "bar"
           }
          ],
          "barpolar": [
           {
            "marker": {
             "line": {
              "color": "#E5ECF6",
              "width": 0.5
             },
             "pattern": {
              "fillmode": "overlay",
              "size": 10,
              "solidity": 0.2
             }
            },
            "type": "barpolar"
           }
          ],
          "carpet": [
           {
            "aaxis": {
             "endlinecolor": "#2a3f5f",
             "gridcolor": "white",
             "linecolor": "white",
             "minorgridcolor": "white",
             "startlinecolor": "#2a3f5f"
            },
            "baxis": {
             "endlinecolor": "#2a3f5f",
             "gridcolor": "white",
             "linecolor": "white",
             "minorgridcolor": "white",
             "startlinecolor": "#2a3f5f"
            },
            "type": "carpet"
           }
          ],
          "choropleth": [
           {
            "colorbar": {
             "outlinewidth": 0,
             "ticks": ""
            },
            "type": "choropleth"
           }
          ],
          "contour": [
           {
            "colorbar": {
             "outlinewidth": 0,
             "ticks": ""
            },
            "colorscale": [
             [
              0,
              "#0d0887"
             ],
             [
              0.1111111111111111,
              "#46039f"
             ],
             [
              0.2222222222222222,
              "#7201a8"
             ],
             [
              0.3333333333333333,
              "#9c179e"
             ],
             [
              0.4444444444444444,
              "#bd3786"
             ],
             [
              0.5555555555555556,
              "#d8576b"
             ],
             [
              0.6666666666666666,
              "#ed7953"
             ],
             [
              0.7777777777777778,
              "#fb9f3a"
             ],
             [
              0.8888888888888888,
              "#fdca26"
             ],
             [
              1,
              "#f0f921"
             ]
            ],
            "type": "contour"
           }
          ],
          "contourcarpet": [
           {
            "colorbar": {
             "outlinewidth": 0,
             "ticks": ""
            },
            "type": "contourcarpet"
           }
          ],
          "heatmap": [
           {
            "colorbar": {
             "outlinewidth": 0,
             "ticks": ""
            },
            "colorscale": [
             [
              0,
              "#0d0887"
             ],
             [
              0.1111111111111111,
              "#46039f"
             ],
             [
              0.2222222222222222,
              "#7201a8"
             ],
             [
              0.3333333333333333,
              "#9c179e"
             ],
             [
              0.4444444444444444,
              "#bd3786"
             ],
             [
              0.5555555555555556,
              "#d8576b"
             ],
             [
              0.6666666666666666,
              "#ed7953"
             ],
             [
              0.7777777777777778,
              "#fb9f3a"
             ],
             [
              0.8888888888888888,
              "#fdca26"
             ],
             [
              1,
              "#f0f921"
             ]
            ],
            "type": "heatmap"
           }
          ],
          "heatmapgl": [
           {
            "colorbar": {
             "outlinewidth": 0,
             "ticks": ""
            },
            "colorscale": [
             [
              0,
              "#0d0887"
             ],
             [
              0.1111111111111111,
              "#46039f"
             ],
             [
              0.2222222222222222,
              "#7201a8"
             ],
             [
              0.3333333333333333,
              "#9c179e"
             ],
             [
              0.4444444444444444,
              "#bd3786"
             ],
             [
              0.5555555555555556,
              "#d8576b"
             ],
             [
              0.6666666666666666,
              "#ed7953"
             ],
             [
              0.7777777777777778,
              "#fb9f3a"
             ],
             [
              0.8888888888888888,
              "#fdca26"
             ],
             [
              1,
              "#f0f921"
             ]
            ],
            "type": "heatmapgl"
           }
          ],
          "histogram": [
           {
            "marker": {
             "pattern": {
              "fillmode": "overlay",
              "size": 10,
              "solidity": 0.2
             }
            },
            "type": "histogram"
           }
          ],
          "histogram2d": [
           {
            "colorbar": {
             "outlinewidth": 0,
             "ticks": ""
            },
            "colorscale": [
             [
              0,
              "#0d0887"
             ],
             [
              0.1111111111111111,
              "#46039f"
             ],
             [
              0.2222222222222222,
              "#7201a8"
             ],
             [
              0.3333333333333333,
              "#9c179e"
             ],
             [
              0.4444444444444444,
              "#bd3786"
             ],
             [
              0.5555555555555556,
              "#d8576b"
             ],
             [
              0.6666666666666666,
              "#ed7953"
             ],
             [
              0.7777777777777778,
              "#fb9f3a"
             ],
             [
              0.8888888888888888,
              "#fdca26"
             ],
             [
              1,
              "#f0f921"
             ]
            ],
            "type": "histogram2d"
           }
          ],
          "histogram2dcontour": [
           {
            "colorbar": {
             "outlinewidth": 0,
             "ticks": ""
            },
            "colorscale": [
             [
              0,
              "#0d0887"
             ],
             [
              0.1111111111111111,
              "#46039f"
             ],
             [
              0.2222222222222222,
              "#7201a8"
             ],
             [
              0.3333333333333333,
              "#9c179e"
             ],
             [
              0.4444444444444444,
              "#bd3786"
             ],
             [
              0.5555555555555556,
              "#d8576b"
             ],
             [
              0.6666666666666666,
              "#ed7953"
             ],
             [
              0.7777777777777778,
              "#fb9f3a"
             ],
             [
              0.8888888888888888,
              "#fdca26"
             ],
             [
              1,
              "#f0f921"
             ]
            ],
            "type": "histogram2dcontour"
           }
          ],
          "mesh3d": [
           {
            "colorbar": {
             "outlinewidth": 0,
             "ticks": ""
            },
            "type": "mesh3d"
           }
          ],
          "parcoords": [
           {
            "line": {
             "colorbar": {
              "outlinewidth": 0,
              "ticks": ""
             }
            },
            "type": "parcoords"
           }
          ],
          "pie": [
           {
            "automargin": true,
            "type": "pie"
           }
          ],
          "scatter": [
           {
            "fillpattern": {
             "fillmode": "overlay",
             "size": 10,
             "solidity": 0.2
            },
            "type": "scatter"
           }
          ],
          "scatter3d": [
           {
            "line": {
             "colorbar": {
              "outlinewidth": 0,
              "ticks": ""
             }
            },
            "marker": {
             "colorbar": {
              "outlinewidth": 0,
              "ticks": ""
             }
            },
            "type": "scatter3d"
           }
          ],
          "scattercarpet": [
           {
            "marker": {
             "colorbar": {
              "outlinewidth": 0,
              "ticks": ""
             }
            },
            "type": "scattercarpet"
           }
          ],
          "scattergeo": [
           {
            "marker": {
             "colorbar": {
              "outlinewidth": 0,
              "ticks": ""
             }
            },
            "type": "scattergeo"
           }
          ],
          "scattergl": [
           {
            "marker": {
             "colorbar": {
              "outlinewidth": 0,
              "ticks": ""
             }
            },
            "type": "scattergl"
           }
          ],
          "scattermapbox": [
           {
            "marker": {
             "colorbar": {
              "outlinewidth": 0,
              "ticks": ""
             }
            },
            "type": "scattermapbox"
           }
          ],
          "scatterpolar": [
           {
            "marker": {
             "colorbar": {
              "outlinewidth": 0,
              "ticks": ""
             }
            },
            "type": "scatterpolar"
           }
          ],
          "scatterpolargl": [
           {
            "marker": {
             "colorbar": {
              "outlinewidth": 0,
              "ticks": ""
             }
            },
            "type": "scatterpolargl"
           }
          ],
          "scatterternary": [
           {
            "marker": {
             "colorbar": {
              "outlinewidth": 0,
              "ticks": ""
             }
            },
            "type": "scatterternary"
           }
          ],
          "surface": [
           {
            "colorbar": {
             "outlinewidth": 0,
             "ticks": ""
            },
            "colorscale": [
             [
              0,
              "#0d0887"
             ],
             [
              0.1111111111111111,
              "#46039f"
             ],
             [
              0.2222222222222222,
              "#7201a8"
             ],
             [
              0.3333333333333333,
              "#9c179e"
             ],
             [
              0.4444444444444444,
              "#bd3786"
             ],
             [
              0.5555555555555556,
              "#d8576b"
             ],
             [
              0.6666666666666666,
              "#ed7953"
             ],
             [
              0.7777777777777778,
              "#fb9f3a"
             ],
             [
              0.8888888888888888,
              "#fdca26"
             ],
             [
              1,
              "#f0f921"
             ]
            ],
            "type": "surface"
           }
          ],
          "table": [
           {
            "cells": {
             "fill": {
              "color": "#EBF0F8"
             },
             "line": {
              "color": "white"
             }
            },
            "header": {
             "fill": {
              "color": "#C8D4E3"
             },
             "line": {
              "color": "white"
             }
            },
            "type": "table"
           }
          ]
         },
         "layout": {
          "annotationdefaults": {
           "arrowcolor": "#2a3f5f",
           "arrowhead": 0,
           "arrowwidth": 1
          },
          "autotypenumbers": "strict",
          "coloraxis": {
           "colorbar": {
            "outlinewidth": 0,
            "ticks": ""
           }
          },
          "colorscale": {
           "diverging": [
            [
             0,
             "#8e0152"
            ],
            [
             0.1,
             "#c51b7d"
            ],
            [
             0.2,
             "#de77ae"
            ],
            [
             0.3,
             "#f1b6da"
            ],
            [
             0.4,
             "#fde0ef"
            ],
            [
             0.5,
             "#f7f7f7"
            ],
            [
             0.6,
             "#e6f5d0"
            ],
            [
             0.7,
             "#b8e186"
            ],
            [
             0.8,
             "#7fbc41"
            ],
            [
             0.9,
             "#4d9221"
            ],
            [
             1,
             "#276419"
            ]
           ],
           "sequential": [
            [
             0,
             "#0d0887"
            ],
            [
             0.1111111111111111,
             "#46039f"
            ],
            [
             0.2222222222222222,
             "#7201a8"
            ],
            [
             0.3333333333333333,
             "#9c179e"
            ],
            [
             0.4444444444444444,
             "#bd3786"
            ],
            [
             0.5555555555555556,
             "#d8576b"
            ],
            [
             0.6666666666666666,
             "#ed7953"
            ],
            [
             0.7777777777777778,
             "#fb9f3a"
            ],
            [
             0.8888888888888888,
             "#fdca26"
            ],
            [
             1,
             "#f0f921"
            ]
           ],
           "sequentialminus": [
            [
             0,
             "#0d0887"
            ],
            [
             0.1111111111111111,
             "#46039f"
            ],
            [
             0.2222222222222222,
             "#7201a8"
            ],
            [
             0.3333333333333333,
             "#9c179e"
            ],
            [
             0.4444444444444444,
             "#bd3786"
            ],
            [
             0.5555555555555556,
             "#d8576b"
            ],
            [
             0.6666666666666666,
             "#ed7953"
            ],
            [
             0.7777777777777778,
             "#fb9f3a"
            ],
            [
             0.8888888888888888,
             "#fdca26"
            ],
            [
             1,
             "#f0f921"
            ]
           ]
          },
          "colorway": [
           "#636efa",
           "#EF553B",
           "#00cc96",
           "#ab63fa",
           "#FFA15A",
           "#19d3f3",
           "#FF6692",
           "#B6E880",
           "#FF97FF",
           "#FECB52"
          ],
          "font": {
           "color": "#2a3f5f"
          },
          "geo": {
           "bgcolor": "white",
           "lakecolor": "white",
           "landcolor": "#E5ECF6",
           "showlakes": true,
           "showland": true,
           "subunitcolor": "white"
          },
          "hoverlabel": {
           "align": "left"
          },
          "hovermode": "closest",
          "mapbox": {
           "style": "light"
          },
          "paper_bgcolor": "white",
          "plot_bgcolor": "#E5ECF6",
          "polar": {
           "angularaxis": {
            "gridcolor": "white",
            "linecolor": "white",
            "ticks": ""
           },
           "bgcolor": "#E5ECF6",
           "radialaxis": {
            "gridcolor": "white",
            "linecolor": "white",
            "ticks": ""
           }
          },
          "scene": {
           "xaxis": {
            "backgroundcolor": "#E5ECF6",
            "gridcolor": "white",
            "gridwidth": 2,
            "linecolor": "white",
            "showbackground": true,
            "ticks": "",
            "zerolinecolor": "white"
           },
           "yaxis": {
            "backgroundcolor": "#E5ECF6",
            "gridcolor": "white",
            "gridwidth": 2,
            "linecolor": "white",
            "showbackground": true,
            "ticks": "",
            "zerolinecolor": "white"
           },
           "zaxis": {
            "backgroundcolor": "#E5ECF6",
            "gridcolor": "white",
            "gridwidth": 2,
            "linecolor": "white",
            "showbackground": true,
            "ticks": "",
            "zerolinecolor": "white"
           }
          },
          "shapedefaults": {
           "line": {
            "color": "#2a3f5f"
           }
          },
          "ternary": {
           "aaxis": {
            "gridcolor": "white",
            "linecolor": "white",
            "ticks": ""
           },
           "baxis": {
            "gridcolor": "white",
            "linecolor": "white",
            "ticks": ""
           },
           "bgcolor": "#E5ECF6",
           "caxis": {
            "gridcolor": "white",
            "linecolor": "white",
            "ticks": ""
           }
          },
          "title": {
           "x": 0.05
          },
          "xaxis": {
           "automargin": true,
           "gridcolor": "white",
           "linecolor": "white",
           "ticks": "",
           "title": {
            "standoff": 15
           },
           "zerolinecolor": "white",
           "zerolinewidth": 2
          },
          "yaxis": {
           "automargin": true,
           "gridcolor": "white",
           "linecolor": "white",
           "ticks": "",
           "title": {
            "standoff": 15
           },
           "zerolinecolor": "white",
           "zerolinewidth": 2
          }
         }
        },
        "title": {
         "text": "Premium Cost compared to `eng` for `cl100k_base` tokeniker by `Language Wealth`"
        },
        "width": 1200,
        "xaxis": {
         "anchor": "y",
         "domain": [
          0,
          1
         ],
         "range": [
          0,
          40000
         ],
         "title": {
          "text": "w"
         },
         "type": "linear"
        },
        "yaxis": {
         "anchor": "x",
         "autorange": true,
         "domain": [
          0,
          1
         ],
         "range": [
          -2.645882815337599,
          16.425224091903686
         ],
         "title": {
          "text": "cost"
         },
         "type": "linear"
        }
       }
      },
      "image/png": "[encoded data removed]",
      "text/html": [
       "<div>                            <div id=\"c8bc77ad-e636-4a09-b357-cdfc98f60d7c\" class=\"plotly-graph-div\" style=\"height:600px; width:1200px;\"></div>            <script type=\"text/javascript\">                require([\"plotly\"], function(Plotly) {                    window.PLOTLYENV=window.PLOTLYENV || {};                                    if (document.getElementById(\"c8bc77ad-e636-4a09-b357-cdfc98f60d7c\")) {                    Plotly.newPlot(                        \"c8bc77ad-e636-4a09-b357-cdfc98f60d7c\",                        [{\"hovertemplate\":\"\\u003cb\\u003e%{hovertext}\\u003c\\u002fb\\u003e\\u003cbr\\u003e\\u003cbr\\u003ew=%{x}\\u003cbr\\u003ecost=%{y}\\u003cbr\\u003epopulation_2022adj=%{marker.size}\\u003cbr\\u003eincomeLevel=%{marker.color}\\u003cextra\\u003e\\u003c\\u002fextra\\u003e\",\"hovertext\":[\"acm\",\"acq\",\"aeb\",\"afr\",\"aka\",\"als\",\"amh\",\"apc\",\"arb\",\"ars\",\"ary\",\"arz\",\"asm\",\"ast\",\"awa\",\"ayr\",\"azb\",\"azj\",\"bak\",\"bam\",\"bel\",\"bem\",\"ben\",\"bho\",\"bjn\",\"bod\",\"bos\",\"bug\",\"bul\",\"cat\",\"ceb\",\"ces\",\"cjk\",\"ckb\",\"crh\",\"cym\",\"dan\",\"deu\",\"dyu\",\"dzo\",\"ell\",\"eng\",\"eus\",\"ewe\",\"fao\",\"fij\",\"fin\",\"fon\",\"fra\",\"fuv\",\"gaz\",\"gla\",\"gle\",\"glg\",\"guj\",\"hat\",\"hau\",\"heb\",\"hin\",\"hrv\",\"hun\",\"hye\",\"ibo\",\"ilo\",\"ind\",\"isl\",\"ita\",\"jav\",\"jpn\",\"kab\",\"kac\",\"kam\",\"kan\",\"kas\",\"kat\",\"kaz\",\"kbp\",\"kea\",\"khk\",\"khm\",\"kin\",\"kir\",\"kmb\",\"kmr\",\"knc\",\"kor\",\"lao\",\"lij\",\"lim\",\"lin\",\"lit\",\"lmo\",\"ltz\",\"lua\",\"lug\",\"luo\",\"lus\",\"lvs\",\"mag\",\"mai\",\"mal\",\"mar\",\"mkd\",\"mlt\",\"mni\",\"mos\",\"mri\",\"mya\",\"nld\",\"npi\",\"nso\",\"nus\",\"nya\",\"oci\",\"ory\",\"pag\",\"pan\",\"pap\",\"pbt\",\"pes\",\"plt\",\"pol\",\"por\",\"prs\",\"ron\",\"run\",\"rus\",\"sag\",\"san\",\"sat\",\"shn\",\"sin\",\"slk\",\"slv\",\"smo\",\"sna\",\"snd\",\"som\",\"sot\",\"spa\",\"srp\",\"ssw\",\"swe\",\"swh\",\"tam\",\"taq\",\"tat\",\"tel\",\"tgk\",\"tgl\",\"tha\",\"tir\",\"tpi\",\"tsn\",\"tso\",\"tuk\",\"tum\",\"tur\",\"tzm\",\"uig\",\"ukr\",\"urd\",\"uzn\",\"vec\",\"vie\",\"war\",\"wol\",\"xho\",\"ydd\",\"yor\",\"yue\",\"zul\"],\"legendgroup\":\"\",\"marker\":{\"color\":[0.672,0.48750000000000004,0.7454545454545456,0.5866666666666667,0.5777777777777778,0.7222222222222222,0.6166666666666667,0.562962962962963,0.48,0.6666666666666666,0.6947368421052632,0.664864864864865,0.4,0.8,0.4,0.6,0.6,0.5857142857142856,0.5599999999999999,0.37142857142857144,0.6666666666666666,0.30000000000000004,0.6857142857142857,0.5,0.6,0.6571428571428573,0.7565217391304349,0.6666666666666666,0.72,0.6727272727272727,0.72,0.7533333333333334,0.3333333333333333,0.68,0.55,0.76,0.8,0.6901408450704225,0.26666666666666666,0.4000000000000001,0.6262295081967214,0.6222222222222222,0.75,0.4,0.8,0.75,0.7875000000000001,0.30000000000000004,0.5965217391304348,0.4,0.5333333333333333,0.8,0.8,0.75,0.5,0.7,0.3888888888888889,0.76,0.6115384615384616,0.7615384615384616,0.7612903225806452,0.55,0.6857142857142858,0.6666666666666666,0.7058823529411765,0.8000000000000002,0.7148148148148148,0.7333333333333334,0.7230769230769232,0.7000000000000001,0.5,0.4,0.7250000000000001,0.4,0.6571428571428571,0.6285714285714287,0.30000000000000004,0.6210526315789474,0.7333333333333334,0.6666666666666666,0.4571428571428572,0.5111111111111111,0.4,0.65625,0.28,0.6377358490566039,0.6222222222222222,0.8000000000000002,0.8,0.45454545454545453,0.7363636363636363,0.8,0.8,0.30000000000000004,0.5666666666666668,0.4,0.4000000000000001,0.7473684210526317,0.4,0.4,0.7066666666666668,0.7333333333333334,0.76,0.7142857142857143,0.4,0.30000000000000004,0.8,0.6470588235294118,0.7741935483870968,0.7153846153846154,0.6,0.2,0.32,0.8,0.5,0.6666666666666666,0.6421052631578948,0.8,0.6428571428571429,0.6972972972972973,0.5,0.7162790697674418,0.6444444444444445,0.676923076923077,0.7209302325581395,0.42857142857142855,0.6447761194029851,0.30000000000000004,0.4,0.4,0.5,0.7272727272727273,0.7555555555555556,0.7692307692307693,0.7000000000000001,0.6000000000000001,0.6142857142857142,0.6,0.5,0.6789473684210526,0.7351351351351351,0.4,0.790909090909091,0.5047619047619047,0.6962962962962963,0.26666666666666666,0.5538461538461539,0.6941176470588236,0.5454545454545454,0.7291666666666666,0.725925925925926,0.6384615384615385,0.6000000000000001,0.55,0.4,0.4444444444444444,0.30000000000000004,0.6576271186440679,0.6666666666666666,0.5636363636363636,0.6943396226415095,0.6789473684210526,0.6125,0.7333333333333334,0.7142857142857143,0.6000000000000001,0.5846153846153846,0.5,0.7142857142857143,0.5111111111111112,0.6647058823529413,0.39999999999999997],\"coloraxis\":\"coloraxis\",\"opacity\":0.5,\"size\":[18606581.0,12694834.0,12240945.0,65837380.0,12140954.0,1331299.0,64946773.0,55329899.0,332459000.0,19540846.0,55439449.0,108877629.0,17490761.0,728298.0,5372285.0,1692745.0,12074151.0,10302594.0,1176413.0,19823637.0,3668566.0,6312369.0,297023859.0,59920345.0,3928919.0,1902434.0,2608856.0,5030376.0,7433181.0,12402153.0,21763577.0,12308045.0,3786255.0,5684612.0,543960.0,549017.0,6150124.0,181911040.0,15614443.0,321275.0,12816357.0,1737483695.0,1118042.0,6625599.0,74513.0,341840.0,21428085.0,2409684.0,319561939.0,17840209.0,24750842.0,62420.0,1338363.0,3472801.0,71557624.0,13771779.0,94145247.0,10189419.0,697251233.0,6231897.0,12309910.0,3675981.0,33194195.0,8827678.0,227382598.0,374694.0,66897058.0,73440050.0,122422240.0,7899370.0,1115496.0,5684690.0,66983781.0,8123801.0,3912529.0,17380273.0,1292355.0,890887.0,2947221.0,18382666.0,15249200.0,5759701.0,2220309.0,16672903.0,9752379.0,64917506.0,5020133.0,403518.0,1461478.0,43183092.0,2811841.0,4102890.0,553043.0,19021521.0,14794187.0,5760206.0,968286.0,1996051.0,23897749.0,28771814.0,42698188.0,113269060.0,1649420.0,710310.0,2028071.0,12523013.0,212694.0,48513329.0,31934055.0,33243517.0,15466019.0,1763705.0,16644579.0,1390264.0,45378324.0,1696028.0,42146064.0,5394928.0,21324923.0,79697088.0,12857025.0,40589758.0,269417058.0,36760398.0,24741382.0,13967493.0,250267650.0,5925237.0,35196.0,8699573.0,4895001.0,18082649.0,7463394.0,2324145.0,3317204.0,13560068.0,35922486.0,25276952.0,15142852.0,595898580.0,9822600.0,5219375.0,30061908.0,90355442.0,99363368.0,919624.0,4837385.0,109134150.0,10538203.0,107011427.0,70336181.0,11976444.0,6820532.0,62689823.0,11550933.0,6292670.0,2653503.0,112243960.0,3188939.0,11188429.0,33943705.0,264353604.0,29290959.0,3974558.0,89373561.0,3559879.0,23829688.0,21638367.0,451255.0,49493154.0,86702360.0,31281829.0],\"sizemode\":\"area\",\"sizeref\":308885.99022222223,\"symbol\":\"circle\"},\"mode\":\"markers\",\"name\":\"\",\"orientation\":\"v\",\"showlegend\":false,\"x\":[7543.131612585549,2595.585862246689,6253.115427158833,5676.207960732274,3407.152128256886,18091.642943314688,1629.9172457614854,11246.075082173014,7706.676159197123,25579.017558889464,4602.765950003651,7443.433621238459,2407.2303568398074,29604.469149222696,2215.3703542004414,4891.279148360835,5375.1823966849815,8077.67496524644,14586.193659529335,852.7603433638267,8458.690287799294,1377.7995079796137,3321.48729869045,2387.2406892630083,4798.481798285877,10627.939635520206,18786.90313966438,4997.630737990869,18161.66067420217,32405.208859226594,3810.2303034987767,26461.126961235674,2116.1922305738026,5943.873854259608,5266.820918040918,45983.42761142918,67624.90619443118,35819.78728497108,2003.9144569019059,100.0442108327314,25123.9609462025,26306.84587361024,30075.377753154506,1885.677340846774,67218.25693677421,9407.587025965366,13249.159712445777,1291.291547992345,23379.826138154487,2158.643893146028,1147.4860016386967,46304.10646658208,103188.99852870981,25904.370537761573,3260.3144744233327,7839.64684890356,1776.3783139674035,51644.445624179214,2912.8122730232944,24607.518960436984,20020.956358159146,7936.850692618825,2478.672593441818,4592.790235480589,4935.273283300879,73819.19837049894,36204.89754302427,4916.251018719469,33974.18901816362,9702.283909354413,1620.8182406855362,2099.30193826696,2573.945146799582,2370.8017951375164,7833.2435159363495,11289.828030630259,947.7091701217473,11700.143214595162,6167.0005851031,3186.3012080632757,1072.7401032269395,2368.6117948585716,3000.396685498399,9517.742675985237,2042.212664404591,27776.458441410752,4484.746863267653,171145.82090035046,53704.56511508502,747.0355331226399,29099.516766223765,40190.37423373749,106536.26112803907,662.3541896791797,1102.674206804751,2055.100944527308,2385.6449519082507,24910.45928089867,2398.7643456532783,2275.3799942972746,3753.4198151905703,2552.3131832275667,20911.60507137482,35117.524711757214,2413.502602600992,1064.374203108655,49579.489128051246,1515.7742300361763,50623.2892369705,3204.196031960952,6767.490934436255,138.20895186791552,828.5286550201948,78776.5613503366,2416.8037019386393,3740.628416446183,5003.4663758413635,31314.962027088714,1291.6124890041842,5956.127128261852,421.8407450159947,21555.837906107092,10163.747632320263,661.9045414432273,18373.62307548993,407.38674562572425,13921.688106556694,476.30647127511185,2200.634937605481,2410.6809106265464,1270.962392792096,4725.643459038925,23843.945267327013,29528.62465372569,21410.67781844811,1912.2241484892318,2067.8918129817607,2572.548353607051,6042.039799975352,18448.930391330985,13951.374542213352,6171.523525425155,26631.377674947747,1760.04894094185,5070.330469030525,1010.4264891114216,13700.52858690674,3201.082290272974,1707.05644564632,8437.230976857407,7312.94163340151,18175.399128441306,3149.366184741379,5480.980379683875,4017.0960395895668,6735.698815415366,812.3922197553342,11569.701266090446,5538.420927687495,12640.48335883771,11709.769525981439,2376.6415342461137,2712.2081369882003,34589.35144407701,6091.663740248868,3566.1578349721754,1895.5974094951914,6752.098206541516,61969.32267855234,2576.646056672214,17247.621512055444,6676.459551959446],\"xaxis\":\"x\",\"y\":[3.0007307343223384,3.0316736302587217,2.935153030746194,1.7051422103030622,2.7383589371759722,2.2697449652770945,7.705929472096874,2.8449173326526425,2.7642455624992954,3.059073739528037,2.9863158966906367,2.9884128048930503,6.237912649194907,1.5951382253806814,4.7978976166789105,2.2132112263985446,3.3487798373519158,2.6751950142964662,4.308189086542974,2.5943398879210178,3.5481035259902813,2.2432169474432673,5.877417375837583,4.722551675307431,2.776297419811197,11.37653043226391,1.893455572083671,1.994676592475988,2.655355178062571,1.7278281672146922,1.956616539799298,2.13029290988602,1.994868730721641,4.869182695287233,2.1272687687456395,2.16612293267088,1.6342581833627516,1.5989462275225308,2.096919038375192,12.45929748661326,5.198570251888484,1.0,1.9068599378093742,2.7714230386038308,2.1032959955228145,2.189001501571473,2.012123500353218,3.7484980659929623,1.6206789501944112,1.8942409316341617,2.3439527798290283,2.445417886792841,2.357116971912392,1.578325788684656,7.763391329622801,1.7625872442973414,2.0184522322979848,3.6888862986748103,4.821500508442177,1.8537626419686744,2.171144332095264,9.990197434702646,2.5008983472024,2.0790876900413484,1.5630490479053394,2.1636789959410114,1.6625573828487523,1.7498646396792958,2.3041225157188707,2.4918268403593102,2.403786044303041,2.2068801969834393,8.973210644483132,4.687832041743954,9.884888680855841,3.830281746835178,4.799921109220812,1.7425113720463195,3.80667681683381,8.8667440574414,2.154008217407018,3.5421634950215783,2.1641067543412285,2.231329009917956,3.0372986924005265,2.398143796236063,9.732260676348531,2.0070925443445398,1.8298652355780087,1.8913337211503525,2.211593014318654,2.072500687946787,2.0036548823621976,1.976483266410053,1.9956085137961435,1.8490691366342542,2.03164170978881,2.3677465204610586,4.737560223856157,4.938703650389578,9.04924675795549,5.107235498475261,2.795054146213778,2.449787424980242,6.82067158614608,2.3139283328124227,2.3856658323632733,11.817972965315922,1.62329674672602,4.83796915028221,2.215206106651403,4.031436833053848,2.1213743769364544,1.8517874188679528,12.594206220046544,1.5817994522261896,7.948821989442483,1.7614355353662192,3.799872415477013,3.3010242783851806,2.2839201349491662,1.9450707969313812,1.4898468663614808,3.190840405835147,1.8955597515540819,2.1646241750858066,2.486563568400427,2.1113909810988254,5.00963679067176,12.962892241210177,15.328764904257177,8.789215421310667,2.1563777993149986,1.9025683442235553,2.3101928141979204,2.172313130420417,4.0209342426430394,2.2409449506590913,2.245488049537201,1.5654680709760074,2.9336459214602764,2.1958554892218727,1.5933939392913068,1.9765001276532637,7.761549958218314,6.2832030370384935,3.7770306639693056,8.426995195314177,3.67385689367635,2.0782114570410664,4.402135036376465,7.89991768240613,2.0754686112538834,2.3082934082526037,2.291191790987688,2.4229613707722857,2.6144529955570492,1.9451286273218424,10.150778827413847,5.219701178190199,2.9975085929802576,4.401929325651385,2.192623458937091,1.7235692811432668,2.477658180679506,1.9796589125536876,1.9644836093951608,2.081685580418545,5.6029954307684005,2.9848977518257804,2.111598697437899,2.2336995810065807],\"yaxis\":\"y\",\"type\":\"scatter\"}],                        {\"template\":{\"data\":{\"histogram2dcontour\":[{\"type\":\"histogram2dcontour\",\"colorbar\":{\"outlinewidth\":0,\"ticks\":\"\"},\"colorscale\":[[0.0,\"#0d0887\"],[0.1111111111111111,\"#46039f\"],[0.2222222222222222,\"#7201a8\"],[0.3333333333333333,\"#9c179e\"],[0.4444444444444444,\"#bd3786\"],[0.5555555555555556,\"#d8576b\"],[0.6666666666666666,\"#ed7953\"],[0.7777777777777778,\"#fb9f3a\"],[0.8888888888888888,\"#fdca26\"],[1.0,\"#f0f921\"]]}],\"choropleth\":[{\"type\":\"choropleth\",\"colorbar\":{\"outlinewidth\":0,\"ticks\":\"\"}}],\"histogram2d\":[{\"type\":\"histogram2d\",\"colorbar\":{\"outlinewidth\":0,\"ticks\":\"\"},\"colorscale\":[[0.0,\"#0d0887\"],[0.1111111111111111,\"#46039f\"],[0.2222222222222222,\"#7201a8\"],[0.3333333333333333,\"#9c179e\"],[0.4444444444444444,\"#bd3786\"],[0.5555555555555556,\"#d8576b\"],[0.6666666666666666,\"#ed7953\"],[0.7777777777777778,\"#fb9f3a\"],[0.8888888888888888,\"#fdca26\"],[1.0,\"#f0f921\"]]}],\"heatmap\":[{\"type\":\"heatmap\",\"colorbar\":{\"outlinewidth\":0,\"ticks\":\"\"},\"colorscale\":[[0.0,\"#0d0887\"],[0.1111111111111111,\"#46039f\"],[0.2222222222222222,\"#7201a8\"],[0.3333333333333333,\"#9c179e\"],[0.4444444444444444,\"#bd3786\"],[0.5555555555555556,\"#d8576b\"],[0.6666666666666666,\"#ed7953\"],[0.7777777777777778,\"#fb9f3a\"],[0.8888888888888888,\"#fdca26\"],[1.0,\"#f0f921\"]]}],\"heatmapgl\":[{\"type\":\"heatmapgl\",\"colorbar\":{\"outlinewidth\":0,\"ticks\":\"\"},\"colorscale\":[[0.0,\"#0d0887\"],[0.1111111111111111,\"#46039f\"],[0.2222222222222222,\"#7201a8\"],[0.3333333333333333,\"#9c179e\"],[0.4444444444444444,\"#bd3786\"],[0.5555555555555556,\"#d8576b\"],[0.6666666666666666,\"#ed7953\"],[0.7777777777777778,\"#fb9f3a\"],[0.8888888888888888,\"#fdca26\"],[1.0,\"#f0f921\"]]}],\"contourcarpet\":[{\"type\":\"contourcarpet\",\"colorbar\":{\"outlinewidth\":0,\"ticks\":\"\"}}],\"contour\":[{\"type\":\"contour\",\"colorbar\":{\"outlinewidth\":0,\"ticks\":\"\"},\"colorscale\":[[0.0,\"#0d0887\"],[0.1111111111111111,\"#46039f\"],[0.2222222222222222,\"#7201a8\"],[0.3333333333333333,\"#9c179e\"],[0.4444444444444444,\"#bd3786\"],[0.5555555555555556,\"#d8576b\"],[0.6666666666666666,\"#ed7953\"],[0.7777777777777778,\"#fb9f3a\"],[0.8888888888888888,\"#fdca26\"],[1.0,\"#f0f921\"]]}],\"surface\":[{\"type\":\"surface\",\"colorbar\":{\"outlinewidth\":0,\"ticks\":\"\"},\"colorscale\":[[0.0,\"#0d0887\"],[0.1111111111111111,\"#46039f\"],[0.2222222222222222,\"#7201a8\"],[0.3333333333333333,\"#9c179e\"],[0.4444444444444444,\"#bd3786\"],[0.5555555555555556,\"#d8576b\"],[0.6666666666666666,\"#ed7953\"],[0.7777777777777778,\"#fb9f3a\"],[0.8888888888888888,\"#fdca26\"],[1.0,\"#f0f921\"]]}],\"mesh3d\":[{\"type\":\"mesh3d\",\"colorbar\":{\"outlinewidth\":0,\"ticks\":\"\"}}],\"scatter\":[{\"fillpattern\":{\"fillmode\":\"overlay\",\"size\":10,\"solidity\":0.2},\"type\":\"scatter\"}],\"parcoords\":[{\"type\":\"parcoords\",\"line\":{\"colorbar\":{\"outlinewidth\":0,\"ticks\":\"\"}}}],\"scatterpolargl\":[{\"type\":\"scatterpolargl\",\"marker\":{\"colorbar\":{\"outlinewidth\":0,\"ticks\":\"\"}}}],\"bar\":[{\"error_x\":{\"color\":\"#2a3f5f\"},\"error_y\":{\"color\":\"#2a3f5f\"},\"marker\":{\"line\":{\"color\":\"#E5ECF6\",\"width\":0.5},\"pattern\":{\"fillmode\":\"overlay\",\"size\":10,\"solidity\":0.2}},\"type\":\"bar\"}],\"scattergeo\":[{\"type\":\"scattergeo\",\"marker\":{\"colorbar\":{\"outlinewidth\":0,\"ticks\":\"\"}}}],\"scatterpolar\":[{\"type\":\"scatterpolar\",\"marker\":{\"colorbar\":{\"outlinewidth\":0,\"ticks\":\"\"}}}],\"histogram\":[{\"marker\":{\"pattern\":{\"fillmode\":\"overlay\",\"size\":10,\"solidity\":0.2}},\"type\":\"histogram\"}],\"scattergl\":[{\"type\":\"scattergl\",\"marker\":{\"colorbar\":{\"outlinewidth\":0,\"ticks\":\"\"}}}],\"scatter3d\":[{\"type\":\"scatter3d\",\"line\":{\"colorbar\":{\"outlinewidth\":0,\"ticks\":\"\"}},\"marker\":{\"colorbar\":{\"outlinewidth\":0,\"ticks\":\"\"}}}],\"scattermapbox\":[{\"type\":\"scattermapbox\",\"marker\":{\"colorbar\":{\"outlinewidth\":0,\"ticks\":\"\"}}}],\"scatterternary\":[{\"type\":\"scatterternary\",\"marker\":{\"colorbar\":{\"outlinewidth\":0,\"ticks\":\"\"}}}],\"scattercarpet\":[{\"type\":\"scattercarpet\",\"marker\":{\"colorbar\":{\"outlinewidth\":0,\"ticks\":\"\"}}}],\"carpet\":[{\"aaxis\":{\"endlinecolor\":\"#2a3f5f\",\"gridcolor\":\"white\",\"linecolor\":\"white\",\"minorgridcolor\":\"white\",\"startlinecolor\":\"#2a3f5f\"},\"baxis\":{\"endlinecolor\":\"#2a3f5f\",\"gridcolor\":\"white\",\"linecolor\":\"white\",\"minorgridcolor\":\"white\",\"startlinecolor\":\"#2a3f5f\"},\"type\":\"carpet\"}],\"table\":[{\"cells\":{\"fill\":{\"color\":\"#EBF0F8\"},\"line\":{\"color\":\"white\"}},\"header\":{\"fill\":{\"color\":\"#C8D4E3\"},\"line\":{\"color\":\"white\"}},\"type\":\"table\"}],\"barpolar\":[{\"marker\":{\"line\":{\"color\":\"#E5ECF6\",\"width\":0.5},\"pattern\":{\"fillmode\":\"overlay\",\"size\":10,\"solidity\":0.2}},\"type\":\"barpolar\"}],\"pie\":[{\"automargin\":true,\"type\":\"pie\"}]},\"layout\":{\"autotypenumbers\":\"strict\",\"colorway\":[\"#636efa\",\"#EF553B\",\"#00cc96\",\"#ab63fa\",\"#FFA15A\",\"#19d3f3\",\"#FF6692\",\"#B6E880\",\"#FF97FF\",\"#FECB52\"],\"font\":{\"color\":\"#2a3f5f\"},\"hovermode\":\"closest\",\"hoverlabel\":{\"align\":\"left\"},\"paper_bgcolor\":\"white\",\"plot_bgcolor\":\"#E5ECF6\",\"polar\":{\"bgcolor\":\"#E5ECF6\",\"angularaxis\":{\"gridcolor\":\"white\",\"linecolor\":\"white\",\"ticks\":\"\"},\"radialaxis\":{\"gridcolor\":\"white\",\"linecolor\":\"white\",\"ticks\":\"\"}},\"ternary\":{\"bgcolor\":\"#E5ECF6\",\"aaxis\":{\"gridcolor\":\"white\",\"linecolor\":\"white\",\"ticks\":\"\"},\"baxis\":{\"gridcolor\":\"white\",\"linecolor\":\"white\",\"ticks\":\"\"},\"caxis\":{\"gridcolor\":\"white\",\"linecolor\":\"white\",\"ticks\":\"\"}},\"coloraxis\":{\"colorbar\":{\"outlinewidth\":0,\"ticks\":\"\"}},\"colorscale\":{\"sequential\":[[0.0,\"#0d0887\"],[0.1111111111111111,\"#46039f\"],[0.2222222222222222,\"#7201a8\"],[0.3333333333333333,\"#9c179e\"],[0.4444444444444444,\"#bd3786\"],[0.5555555555555556,\"#d8576b\"],[0.6666666666666666,\"#ed7953\"],[0.7777777777777778,\"#fb9f3a\"],[0.8888888888888888,\"#fdca26\"],[1.0,\"#f0f921\"]],\"sequentialminus\":[[0.0,\"#0d0887\"],[0.1111111111111111,\"#46039f\"],[0.2222222222222222,\"#7201a8\"],[0.3333333333333333,\"#9c179e\"],[0.4444444444444444,\"#bd3786\"],[0.5555555555555556,\"#d8576b\"],[0.6666666666666666,\"#ed7953\"],[0.7777777777777778,\"#fb9f3a\"],[0.8888888888888888,\"#fdca26\"],[1.0,\"#f0f921\"]],\"diverging\":[[0,\"#8e0152\"],[0.1,\"#c51b7d\"],[0.2,\"#de77ae\"],[0.3,\"#f1b6da\"],[0.4,\"#fde0ef\"],[0.5,\"#f7f7f7\"],[0.6,\"#e6f5d0\"],[0.7,\"#b8e186\"],[0.8,\"#7fbc41\"],[0.9,\"#4d9221\"],[1,\"#276419\"]]},\"xaxis\":{\"gridcolor\":\"white\",\"linecolor\":\"white\",\"ticks\":\"\",\"title\":{\"standoff\":15},\"zerolinecolor\":\"white\",\"automargin\":true,\"zerolinewidth\":2},\"yaxis\":{\"gridcolor\":\"white\",\"linecolor\":\"white\",\"ticks\":\"\",\"title\":{\"standoff\":15},\"zerolinecolor\":\"white\",\"automargin\":true,\"zerolinewidth\":2},\"scene\":{\"xaxis\":{\"backgroundcolor\":\"#E5ECF6\",\"gridcolor\":\"white\",\"linecolor\":\"white\",\"showbackground\":true,\"ticks\":\"\",\"zerolinecolor\":\"white\",\"gridwidth\":2},\"yaxis\":{\"backgroundcolor\":\"#E5ECF6\",\"gridcolor\":\"white\",\"linecolor\":\"white\",\"showbackground\":true,\"ticks\":\"\",\"zerolinecolor\":\"white\",\"gridwidth\":2},\"zaxis\":{\"backgroundcolor\":\"#E5ECF6\",\"gridcolor\":\"white\",\"linecolor\":\"white\",\"showbackground\":true,\"ticks\":\"\",\"zerolinecolor\":\"white\",\"gridwidth\":2}},\"shapedefaults\":{\"line\":{\"color\":\"#2a3f5f\"}},\"annotationdefaults\":{\"arrowcolor\":\"#2a3f5f\",\"arrowhead\":0,\"arrowwidth\":1},\"geo\":{\"bgcolor\":\"white\",\"landcolor\":\"#E5ECF6\",\"subunitcolor\":\"white\",\"showland\":true,\"showlakes\":true,\"lakecolor\":\"white\"},\"title\":{\"x\":0.05},\"mapbox\":{\"style\":\"light\"}}},\"xaxis\":{\"anchor\":\"y\",\"domain\":[0.0,1.0],\"title\":{\"text\":\"w\"},\"range\":[0,40000]},\"yaxis\":{\"anchor\":\"x\",\"domain\":[0.0,1.0],\"title\":{\"text\":\"cost\"}},\"coloraxis\":{\"colorbar\":{\"title\":{\"text\":\"incomeLevel\"}},\"colorscale\":[[0.0,\"#0d0887\"],[0.1111111111111111,\"#46039f\"],[0.2222222222222222,\"#7201a8\"],[0.3333333333333333,\"#9c179e\"],[0.4444444444444444,\"#bd3786\"],[0.5555555555555556,\"#d8576b\"],[0.6666666666666666,\"#ed7953\"],[0.7777777777777778,\"#fb9f3a\"],[0.8888888888888888,\"#fdca26\"],[1.0,\"#f0f921\"]]},\"legend\":{\"tracegroupgap\":0,\"itemsizing\":\"constant\"},\"title\":{\"text\":\"Premium Cost compared to `eng` for `cl100k_base` tokeniker by `Language Wealth`\"},\"autosize\":true,\"width\":1200,\"height\":600},                        {\"responsive\": true}                    ).then(function(){\n",
       "                            \n",
       "var gd = document.getElementById('c8bc77ad-e636-4a09-b357-cdfc98f60d7c');\n",
       "var x = new MutationObserver(function (mutations, observer) {{\n",
       "        var display = window.getComputedStyle(gd).display;\n",
       "        if (!display || display === 'none') {{\n",
       "            console.log([gd, 'removed!']);\n",
       "            Plotly.purge(gd);\n",
       "            observer.disconnect();\n",
       "        }}\n",
       "}});\n",
       "\n",
       "// Listen for the removal of the full notebook cells\n",
       "var notebookContainer = gd.closest('#notebook-container');\n",
       "if (notebookContainer) {{\n",
       "    x.observe(notebookContainer, {childList: true});\n",
       "}}\n",
       "\n",
       "// Listen for the clearing of the current output cell\n",
       "var outputEl = gd.closest('.output');\n",
       "if (outputEl) {{\n",
       "    x.observe(outputEl, {childList: true});\n",
       "}}\n",
       "\n",
       "                        })                };                });            </script>        </div>"
      ]
     },
     "metadata": {},
     "output_type": "display_data"
    }
   ],
   "source": [
    "fig = px.scatter(\n",
    "    W,\n",
    "    x=\"w\",\n",
    "    y=\"cost\",\n",
    "    size=\"population_2022adj\",\n",
    "    color=\"incomeLevel\",\n",
    "    hover_name=\"lang\",\n",
    "    # log_x=True,\n",
    "    # log_y=False,\n",
    "    size_max=75,\n",
    "    range_x=(0, 40_000),\n",
    "    opacity=0.5,\n",
    "    title=\"Premium Cost compared to `eng` for `cl100k_base` tokeniker by `Language Wealth`\",\n",
    ")\n",
    "\n",
    "fig.update_layout(\n",
    "    autosize=True,\n",
    "    width=1200,\n",
    "    height=600,\n",
    ")\n",
    "fig.show()"
   ]
  }
 ],
 "metadata": {
  "kernelspec": {
   "display_name": "Python 3 (ipykernel)",
   "language": "python",
   "name": "python3"
  },
  "language_info": {
   "codemirror_mode": {
    "name": "ipython",
    "version": 3
   },
   "file_extension": ".py",
   "mimetype": "text/x-python",
   "name": "python",
   "nbconvert_exporter": "python",
   "pygments_lexer": "ipython3",
   "version": "3.10.13"
  }
 },
 "nbformat": 4,
 "nbformat_minor": 5
}
