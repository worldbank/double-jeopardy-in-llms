{
 "cells": [
  {
   "cell_type": "code",
   "execution_count": 1,
   "id": "a83c8c2a-e8de-44db-92c6-6fcae154be7f",
   "metadata": {},
   "outputs": [],
   "source": [
    "import httpx\n",
    "import polars as pl"
   ]
  },
  {
   "cell_type": "markdown",
   "id": "240e7203-ce5c-4f50-a1e4-3f45859ef030",
   "metadata": {},
   "source": [
    "## Data"
   ]
  },
  {
   "cell_type": "markdown",
   "id": "b01cf03b-5ad5-40e8-b6c0-88d202ff8796",
   "metadata": {},
   "source": [
    "### FLoRes-200"
   ]
  },
  {
   "cell_type": "code",
   "execution_count": 2,
   "id": "c18d1ebe-e27e-4dc7-ac6b-43d720122fe8",
   "metadata": {},
   "outputs": [],
   "source": [
    "df_flores = pl.read_excel(\n",
    "    \"../data/processed/flores-200-language-database.xlsx\", sheet_name=\"FLORES200P\"\n",
    ")"
   ]
  },
  {
   "cell_type": "markdown",
   "id": "9fd5cace-5c5b-44c8-963b-d12f7f10d5a6",
   "metadata": {},
   "source": [
    "### Ethnologue\n",
    "\n",
    "In this Jupyter notebook, we are downloading data from [Ethnologue.com](http://ethnologue.com/), a comprehensive reference work cataloging all of the world's known living languages. Ethnologue provides valuable information about languages, including their classification, population statistics, geographical distribution, and linguistic features. "
   ]
  },
  {
   "cell_type": "code",
   "execution_count": 3,
   "id": "83b6c862-294e-4740-9c0e-ee457b8f3c15",
   "metadata": {},
   "outputs": [],
   "source": [
    "df_ethnologue = pl.read_csv(\"../data/raw/LanguageIndex.tab\", separator=\"\\t\")"
   ]
  },
  {
   "cell_type": "markdown",
   "id": "08ddf960-e137-48ce-9ad6-943ee91a6ba1",
   "metadata": {},
   "source": [
    "### World Bank Country API \n",
    "\n",
    "The [World Bank Country API](https://datahelpdesk.worldbank.org/knowledgebase/articles/898590-country-api-queries) returns the current (as of 2024) [World Bank Country and Lending Groups](https://datahelpdesk.worldbank.org/knowledgebase/articles/906519-world-bank-country-and-lending-groups)."
   ]
  },
  {
   "cell_type": "code",
   "execution_count": 4,
   "id": "aebfbc88-4b21-4e6e-9675-f522b4a614b5",
   "metadata": {},
   "outputs": [
    {
     "data": {
      "text/plain": [
       "[{'page': '1', 'pages': '1', 'per_page': '50', 'total': '7'},\n",
       " [{'id': 'HIC', 'iso2code': 'XD', 'value': 'High income'},\n",
       "  {'id': 'INX', 'iso2code': 'XY', 'value': 'Not classified'},\n",
       "  {'id': 'LIC', 'iso2code': 'XM', 'value': 'Low income'},\n",
       "  {'id': 'LMC', 'iso2code': 'XN', 'value': 'Lower middle income'},\n",
       "  {'id': 'LMY', 'iso2code': 'XO', 'value': 'Low & middle income'},\n",
       "  {'id': 'MIC', 'iso2code': 'XP', 'value': 'Middle income'},\n",
       "  {'id': 'UMC', 'iso2code': 'XT', 'value': 'Upper middle income'}]]"
      ]
     },
     "execution_count": 4,
     "metadata": {},
     "output_type": "execute_result"
    }
   ],
   "source": [
    "httpx.get(\"http://api.worldbank.org/v2/incomelevel?format=json\").json()"
   ]
  },
  {
   "cell_type": "markdown",
   "id": "748b88c5-74f0-4974-b678-12733578c10b",
   "metadata": {},
   "source": [
    "Let's retrieve all countries and their respective income levels."
   ]
  },
  {
   "cell_type": "code",
   "execution_count": 5,
   "id": "9340a0b4-e82b-4ec9-a8f7-133ec6395a9a",
   "metadata": {},
   "outputs": [],
   "source": [
    "df_countries = (\n",
    "    pl.DataFrame(\n",
    "        httpx.get(\n",
    "            \"http://api.worldbank.org/v2/country?format=json&per_page=1000\"\n",
    "        ).json()[\n",
    "            1\n",
    "        ]  # see https://datahelpdesk.worldbank.org/knowledgebase/articles/898590-country-api-queries\n",
    "    )\n",
    "    .with_columns(\n",
    "        pl.col(\"region\").map_elements(lambda x: x[\"value\"]).alias(\"region\"),\n",
    "        pl.col(\"adminregion\").map_elements(lambda x: x[\"value\"]).alias(\"adminregion\"),\n",
    "        pl.col(\"incomeLevel\").map_elements(lambda x: x[\"value\"]).alias(\"incomeLevel\"),\n",
    "        pl.col(\"lendingType\").map_elements(lambda x: x[\"value\"]).alias(\"lendingType\"),\n",
    "    )\n",
    "    .filter(pl.col(\"incomeLevel\") != \"Aggregates\")\n",
    "    .filter(pl.col(\"incomeLevel\") != \"NA\")\n",
    ")"
   ]
  },
  {
   "cell_type": "code",
   "execution_count": 6,
   "id": "2daaaddc-5b73-4b80-91c3-45a3a94475b0",
   "metadata": {},
   "outputs": [
    {
     "data": {
      "text/html": [
       "<div><style>\n",
       ".dataframe > thead > tr,\n",
       ".dataframe > tbody > tr {\n",
       "  text-align: right;\n",
       "  white-space: pre-wrap;\n",
       "}\n",
       "</style>\n",
       "<small>shape: (217, 10)</small><table border=\"1\" class=\"dataframe\"><thead><tr><th>id</th><th>iso2Code</th><th>name</th><th>region</th><th>adminregion</th><th>incomeLevel</th><th>lendingType</th><th>capitalCity</th><th>longitude</th><th>latitude</th></tr><tr><td>str</td><td>str</td><td>str</td><td>str</td><td>str</td><td>str</td><td>str</td><td>str</td><td>str</td><td>str</td></tr></thead><tbody><tr><td>&quot;ABW&quot;</td><td>&quot;AW&quot;</td><td>&quot;Aruba&quot;</td><td>&quot;Latin America …</td><td>&quot;&quot;</td><td>&quot;High income&quot;</td><td>&quot;Not classified…</td><td>&quot;Oranjestad&quot;</td><td>&quot;-70.0167&quot;</td><td>&quot;12.5167&quot;</td></tr><tr><td>&quot;AFG&quot;</td><td>&quot;AF&quot;</td><td>&quot;Afghanistan&quot;</td><td>&quot;South Asia&quot;</td><td>&quot;South Asia&quot;</td><td>&quot;Low income&quot;</td><td>&quot;IDA&quot;</td><td>&quot;Kabul&quot;</td><td>&quot;69.1761&quot;</td><td>&quot;34.5228&quot;</td></tr><tr><td>&quot;AGO&quot;</td><td>&quot;AO&quot;</td><td>&quot;Angola&quot;</td><td>&quot;Sub-Saharan Af…</td><td>&quot;Sub-Saharan Af…</td><td>&quot;Lower middle i…</td><td>&quot;IBRD&quot;</td><td>&quot;Luanda&quot;</td><td>&quot;13.242&quot;</td><td>&quot;-8.81155&quot;</td></tr><tr><td>&quot;ALB&quot;</td><td>&quot;AL&quot;</td><td>&quot;Albania&quot;</td><td>&quot;Europe &amp; Centr…</td><td>&quot;Europe &amp; Centr…</td><td>&quot;Upper middle i…</td><td>&quot;IBRD&quot;</td><td>&quot;Tirane&quot;</td><td>&quot;19.8172&quot;</td><td>&quot;41.3317&quot;</td></tr><tr><td>&quot;AND&quot;</td><td>&quot;AD&quot;</td><td>&quot;Andorra&quot;</td><td>&quot;Europe &amp; Centr…</td><td>&quot;&quot;</td><td>&quot;High income&quot;</td><td>&quot;Not classified…</td><td>&quot;Andorra la Vel…</td><td>&quot;1.5218&quot;</td><td>&quot;42.5075&quot;</td></tr><tr><td>&hellip;</td><td>&hellip;</td><td>&hellip;</td><td>&hellip;</td><td>&hellip;</td><td>&hellip;</td><td>&hellip;</td><td>&hellip;</td><td>&hellip;</td><td>&hellip;</td></tr><tr><td>&quot;XKX&quot;</td><td>&quot;XK&quot;</td><td>&quot;Kosovo&quot;</td><td>&quot;Europe &amp; Centr…</td><td>&quot;Europe &amp; Centr…</td><td>&quot;Upper middle i…</td><td>&quot;IDA&quot;</td><td>&quot;Pristina&quot;</td><td>&quot;20.926&quot;</td><td>&quot;42.565&quot;</td></tr><tr><td>&quot;YEM&quot;</td><td>&quot;YE&quot;</td><td>&quot;Yemen, Rep.&quot;</td><td>&quot;Middle East &amp; …</td><td>&quot;Middle East &amp; …</td><td>&quot;Low income&quot;</td><td>&quot;IDA&quot;</td><td>&quot;Sana&#x27;a&quot;</td><td>&quot;44.2075&quot;</td><td>&quot;15.352&quot;</td></tr><tr><td>&quot;ZAF&quot;</td><td>&quot;ZA&quot;</td><td>&quot;South Africa&quot;</td><td>&quot;Sub-Saharan Af…</td><td>&quot;Sub-Saharan Af…</td><td>&quot;Upper middle i…</td><td>&quot;IBRD&quot;</td><td>&quot;Pretoria&quot;</td><td>&quot;28.1871&quot;</td><td>&quot;-25.746&quot;</td></tr><tr><td>&quot;ZMB&quot;</td><td>&quot;ZM&quot;</td><td>&quot;Zambia&quot;</td><td>&quot;Sub-Saharan Af…</td><td>&quot;Sub-Saharan Af…</td><td>&quot;Lower middle i…</td><td>&quot;IDA&quot;</td><td>&quot;Lusaka&quot;</td><td>&quot;28.2937&quot;</td><td>&quot;-15.3982&quot;</td></tr><tr><td>&quot;ZWE&quot;</td><td>&quot;ZW&quot;</td><td>&quot;Zimbabwe&quot;</td><td>&quot;Sub-Saharan Af…</td><td>&quot;Sub-Saharan Af…</td><td>&quot;Lower middle i…</td><td>&quot;Blend&quot;</td><td>&quot;Harare&quot;</td><td>&quot;31.0672&quot;</td><td>&quot;-17.8312&quot;</td></tr></tbody></table></div>"
      ],
      "text/plain": [
       "shape: (217, 10)\n",
       "┌─────┬──────────┬─────────────┬─────────────┬───┬─────────────┬────────────┬───────────┬──────────┐\n",
       "│ id  ┆ iso2Code ┆ name        ┆ region      ┆ … ┆ lendingType ┆ capitalCit ┆ longitude ┆ latitude │\n",
       "│ --- ┆ ---      ┆ ---         ┆ ---         ┆   ┆ ---         ┆ y          ┆ ---       ┆ ---      │\n",
       "│ str ┆ str      ┆ str         ┆ str         ┆   ┆ str         ┆ ---        ┆ str       ┆ str      │\n",
       "│     ┆          ┆             ┆             ┆   ┆             ┆ str        ┆           ┆          │\n",
       "╞═════╪══════════╪═════════════╪═════════════╪═══╪═════════════╪════════════╪═══════════╪══════════╡\n",
       "│ ABW ┆ AW       ┆ Aruba       ┆ Latin       ┆ … ┆ Not         ┆ Oranjestad ┆ -70.0167  ┆ 12.5167  │\n",
       "│     ┆          ┆             ┆ America &   ┆   ┆ classified  ┆            ┆           ┆          │\n",
       "│     ┆          ┆             ┆ Caribbean   ┆   ┆             ┆            ┆           ┆          │\n",
       "│ AFG ┆ AF       ┆ Afghanistan ┆ South Asia  ┆ … ┆ IDA         ┆ Kabul      ┆ 69.1761   ┆ 34.5228  │\n",
       "│ AGO ┆ AO       ┆ Angola      ┆ Sub-Saharan ┆ … ┆ IBRD        ┆ Luanda     ┆ 13.242    ┆ -8.81155 │\n",
       "│     ┆          ┆             ┆ Africa      ┆   ┆             ┆            ┆           ┆          │\n",
       "│ ALB ┆ AL       ┆ Albania     ┆ Europe &    ┆ … ┆ IBRD        ┆ Tirane     ┆ 19.8172   ┆ 41.3317  │\n",
       "│     ┆          ┆             ┆ Central     ┆   ┆             ┆            ┆           ┆          │\n",
       "│     ┆          ┆             ┆ Asia        ┆   ┆             ┆            ┆           ┆          │\n",
       "│ AND ┆ AD       ┆ Andorra     ┆ Europe &    ┆ … ┆ Not         ┆ Andorra la ┆ 1.5218    ┆ 42.5075  │\n",
       "│     ┆          ┆             ┆ Central     ┆   ┆ classified  ┆ Vella      ┆           ┆          │\n",
       "│     ┆          ┆             ┆ Asia        ┆   ┆             ┆            ┆           ┆          │\n",
       "│ …   ┆ …        ┆ …           ┆ …           ┆ … ┆ …           ┆ …          ┆ …         ┆ …        │\n",
       "│ XKX ┆ XK       ┆ Kosovo      ┆ Europe &    ┆ … ┆ IDA         ┆ Pristina   ┆ 20.926    ┆ 42.565   │\n",
       "│     ┆          ┆             ┆ Central     ┆   ┆             ┆            ┆           ┆          │\n",
       "│     ┆          ┆             ┆ Asia        ┆   ┆             ┆            ┆           ┆          │\n",
       "│ YEM ┆ YE       ┆ Yemen, Rep. ┆ Middle East ┆ … ┆ IDA         ┆ Sana'a     ┆ 44.2075   ┆ 15.352   │\n",
       "│     ┆          ┆             ┆ & North     ┆   ┆             ┆            ┆           ┆          │\n",
       "│     ┆          ┆             ┆ Africa      ┆   ┆             ┆            ┆           ┆          │\n",
       "│ ZAF ┆ ZA       ┆ South       ┆ Sub-Saharan ┆ … ┆ IBRD        ┆ Pretoria   ┆ 28.1871   ┆ -25.746  │\n",
       "│     ┆          ┆ Africa      ┆ Africa      ┆   ┆             ┆            ┆           ┆          │\n",
       "│ ZMB ┆ ZM       ┆ Zambia      ┆ Sub-Saharan ┆ … ┆ IDA         ┆ Lusaka     ┆ 28.2937   ┆ -15.3982 │\n",
       "│     ┆          ┆             ┆ Africa      ┆   ┆             ┆            ┆           ┆          │\n",
       "│ ZWE ┆ ZW       ┆ Zimbabwe    ┆ Sub-Saharan ┆ … ┆ Blend       ┆ Harare     ┆ 31.0672   ┆ -17.8312 │\n",
       "│     ┆          ┆             ┆ Africa      ┆   ┆             ┆            ┆           ┆          │\n",
       "└─────┴──────────┴─────────────┴─────────────┴───┴─────────────┴────────────┴───────────┴──────────┘"
      ]
     },
     "execution_count": 6,
     "metadata": {},
     "output_type": "execute_result"
    }
   ],
   "source": [
    "df_countries"
   ]
  },
  {
   "cell_type": "markdown",
   "id": "2c1d5333-a645-4cce-883b-ae6d88a3f76c",
   "metadata": {},
   "source": [
    "## Merging"
   ]
  },
  {
   "cell_type": "markdown",
   "id": "7c3c3a9b-06a4-44dc-b748-05a935cb9a92",
   "metadata": {},
   "source": [
    "First, merging languages with countries, "
   ]
  },
  {
   "cell_type": "code",
   "execution_count": 7,
   "id": "4363b262-6b91-4c78-bebc-a89ed03f2202",
   "metadata": {},
   "outputs": [],
   "source": [
    "df_languages = df_ethnologue.join(\n",
    "    df_countries, left_on=\"CountryID\", right_on=\"iso2Code\", how=\"outer\"\n",
    ")"
   ]
  },
  {
   "cell_type": "markdown",
   "id": "644c9e64-e1c6-4ad6-bcfd-f4fd08d969e5",
   "metadata": {},
   "source": [
    "Secondly, merging languages/countries with FLoRes-200, "
   ]
  },
  {
   "cell_type": "code",
   "execution_count": 8,
   "id": "4dff88b5-a2cf-4c03-bb1a-8a29b9a9fdcc",
   "metadata": {},
   "outputs": [
    {
     "data": {
      "text/html": [
       "<div><style>\n",
       ".dataframe > thead > tr,\n",
       ".dataframe > tbody > tr {\n",
       "  text-align: right;\n",
       "  white-space: pre-wrap;\n",
       "}\n",
       "</style>\n",
       "<small>shape: (6_202, 17)</small><table border=\"1\" class=\"dataframe\"><thead><tr><th>language</th><th>code</th><th>countries</th><th>num_speakers</th><th>CountryID</th><th>NameType</th><th>Name</th><th>id</th><th>iso2Code</th><th>name</th><th>region</th><th>adminregion</th><th>incomeLevel</th><th>lendingType</th><th>capitalCity</th><th>longitude</th><th>latitude</th></tr><tr><td>str</td><td>str</td><td>str</td><td>str</td><td>str</td><td>str</td><td>str</td><td>str</td><td>str</td><td>str</td><td>str</td><td>str</td><td>str</td><td>str</td><td>str</td><td>str</td><td>str</td></tr></thead><tbody><tr><td>&quot;Acehnese (Arab…</td><td>&quot;ace&quot;</td><td>null</td><td>null</td><td>&quot;ID&quot;</td><td>&quot;D&quot;</td><td>&quot;Banda Aceh&quot;</td><td>&quot;IDN&quot;</td><td>&quot;ID&quot;</td><td>&quot;Indonesia&quot;</td><td>&quot;East Asia &amp; Pa…</td><td>&quot;East Asia &amp; Pa…</td><td>&quot;Upper middle i…</td><td>&quot;IBRD&quot;</td><td>&quot;Jakarta&quot;</td><td>&quot;106.83&quot;</td><td>&quot;-6.19752&quot;</td></tr><tr><td>&quot;Acehnese (Arab…</td><td>&quot;ace&quot;</td><td>null</td><td>null</td><td>&quot;ID&quot;</td><td>&quot;D&quot;</td><td>&quot;Baruh&quot;</td><td>&quot;IDN&quot;</td><td>&quot;ID&quot;</td><td>&quot;Indonesia&quot;</td><td>&quot;East Asia &amp; Pa…</td><td>&quot;East Asia &amp; Pa…</td><td>&quot;Upper middle i…</td><td>&quot;IBRD&quot;</td><td>&quot;Jakarta&quot;</td><td>&quot;106.83&quot;</td><td>&quot;-6.19752&quot;</td></tr><tr><td>&quot;Acehnese (Arab…</td><td>&quot;ace&quot;</td><td>null</td><td>null</td><td>&quot;ID&quot;</td><td>&quot;D&quot;</td><td>&quot;Bueng&quot;</td><td>&quot;IDN&quot;</td><td>&quot;ID&quot;</td><td>&quot;Indonesia&quot;</td><td>&quot;East Asia &amp; Pa…</td><td>&quot;East Asia &amp; Pa…</td><td>&quot;Upper middle i…</td><td>&quot;IBRD&quot;</td><td>&quot;Jakarta&quot;</td><td>&quot;106.83&quot;</td><td>&quot;-6.19752&quot;</td></tr><tr><td>&quot;Acehnese (Arab…</td><td>&quot;ace&quot;</td><td>null</td><td>null</td><td>&quot;ID&quot;</td><td>&quot;D&quot;</td><td>&quot;Daja&quot;</td><td>&quot;IDN&quot;</td><td>&quot;ID&quot;</td><td>&quot;Indonesia&quot;</td><td>&quot;East Asia &amp; Pa…</td><td>&quot;East Asia &amp; Pa…</td><td>&quot;Upper middle i…</td><td>&quot;IBRD&quot;</td><td>&quot;Jakarta&quot;</td><td>&quot;106.83&quot;</td><td>&quot;-6.19752&quot;</td></tr><tr><td>&quot;Acehnese (Arab…</td><td>&quot;ace&quot;</td><td>null</td><td>null</td><td>&quot;ID&quot;</td><td>&quot;D&quot;</td><td>&quot;Pase&quot;</td><td>&quot;IDN&quot;</td><td>&quot;ID&quot;</td><td>&quot;Indonesia&quot;</td><td>&quot;East Asia &amp; Pa…</td><td>&quot;East Asia &amp; Pa…</td><td>&quot;Upper middle i…</td><td>&quot;IBRD&quot;</td><td>&quot;Jakarta&quot;</td><td>&quot;106.83&quot;</td><td>&quot;-6.19752&quot;</td></tr><tr><td>&hellip;</td><td>&hellip;</td><td>&hellip;</td><td>&hellip;</td><td>&hellip;</td><td>&hellip;</td><td>&hellip;</td><td>&hellip;</td><td>&hellip;</td><td>&hellip;</td><td>&hellip;</td><td>&hellip;</td><td>&hellip;</td><td>&hellip;</td><td>&hellip;</td><td>&hellip;</td><td>&hellip;</td></tr><tr><td>&quot;Zulu&quot;</td><td>&quot;zul&quot;</td><td>null</td><td>null</td><td>&quot;ZA&quot;</td><td>&quot;D&quot;</td><td>&quot;Transvaal Zulu…</td><td>&quot;ZAF&quot;</td><td>&quot;ZA&quot;</td><td>&quot;South Africa&quot;</td><td>&quot;Sub-Saharan Af…</td><td>&quot;Sub-Saharan Af…</td><td>&quot;Upper middle i…</td><td>&quot;IBRD&quot;</td><td>&quot;Pretoria&quot;</td><td>&quot;28.1871&quot;</td><td>&quot;-25.746&quot;</td></tr><tr><td>&quot;Zulu&quot;</td><td>&quot;zul&quot;</td><td>null</td><td>null</td><td>&quot;ZA&quot;</td><td>&quot;L&quot;</td><td>&quot;Zulu&quot;</td><td>&quot;ZAF&quot;</td><td>&quot;ZA&quot;</td><td>&quot;South Africa&quot;</td><td>&quot;Sub-Saharan Af…</td><td>&quot;Sub-Saharan Af…</td><td>&quot;Upper middle i…</td><td>&quot;IBRD&quot;</td><td>&quot;Pretoria&quot;</td><td>&quot;28.1871&quot;</td><td>&quot;-25.746&quot;</td></tr><tr><td>&quot;Zulu&quot;</td><td>&quot;zul&quot;</td><td>null</td><td>null</td><td>&quot;ZA&quot;</td><td>&quot;LA&quot;</td><td>&quot;Isizulu&quot;</td><td>&quot;ZAF&quot;</td><td>&quot;ZA&quot;</td><td>&quot;South Africa&quot;</td><td>&quot;Sub-Saharan Af…</td><td>&quot;Sub-Saharan Af…</td><td>&quot;Upper middle i…</td><td>&quot;IBRD&quot;</td><td>&quot;Pretoria&quot;</td><td>&quot;28.1871&quot;</td><td>&quot;-25.746&quot;</td></tr><tr><td>&quot;Zulu&quot;</td><td>&quot;zul&quot;</td><td>null</td><td>null</td><td>&quot;ZA&quot;</td><td>&quot;LA&quot;</td><td>&quot;Zunda&quot;</td><td>&quot;ZAF&quot;</td><td>&quot;ZA&quot;</td><td>&quot;South Africa&quot;</td><td>&quot;Sub-Saharan Af…</td><td>&quot;Sub-Saharan Af…</td><td>&quot;Upper middle i…</td><td>&quot;IBRD&quot;</td><td>&quot;Pretoria&quot;</td><td>&quot;28.1871&quot;</td><td>&quot;-25.746&quot;</td></tr><tr><td>&quot;Zulu&quot;</td><td>&quot;zul&quot;</td><td>null</td><td>null</td><td>&quot;ZA&quot;</td><td>&quot;LA&quot;</td><td>&quot;isiZulu&quot;</td><td>&quot;ZAF&quot;</td><td>&quot;ZA&quot;</td><td>&quot;South Africa&quot;</td><td>&quot;Sub-Saharan Af…</td><td>&quot;Sub-Saharan Af…</td><td>&quot;Upper middle i…</td><td>&quot;IBRD&quot;</td><td>&quot;Pretoria&quot;</td><td>&quot;28.1871&quot;</td><td>&quot;-25.746&quot;</td></tr></tbody></table></div>"
      ],
      "text/plain": [
       "shape: (6_202, 17)\n",
       "┌─────────────┬──────┬───────────┬────────────┬───┬────────────┬────────────┬───────────┬──────────┐\n",
       "│ language    ┆ code ┆ countries ┆ num_speake ┆ … ┆ lendingTyp ┆ capitalCit ┆ longitude ┆ latitude │\n",
       "│ ---         ┆ ---  ┆ ---       ┆ rs         ┆   ┆ e          ┆ y          ┆ ---       ┆ ---      │\n",
       "│ str         ┆ str  ┆ str       ┆ ---        ┆   ┆ ---        ┆ ---        ┆ str       ┆ str      │\n",
       "│             ┆      ┆           ┆ str        ┆   ┆ str        ┆ str        ┆           ┆          │\n",
       "╞═════════════╪══════╪═══════════╪════════════╪═══╪════════════╪════════════╪═══════════╪══════════╡\n",
       "│ Acehnese    ┆ ace  ┆ null      ┆ null       ┆ … ┆ IBRD       ┆ Jakarta    ┆ 106.83    ┆ -6.19752 │\n",
       "│ (Arabic     ┆      ┆           ┆            ┆   ┆            ┆            ┆           ┆          │\n",
       "│ script)     ┆      ┆           ┆            ┆   ┆            ┆            ┆           ┆          │\n",
       "│ Acehnese    ┆ ace  ┆ null      ┆ null       ┆ … ┆ IBRD       ┆ Jakarta    ┆ 106.83    ┆ -6.19752 │\n",
       "│ (Arabic     ┆      ┆           ┆            ┆   ┆            ┆            ┆           ┆          │\n",
       "│ script)     ┆      ┆           ┆            ┆   ┆            ┆            ┆           ┆          │\n",
       "│ Acehnese    ┆ ace  ┆ null      ┆ null       ┆ … ┆ IBRD       ┆ Jakarta    ┆ 106.83    ┆ -6.19752 │\n",
       "│ (Arabic     ┆      ┆           ┆            ┆   ┆            ┆            ┆           ┆          │\n",
       "│ script)     ┆      ┆           ┆            ┆   ┆            ┆            ┆           ┆          │\n",
       "│ Acehnese    ┆ ace  ┆ null      ┆ null       ┆ … ┆ IBRD       ┆ Jakarta    ┆ 106.83    ┆ -6.19752 │\n",
       "│ (Arabic     ┆      ┆           ┆            ┆   ┆            ┆            ┆           ┆          │\n",
       "│ script)     ┆      ┆           ┆            ┆   ┆            ┆            ┆           ┆          │\n",
       "│ Acehnese    ┆ ace  ┆ null      ┆ null       ┆ … ┆ IBRD       ┆ Jakarta    ┆ 106.83    ┆ -6.19752 │\n",
       "│ (Arabic     ┆      ┆           ┆            ┆   ┆            ┆            ┆           ┆          │\n",
       "│ script)     ┆      ┆           ┆            ┆   ┆            ┆            ┆           ┆          │\n",
       "│ …           ┆ …    ┆ …         ┆ …          ┆ … ┆ …          ┆ …          ┆ …         ┆ …        │\n",
       "│ Zulu        ┆ zul  ┆ null      ┆ null       ┆ … ┆ IBRD       ┆ Pretoria   ┆ 28.1871   ┆ -25.746  │\n",
       "│ Zulu        ┆ zul  ┆ null      ┆ null       ┆ … ┆ IBRD       ┆ Pretoria   ┆ 28.1871   ┆ -25.746  │\n",
       "│ Zulu        ┆ zul  ┆ null      ┆ null       ┆ … ┆ IBRD       ┆ Pretoria   ┆ 28.1871   ┆ -25.746  │\n",
       "│ Zulu        ┆ zul  ┆ null      ┆ null       ┆ … ┆ IBRD       ┆ Pretoria   ┆ 28.1871   ┆ -25.746  │\n",
       "│ Zulu        ┆ zul  ┆ null      ┆ null       ┆ … ┆ IBRD       ┆ Pretoria   ┆ 28.1871   ┆ -25.746  │\n",
       "└─────────────┴──────┴───────────┴────────────┴───┴────────────┴────────────┴───────────┴──────────┘"
      ]
     },
     "execution_count": 8,
     "metadata": {},
     "output_type": "execute_result"
    }
   ],
   "source": [
    "df_flores.with_columns(pl.col(\"code\").map_elements(lambda x: x[:3]).alias(\"code\")).join(\n",
    "    df_languages, left_on=\"code\", right_on=\"LangID\", how=\"left\"\n",
    ")"
   ]
  },
  {
   "cell_type": "code",
   "execution_count": 9,
   "id": "c8b9f30f-76a2-46b2-b32f-1d38bd3a136f",
   "metadata": {},
   "outputs": [],
   "source": [
    "df_flores.with_columns(pl.col(\"code\").map_elements(lambda x: x[:3]).alias(\"code\")).join(\n",
    "    df_languages, left_on=\"code\", right_on=\"LangID\", how=\"left\"\n",
    ").write_csv(\"../data/processed/language_country_income_level.csv\")"
   ]
  },
  {
   "cell_type": "code",
   "execution_count": null,
   "id": "74cf33de-e505-43fc-a75d-52c7b9ff05b1",
   "metadata": {},
   "outputs": [],
   "source": []
  }
 ],
 "metadata": {
  "kernelspec": {
   "display_name": "Python 3 (ipykernel)",
   "language": "python",
   "name": "python3"
  },
  "language_info": {
   "codemirror_mode": {
    "name": "ipython",
    "version": 3
   },
   "file_extension": ".py",
   "mimetype": "text/x-python",
   "name": "python",
   "nbconvert_exporter": "python",
   "pygments_lexer": "ipython3",
   "version": "3.10.13"
  }
 },
 "nbformat": 4,
 "nbformat_minor": 5
}
