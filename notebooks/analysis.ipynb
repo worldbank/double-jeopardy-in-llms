{
 "cells": [
  {
   "cell_type": "code",
   "execution_count": 1,
   "metadata": {},
   "outputs": [],
   "source": [
    "import pandas as pd\n",
    "from pathlib import Path\n",
    "import plotly.express as px\n",
    "\n",
    "import numpy as np"
   ]
  },
  {
   "cell_type": "code",
   "execution_count": 2,
   "metadata": {},
   "outputs": [
    {
     "data": {
      "text/html": [
       "<div>\n",
       "<style scoped>\n",
       "    .dataframe tbody tr th:only-of-type {\n",
       "        vertical-align: middle;\n",
       "    }\n",
       "\n",
       "    .dataframe tbody tr th {\n",
       "        vertical-align: top;\n",
       "    }\n",
       "\n",
       "    .dataframe thead th {\n",
       "        text-align: right;\n",
       "    }\n",
       "</style>\n",
       "<table border=\"1\" class=\"dataframe\">\n",
       "  <thead>\n",
       "    <tr style=\"text-align: right;\">\n",
       "      <th></th>\n",
       "      <th>lang</th>\n",
       "      <th>location</th>\n",
       "      <th>country</th>\n",
       "      <th>year</th>\n",
       "      <th>population</th>\n",
       "      <th>population_2022adj</th>\n",
       "      <th>NY.GDP.PCAP.CD</th>\n",
       "      <th>id</th>\n",
       "      <th>incomeLevel</th>\n",
       "      <th>cl100k_base</th>\n",
       "      <th>o200k_base</th>\n",
       "      <th>pop_weighted_wealth</th>\n",
       "      <th>total_population</th>\n",
       "      <th>weighted_wealth_income_classification</th>\n",
       "    </tr>\n",
       "  </thead>\n",
       "  <tbody>\n",
       "    <tr>\n",
       "      <th>0</th>\n",
       "      <td>ace</td>\n",
       "      <td>Indonesia</td>\n",
       "      <td>IDN</td>\n",
       "      <td>2010.0</td>\n",
       "      <td>2840000.0</td>\n",
       "      <td>3244518.0</td>\n",
       "      <td>4787.999308</td>\n",
       "      <td>IDN</td>\n",
       "      <td>Upper middle income</td>\n",
       "      <td>2.910664</td>\n",
       "      <td>2.235000</td>\n",
       "      <td>4787.999308</td>\n",
       "      <td>3244518.0</td>\n",
       "      <td>Upper middle income</td>\n",
       "    </tr>\n",
       "    <tr>\n",
       "      <th>1</th>\n",
       "      <td>acm</td>\n",
       "      <td>United Arab Emirates</td>\n",
       "      <td>ARE</td>\n",
       "      <td>2020.0</td>\n",
       "      <td>38000.0</td>\n",
       "      <td>38943.0</td>\n",
       "      <td>53707.980081</td>\n",
       "      <td>ARE</td>\n",
       "      <td>High income</td>\n",
       "      <td>3.000731</td>\n",
       "      <td>1.389443</td>\n",
       "      <td>7543.131613</td>\n",
       "      <td>18606581.0</td>\n",
       "      <td>Upper middle income</td>\n",
       "    </tr>\n",
       "    <tr>\n",
       "      <th>2</th>\n",
       "      <td>acm</td>\n",
       "      <td>Australia</td>\n",
       "      <td>AUS</td>\n",
       "      <td>2021.0</td>\n",
       "      <td>83300.0</td>\n",
       "      <td>84451.0</td>\n",
       "      <td>65099.845912</td>\n",
       "      <td>AUS</td>\n",
       "      <td>High income</td>\n",
       "      <td>3.000731</td>\n",
       "      <td>1.389443</td>\n",
       "      <td>7543.131613</td>\n",
       "      <td>18606581.0</td>\n",
       "      <td>Upper middle income</td>\n",
       "    </tr>\n",
       "    <tr>\n",
       "      <th>3</th>\n",
       "      <td>acm</td>\n",
       "      <td>Belgium</td>\n",
       "      <td>BEL</td>\n",
       "      <td>2020.0</td>\n",
       "      <td>8140.0</td>\n",
       "      <td>8279.0</td>\n",
       "      <td>49926.825430</td>\n",
       "      <td>BEL</td>\n",
       "      <td>High income</td>\n",
       "      <td>3.000731</td>\n",
       "      <td>1.389443</td>\n",
       "      <td>7543.131613</td>\n",
       "      <td>18606581.0</td>\n",
       "      <td>Upper middle income</td>\n",
       "    </tr>\n",
       "    <tr>\n",
       "      <th>4</th>\n",
       "      <td>acm</td>\n",
       "      <td>Canada</td>\n",
       "      <td>CAN</td>\n",
       "      <td>2021.0</td>\n",
       "      <td>63500.0</td>\n",
       "      <td>65030.0</td>\n",
       "      <td>55522.445688</td>\n",
       "      <td>CAN</td>\n",
       "      <td>High income</td>\n",
       "      <td>3.000731</td>\n",
       "      <td>1.389443</td>\n",
       "      <td>7543.131613</td>\n",
       "      <td>18606581.0</td>\n",
       "      <td>Upper middle income</td>\n",
       "    </tr>\n",
       "  </tbody>\n",
       "</table>\n",
       "</div>"
      ],
      "text/plain": [
       "  lang              location country    year  population  population_2022adj  \\\n",
       "0  ace             Indonesia     IDN  2010.0   2840000.0           3244518.0   \n",
       "1  acm  United Arab Emirates     ARE  2020.0     38000.0             38943.0   \n",
       "2  acm             Australia     AUS  2021.0     83300.0             84451.0   \n",
       "3  acm               Belgium     BEL  2020.0      8140.0              8279.0   \n",
       "4  acm                Canada     CAN  2021.0     63500.0             65030.0   \n",
       "\n",
       "   NY.GDP.PCAP.CD   id          incomeLevel  cl100k_base  o200k_base  \\\n",
       "0     4787.999308  IDN  Upper middle income     2.910664    2.235000   \n",
       "1    53707.980081  ARE          High income     3.000731    1.389443   \n",
       "2    65099.845912  AUS          High income     3.000731    1.389443   \n",
       "3    49926.825430  BEL          High income     3.000731    1.389443   \n",
       "4    55522.445688  CAN          High income     3.000731    1.389443   \n",
       "\n",
       "   pop_weighted_wealth  total_population weighted_wealth_income_classification  \n",
       "0          4787.999308         3244518.0                   Upper middle income  \n",
       "1          7543.131613        18606581.0                   Upper middle income  \n",
       "2          7543.131613        18606581.0                   Upper middle income  \n",
       "3          7543.131613        18606581.0                   Upper middle income  \n",
       "4          7543.131613        18606581.0                   Upper middle income  "
      ]
     },
     "execution_count": 2,
     "metadata": {},
     "output_type": "execute_result"
    }
   ],
   "source": [
    "DATA_DIR = Path(\"../data/processed\")\n",
    "premium_df = pd.read_csv(DATA_DIR / \"lang_pop2022adj_costs.csv\")\n",
    "\n",
    "augmented_premium_df = premium_df.merge(\n",
    "    premium_df.groupby(\"lang\")[[\"population_2022adj\", \"NY.GDP.PCAP.CD\"]].apply(\n",
    "        lambda df: (df[\"population_2022adj\"] * df[\"NY.GDP.PCAP.CD\"]).sum() / df[\"population_2022adj\"].sum(),\n",
    "        include_groups=False\n",
    "    ).rename(\"pop_weighted_wealth\"),\n",
    "    how=\"left\",\n",
    "    left_on=\"lang\",\n",
    "    right_index=True\n",
    ").merge(\n",
    "    premium_df.groupby(\"lang\")[\"population_2022adj\"].sum().rename(\"total_population\"),\n",
    "    how=\"left\",\n",
    "    left_on=\"lang\",\n",
    "    right_index=True\n",
    ")\n",
    "\n",
    "# https://blogs.worldbank.org/en/opendata/new-world-bank-group-country-classifications-income-level-fy24\n",
    "augmented_premium_df[\"weighted_wealth_income_classification\"] = pd.cut(\n",
    "        augmented_premium_df[\"pop_weighted_wealth\"],\n",
    "        bins=[0, 1135, 4465, 13845, np.inf],\n",
    "        labels=[\"Low income\", \"Lower middle income\", \"Upper middle income\", \"High income\"]\n",
    "    )\n",
    "\n",
    "augmented_premium_df.head()"
   ]
  },
  {
   "cell_type": "code",
   "execution_count": 3,
   "metadata": {},
   "outputs": [
    {
     "data": {
      "text/html": [
       "<div>\n",
       "<style scoped>\n",
       "    .dataframe tbody tr th:only-of-type {\n",
       "        vertical-align: middle;\n",
       "    }\n",
       "\n",
       "    .dataframe tbody tr th {\n",
       "        vertical-align: top;\n",
       "    }\n",
       "\n",
       "    .dataframe thead th {\n",
       "        text-align: right;\n",
       "    }\n",
       "</style>\n",
       "<table border=\"1\" class=\"dataframe\">\n",
       "  <thead>\n",
       "    <tr style=\"text-align: right;\">\n",
       "      <th></th>\n",
       "      <th>cl100k_base</th>\n",
       "      <th>o200k_base</th>\n",
       "    </tr>\n",
       "    <tr>\n",
       "      <th>weighted_wealth_income_classification</th>\n",
       "      <th></th>\n",
       "      <th></th>\n",
       "    </tr>\n",
       "  </thead>\n",
       "  <tbody>\n",
       "    <tr>\n",
       "      <th>Low income</th>\n",
       "      <td>3.353315</td>\n",
       "      <td>2.712796</td>\n",
       "    </tr>\n",
       "    <tr>\n",
       "      <th>Lower middle income</th>\n",
       "      <td>4.590917</td>\n",
       "      <td>2.436008</td>\n",
       "    </tr>\n",
       "    <tr>\n",
       "      <th>Upper middle income</th>\n",
       "      <td>3.520217</td>\n",
       "      <td>2.170148</td>\n",
       "    </tr>\n",
       "    <tr>\n",
       "      <th>High income</th>\n",
       "      <td>2.233746</td>\n",
       "      <td>1.642925</td>\n",
       "    </tr>\n",
       "  </tbody>\n",
       "</table>\n",
       "</div>"
      ],
      "text/plain": [
       "                                       cl100k_base  o200k_base\n",
       "weighted_wealth_income_classification                         \n",
       "Low income                                3.353315    2.712796\n",
       "Lower middle income                       4.590917    2.436008\n",
       "Upper middle income                       3.520217    2.170148\n",
       "High income                               2.233746    1.642925"
      ]
     },
     "execution_count": 3,
     "metadata": {},
     "output_type": "execute_result"
    }
   ],
   "source": [
    "income_tokenizer_trend = (augmented_premium_df\n",
    "    .drop_duplicates(subset=[\"lang\"])\n",
    "    .groupby(\n",
    "        [\"weighted_wealth_income_classification\"],\n",
    "        observed=True)[[\"cl100k_base\", \"o200k_base\"]]\n",
    "    .mean())\n",
    "\n",
    "income_tokenizer_trend"
   ]
  },
  {
   "cell_type": "code",
   "execution_count": 4,
   "metadata": {},
   "outputs": [
    {
     "data": {
      "application/vnd.plotly.v1+json": {
       "config": {
        "plotlyServerURL": "https://plot.ly"
       },
       "data": [
        {
         "mode": "lines+markers",
         "name": "Low income",
         "type": "scatter",
         "x": [
          "GPT-4 (cl100k_base)",
          "GPT-4o (o200k_base)"
         ],
         "xaxis": "x",
         "y": [
          3.353314542557877,
          2.7127956307755587
         ],
         "yaxis": "y"
        },
        {
         "mode": "lines+markers",
         "name": "Lower middle income",
         "type": "scatter",
         "x": [
          "GPT-4 (cl100k_base)",
          "GPT-4o (o200k_base)"
         ],
         "xaxis": "x",
         "y": [
          4.5909173092003135,
          2.4360077733922427
         ],
         "yaxis": "y"
        },
        {
         "mode": "lines+markers",
         "name": "Upper middle income",
         "type": "scatter",
         "x": [
          "GPT-4 (cl100k_base)",
          "GPT-4o (o200k_base)"
         ],
         "xaxis": "x",
         "y": [
          3.52021707311853,
          2.170147511479762
         ],
         "yaxis": "y"
        },
        {
         "mode": "lines+markers",
         "name": "High income",
         "type": "scatter",
         "x": [
          "GPT-4 (cl100k_base)",
          "GPT-4o (o200k_base)"
         ],
         "xaxis": "x",
         "y": [
          2.2337462090012075,
          1.6429246576099268
         ],
         "yaxis": "y"
        }
       ],
       "layout": {
        "autosize": true,
        "height": 600,
        "legend": {
         "bgcolor": "rgba(255,255,255,0.5)",
         "orientation": "v",
         "title": {
          "text": "Income Classification"
         },
         "x": 0.75,
         "xanchor": "center",
         "y": 0.95,
         "yanchor": "top"
        },
        "margin": {
         "b": 0,
         "l": 0,
         "r": 0,
         "t": 40
        },
        "plot_bgcolor": "white",
        "template": {
         "data": {
          "bar": [
           {
            "error_x": {
             "color": "#2a3f5f"
            },
            "error_y": {
             "color": "#2a3f5f"
            },
            "marker": {
             "line": {
              "color": "#E5ECF6",
              "width": 0.5
             },
             "pattern": {
              "fillmode": "overlay",
              "size": 10,
              "solidity": 0.2
             }
            },
            "type": "bar"
           }
          ],
          "barpolar": [
           {
            "marker": {
             "line": {
              "color": "#E5ECF6",
              "width": 0.5
             },
             "pattern": {
              "fillmode": "overlay",
              "size": 10,
              "solidity": 0.2
             }
            },
            "type": "barpolar"
           }
          ],
          "carpet": [
           {
            "aaxis": {
             "endlinecolor": "#2a3f5f",
             "gridcolor": "white",
             "linecolor": "white",
             "minorgridcolor": "white",
             "startlinecolor": "#2a3f5f"
            },
            "baxis": {
             "endlinecolor": "#2a3f5f",
             "gridcolor": "white",
             "linecolor": "white",
             "minorgridcolor": "white",
             "startlinecolor": "#2a3f5f"
            },
            "type": "carpet"
           }
          ],
          "choropleth": [
           {
            "colorbar": {
             "outlinewidth": 0,
             "ticks": ""
            },
            "type": "choropleth"
           }
          ],
          "contour": [
           {
            "colorbar": {
             "outlinewidth": 0,
             "ticks": ""
            },
            "colorscale": [
             [
              0,
              "#0d0887"
             ],
             [
              0.1111111111111111,
              "#46039f"
             ],
             [
              0.2222222222222222,
              "#7201a8"
             ],
             [
              0.3333333333333333,
              "#9c179e"
             ],
             [
              0.4444444444444444,
              "#bd3786"
             ],
             [
              0.5555555555555556,
              "#d8576b"
             ],
             [
              0.6666666666666666,
              "#ed7953"
             ],
             [
              0.7777777777777778,
              "#fb9f3a"
             ],
             [
              0.8888888888888888,
              "#fdca26"
             ],
             [
              1,
              "#f0f921"
             ]
            ],
            "type": "contour"
           }
          ],
          "contourcarpet": [
           {
            "colorbar": {
             "outlinewidth": 0,
             "ticks": ""
            },
            "type": "contourcarpet"
           }
          ],
          "heatmap": [
           {
            "colorbar": {
             "outlinewidth": 0,
             "ticks": ""
            },
            "colorscale": [
             [
              0,
              "#0d0887"
             ],
             [
              0.1111111111111111,
              "#46039f"
             ],
             [
              0.2222222222222222,
              "#7201a8"
             ],
             [
              0.3333333333333333,
              "#9c179e"
             ],
             [
              0.4444444444444444,
              "#bd3786"
             ],
             [
              0.5555555555555556,
              "#d8576b"
             ],
             [
              0.6666666666666666,
              "#ed7953"
             ],
             [
              0.7777777777777778,
              "#fb9f3a"
             ],
             [
              0.8888888888888888,
              "#fdca26"
             ],
             [
              1,
              "#f0f921"
             ]
            ],
            "type": "heatmap"
           }
          ],
          "heatmapgl": [
           {
            "colorbar": {
             "outlinewidth": 0,
             "ticks": ""
            },
            "colorscale": [
             [
              0,
              "#0d0887"
             ],
             [
              0.1111111111111111,
              "#46039f"
             ],
             [
              0.2222222222222222,
              "#7201a8"
             ],
             [
              0.3333333333333333,
              "#9c179e"
             ],
             [
              0.4444444444444444,
              "#bd3786"
             ],
             [
              0.5555555555555556,
              "#d8576b"
             ],
             [
              0.6666666666666666,
              "#ed7953"
             ],
             [
              0.7777777777777778,
              "#fb9f3a"
             ],
             [
              0.8888888888888888,
              "#fdca26"
             ],
             [
              1,
              "#f0f921"
             ]
            ],
            "type": "heatmapgl"
           }
          ],
          "histogram": [
           {
            "marker": {
             "pattern": {
              "fillmode": "overlay",
              "size": 10,
              "solidity": 0.2
             }
            },
            "type": "histogram"
           }
          ],
          "histogram2d": [
           {
            "colorbar": {
             "outlinewidth": 0,
             "ticks": ""
            },
            "colorscale": [
             [
              0,
              "#0d0887"
             ],
             [
              0.1111111111111111,
              "#46039f"
             ],
             [
              0.2222222222222222,
              "#7201a8"
             ],
             [
              0.3333333333333333,
              "#9c179e"
             ],
             [
              0.4444444444444444,
              "#bd3786"
             ],
             [
              0.5555555555555556,
              "#d8576b"
             ],
             [
              0.6666666666666666,
              "#ed7953"
             ],
             [
              0.7777777777777778,
              "#fb9f3a"
             ],
             [
              0.8888888888888888,
              "#fdca26"
             ],
             [
              1,
              "#f0f921"
             ]
            ],
            "type": "histogram2d"
           }
          ],
          "histogram2dcontour": [
           {
            "colorbar": {
             "outlinewidth": 0,
             "ticks": ""
            },
            "colorscale": [
             [
              0,
              "#0d0887"
             ],
             [
              0.1111111111111111,
              "#46039f"
             ],
             [
              0.2222222222222222,
              "#7201a8"
             ],
             [
              0.3333333333333333,
              "#9c179e"
             ],
             [
              0.4444444444444444,
              "#bd3786"
             ],
             [
              0.5555555555555556,
              "#d8576b"
             ],
             [
              0.6666666666666666,
              "#ed7953"
             ],
             [
              0.7777777777777778,
              "#fb9f3a"
             ],
             [
              0.8888888888888888,
              "#fdca26"
             ],
             [
              1,
              "#f0f921"
             ]
            ],
            "type": "histogram2dcontour"
           }
          ],
          "mesh3d": [
           {
            "colorbar": {
             "outlinewidth": 0,
             "ticks": ""
            },
            "type": "mesh3d"
           }
          ],
          "parcoords": [
           {
            "line": {
             "colorbar": {
              "outlinewidth": 0,
              "ticks": ""
             }
            },
            "type": "parcoords"
           }
          ],
          "pie": [
           {
            "automargin": true,
            "type": "pie"
           }
          ],
          "scatter": [
           {
            "fillpattern": {
             "fillmode": "overlay",
             "size": 10,
             "solidity": 0.2
            },
            "type": "scatter"
           }
          ],
          "scatter3d": [
           {
            "line": {
             "colorbar": {
              "outlinewidth": 0,
              "ticks": ""
             }
            },
            "marker": {
             "colorbar": {
              "outlinewidth": 0,
              "ticks": ""
             }
            },
            "type": "scatter3d"
           }
          ],
          "scattercarpet": [
           {
            "marker": {
             "colorbar": {
              "outlinewidth": 0,
              "ticks": ""
             }
            },
            "type": "scattercarpet"
           }
          ],
          "scattergeo": [
           {
            "marker": {
             "colorbar": {
              "outlinewidth": 0,
              "ticks": ""
             }
            },
            "type": "scattergeo"
           }
          ],
          "scattergl": [
           {
            "marker": {
             "colorbar": {
              "outlinewidth": 0,
              "ticks": ""
             }
            },
            "type": "scattergl"
           }
          ],
          "scattermapbox": [
           {
            "marker": {
             "colorbar": {
              "outlinewidth": 0,
              "ticks": ""
             }
            },
            "type": "scattermapbox"
           }
          ],
          "scatterpolar": [
           {
            "marker": {
             "colorbar": {
              "outlinewidth": 0,
              "ticks": ""
             }
            },
            "type": "scatterpolar"
           }
          ],
          "scatterpolargl": [
           {
            "marker": {
             "colorbar": {
              "outlinewidth": 0,
              "ticks": ""
             }
            },
            "type": "scatterpolargl"
           }
          ],
          "scatterternary": [
           {
            "marker": {
             "colorbar": {
              "outlinewidth": 0,
              "ticks": ""
             }
            },
            "type": "scatterternary"
           }
          ],
          "surface": [
           {
            "colorbar": {
             "outlinewidth": 0,
             "ticks": ""
            },
            "colorscale": [
             [
              0,
              "#0d0887"
             ],
             [
              0.1111111111111111,
              "#46039f"
             ],
             [
              0.2222222222222222,
              "#7201a8"
             ],
             [
              0.3333333333333333,
              "#9c179e"
             ],
             [
              0.4444444444444444,
              "#bd3786"
             ],
             [
              0.5555555555555556,
              "#d8576b"
             ],
             [
              0.6666666666666666,
              "#ed7953"
             ],
             [
              0.7777777777777778,
              "#fb9f3a"
             ],
             [
              0.8888888888888888,
              "#fdca26"
             ],
             [
              1,
              "#f0f921"
             ]
            ],
            "type": "surface"
           }
          ],
          "table": [
           {
            "cells": {
             "fill": {
              "color": "#EBF0F8"
             },
             "line": {
              "color": "white"
             }
            },
            "header": {
             "fill": {
              "color": "#C8D4E3"
             },
             "line": {
              "color": "white"
             }
            },
            "type": "table"
           }
          ]
         },
         "layout": {
          "annotationdefaults": {
           "arrowcolor": "#2a3f5f",
           "arrowhead": 0,
           "arrowwidth": 1
          },
          "autotypenumbers": "strict",
          "coloraxis": {
           "colorbar": {
            "outlinewidth": 0,
            "ticks": ""
           }
          },
          "colorscale": {
           "diverging": [
            [
             0,
             "#8e0152"
            ],
            [
             0.1,
             "#c51b7d"
            ],
            [
             0.2,
             "#de77ae"
            ],
            [
             0.3,
             "#f1b6da"
            ],
            [
             0.4,
             "#fde0ef"
            ],
            [
             0.5,
             "#f7f7f7"
            ],
            [
             0.6,
             "#e6f5d0"
            ],
            [
             0.7,
             "#b8e186"
            ],
            [
             0.8,
             "#7fbc41"
            ],
            [
             0.9,
             "#4d9221"
            ],
            [
             1,
             "#276419"
            ]
           ],
           "sequential": [
            [
             0,
             "#0d0887"
            ],
            [
             0.1111111111111111,
             "#46039f"
            ],
            [
             0.2222222222222222,
             "#7201a8"
            ],
            [
             0.3333333333333333,
             "#9c179e"
            ],
            [
             0.4444444444444444,
             "#bd3786"
            ],
            [
             0.5555555555555556,
             "#d8576b"
            ],
            [
             0.6666666666666666,
             "#ed7953"
            ],
            [
             0.7777777777777778,
             "#fb9f3a"
            ],
            [
             0.8888888888888888,
             "#fdca26"
            ],
            [
             1,
             "#f0f921"
            ]
           ],
           "sequentialminus": [
            [
             0,
             "#0d0887"
            ],
            [
             0.1111111111111111,
             "#46039f"
            ],
            [
             0.2222222222222222,
             "#7201a8"
            ],
            [
             0.3333333333333333,
             "#9c179e"
            ],
            [
             0.4444444444444444,
             "#bd3786"
            ],
            [
             0.5555555555555556,
             "#d8576b"
            ],
            [
             0.6666666666666666,
             "#ed7953"
            ],
            [
             0.7777777777777778,
             "#fb9f3a"
            ],
            [
             0.8888888888888888,
             "#fdca26"
            ],
            [
             1,
             "#f0f921"
            ]
           ]
          },
          "colorway": [
           "#636efa",
           "#EF553B",
           "#00cc96",
           "#ab63fa",
           "#FFA15A",
           "#19d3f3",
           "#FF6692",
           "#B6E880",
           "#FF97FF",
           "#FECB52"
          ],
          "font": {
           "color": "#2a3f5f"
          },
          "geo": {
           "bgcolor": "white",
           "lakecolor": "white",
           "landcolor": "#E5ECF6",
           "showlakes": true,
           "showland": true,
           "subunitcolor": "white"
          },
          "hoverlabel": {
           "align": "left"
          },
          "hovermode": "closest",
          "mapbox": {
           "style": "light"
          },
          "paper_bgcolor": "white",
          "plot_bgcolor": "#E5ECF6",
          "polar": {
           "angularaxis": {
            "gridcolor": "white",
            "linecolor": "white",
            "ticks": ""
           },
           "bgcolor": "#E5ECF6",
           "radialaxis": {
            "gridcolor": "white",
            "linecolor": "white",
            "ticks": ""
           }
          },
          "scene": {
           "xaxis": {
            "backgroundcolor": "#E5ECF6",
            "gridcolor": "white",
            "gridwidth": 2,
            "linecolor": "white",
            "showbackground": true,
            "ticks": "",
            "zerolinecolor": "white"
           },
           "yaxis": {
            "backgroundcolor": "#E5ECF6",
            "gridcolor": "white",
            "gridwidth": 2,
            "linecolor": "white",
            "showbackground": true,
            "ticks": "",
            "zerolinecolor": "white"
           },
           "zaxis": {
            "backgroundcolor": "#E5ECF6",
            "gridcolor": "white",
            "gridwidth": 2,
            "linecolor": "white",
            "showbackground": true,
            "ticks": "",
            "zerolinecolor": "white"
           }
          },
          "shapedefaults": {
           "line": {
            "color": "#2a3f5f"
           }
          },
          "ternary": {
           "aaxis": {
            "gridcolor": "white",
            "linecolor": "white",
            "ticks": ""
           },
           "baxis": {
            "gridcolor": "white",
            "linecolor": "white",
            "ticks": ""
           },
           "bgcolor": "#E5ECF6",
           "caxis": {
            "gridcolor": "white",
            "linecolor": "white",
            "ticks": ""
           }
          },
          "title": {
           "x": 0.05
          },
          "xaxis": {
           "automargin": true,
           "gridcolor": "white",
           "linecolor": "white",
           "ticks": "",
           "title": {
            "standoff": 15
           },
           "zerolinecolor": "white",
           "zerolinewidth": 2
          },
          "yaxis": {
           "automargin": true,
           "gridcolor": "white",
           "linecolor": "white",
           "ticks": "",
           "title": {
            "standoff": 15
           },
           "zerolinecolor": "white",
           "zerolinewidth": 2
          }
         }
        },
        "title": {
         "font": {
          "size": 15
         },
         "text": "Tokenization Premium Trend of Languages by Weighted Wealth<br>Income Classification (GPT-4 vs. GPT-4o Tokenizers)"
        },
        "width": 600,
        "xaxis": {
         "anchor": "y",
         "domain": [
          0,
          0.94
         ],
         "ticktext": [
          "GPT-4 (cl100k_base)",
          "GPT-4o (o200k_base)"
         ],
         "tickvals": [
          0,
          1
         ],
         "title": {
          "text": "Tokenizer"
         }
        },
        "yaxis": {
         "anchor": "x",
         "domain": [
          0,
          1
         ],
         "title": {
          "text": "Tokenization Premium"
         }
        },
        "yaxis2": {
         "anchor": "x",
         "overlaying": "y",
         "side": "right",
         "title": {
          "text": "o200k_base"
         }
        }
       }
      }
     },
     "metadata": {},
     "output_type": "display_data"
    }
   ],
   "source": [
    "from plotly.subplots import make_subplots\n",
    "import plotly.graph_objects as go\n",
    "\n",
    "# Create subplots with secondary y-axis\n",
    "fig = make_subplots(specs=[[{\"secondary_y\": True}]])\n",
    "\n",
    "name_map = {\n",
    "    \"cl100k_base\": \"GPT-4 (cl100k_base)\",\n",
    "    \"o200k_base\": \"GPT-4o (o200k_base)\"\n",
    "}\n",
    "\n",
    "# Add lines for each income classification\n",
    "for income_class, row in income_tokenizer_trend.iterrows():\n",
    "    # Add trace for cl100k_base (left y-axis)\n",
    "    fig.add_trace(go.Scatter(\n",
    "        x=['GPT-4 (cl100k_base)', 'GPT-4o (o200k_base)'],\n",
    "        y=[income_tokenizer_trend.loc[income_class, 'cl100k_base'], income_tokenizer_trend.loc[income_class, 'o200k_base']],\n",
    "        mode='lines+markers',\n",
    "        name=income_class\n",
    "    ), secondary_y=False)\n",
    "\n",
    "# Update layout\n",
    "fig.update_layout(\n",
    "    title=dict(\n",
    "        text=\"Tokenization Premium Trend of Languages by Weighted Wealth<br>Income Classification (GPT-4 vs. GPT-4o Tokenizers)\",\n",
    "        font=dict(size=15),\n",
    "    ),\n",
    "    xaxis=dict(tickvals=[0, 1], ticktext=['GPT-4 (cl100k_base)', 'GPT-4o (o200k_base)']),\n",
    "    legend_title=\"Income Classification\",\n",
    "    # font=dict(size=12),\n",
    "    plot_bgcolor='white',\n",
    "    width=600,\n",
    "    height=600,\n",
    "    legend=dict(\n",
    "        orientation=\"v\",  # Keep the legend vertical\n",
    "        x=0.75,  # Move it inside the plot area on the right\n",
    "        y=0.95,\n",
    "        xanchor=\"center\",\n",
    "        yanchor=\"top\",\n",
    "        bgcolor=\"rgba(255,255,255,0.5)\"  # Optional: add a semi-transparent background to the legend\n",
    "    ),\n",
    "    margin=dict(l=0, r=0, t=40, b=0),\n",
    "    autosize=True,\n",
    ")\n",
    "\n",
    "# Set x-axis title and y-axes titles\n",
    "fig.update_xaxes(title_text=\"Tokenizer\")\n",
    "fig.update_yaxes(title_text=\"Tokenization Premium\", secondary_y=False)\n",
    "fig.update_yaxes(title_text=\"o200k_base\", secondary_y=True)\n",
    "\n",
    "fig.write_image(\"../reports/tokenization-premium-trend.png\", format=\"png\", scale=4)\n",
    "\n",
    "# Show plot\n",
    "fig.show()\n"
   ]
  },
  {
   "cell_type": "code",
   "execution_count": 5,
   "metadata": {},
   "outputs": [
    {
     "data": {
      "text/html": [
       "<div>\n",
       "<style scoped>\n",
       "    .dataframe tbody tr th:only-of-type {\n",
       "        vertical-align: middle;\n",
       "    }\n",
       "\n",
       "    .dataframe tbody tr th {\n",
       "        vertical-align: top;\n",
       "    }\n",
       "\n",
       "    .dataframe thead th {\n",
       "        text-align: right;\n",
       "    }\n",
       "</style>\n",
       "<table border=\"1\" class=\"dataframe\">\n",
       "  <thead>\n",
       "    <tr style=\"text-align: right;\">\n",
       "      <th>group_cl100k_base</th>\n",
       "      <th>(0, 1]</th>\n",
       "      <th>(1, 2]</th>\n",
       "      <th>(2, 4]</th>\n",
       "      <th>(4, 6]</th>\n",
       "      <th>(6, 8]</th>\n",
       "      <th>(8, 10]</th>\n",
       "      <th>(10, 16]</th>\n",
       "    </tr>\n",
       "    <tr>\n",
       "      <th>incomeLevel</th>\n",
       "      <th></th>\n",
       "      <th></th>\n",
       "      <th></th>\n",
       "      <th></th>\n",
       "      <th></th>\n",
       "      <th></th>\n",
       "      <th></th>\n",
       "    </tr>\n",
       "  </thead>\n",
       "  <tbody>\n",
       "    <tr>\n",
       "      <th>High income</th>\n",
       "      <td>0.388935</td>\n",
       "      <td>0.764044</td>\n",
       "      <td>0.977118</td>\n",
       "      <td>0.993928</td>\n",
       "      <td>0.997474</td>\n",
       "      <td>0.999789</td>\n",
       "      <td>1.0</td>\n",
       "    </tr>\n",
       "    <tr>\n",
       "      <th>Upper middle income</th>\n",
       "      <td>0.038856</td>\n",
       "      <td>0.356908</td>\n",
       "      <td>0.965131</td>\n",
       "      <td>0.996041</td>\n",
       "      <td>0.996772</td>\n",
       "      <td>0.999336</td>\n",
       "      <td>1.0</td>\n",
       "    </tr>\n",
       "    <tr>\n",
       "      <th>Lower middle income</th>\n",
       "      <td>0.175086</td>\n",
       "      <td>0.253024</td>\n",
       "      <td>0.503445</td>\n",
       "      <td>0.863727</td>\n",
       "      <td>0.914887</td>\n",
       "      <td>0.974523</td>\n",
       "      <td>1.0</td>\n",
       "    </tr>\n",
       "    <tr>\n",
       "      <th>Low income</th>\n",
       "      <td>0.063463</td>\n",
       "      <td>0.308522</td>\n",
       "      <td>0.877701</td>\n",
       "      <td>0.885125</td>\n",
       "      <td>1.000000</td>\n",
       "      <td>1.000000</td>\n",
       "      <td>1.0</td>\n",
       "    </tr>\n",
       "  </tbody>\n",
       "</table>\n",
       "</div>"
      ],
      "text/plain": [
       "group_cl100k_base      (0, 1]    (1, 2]    (2, 4]    (4, 6]    (6, 8]  \\\n",
       "incomeLevel                                                             \n",
       "High income          0.388935  0.764044  0.977118  0.993928  0.997474   \n",
       "Upper middle income  0.038856  0.356908  0.965131  0.996041  0.996772   \n",
       "Lower middle income  0.175086  0.253024  0.503445  0.863727  0.914887   \n",
       "Low income           0.063463  0.308522  0.877701  0.885125  1.000000   \n",
       "\n",
       "group_cl100k_base     (8, 10]  (10, 16]  \n",
       "incomeLevel                              \n",
       "High income          0.999789       1.0  \n",
       "Upper middle income  0.999336       1.0  \n",
       "Lower middle income  0.974523       1.0  \n",
       "Low income           1.000000       1.0  "
      ]
     },
     "execution_count": 5,
     "metadata": {},
     "output_type": "execute_result"
    }
   ],
   "source": [
    "# Measure population impacted by tokenization premium\n",
    "augmented_premium_df[\"group_cl100k_base\"] = pd.cut(augmented_premium_df[\"cl100k_base\"], bins=[0, 1, 2, 4, 6, 8, 10, 16])\n",
    "augmented_premium_df[\"group_o200k_base\"] = pd.cut(augmented_premium_df[\"o200k_base\"], bins=[0, 1, 2, 4, 6, 8, 10, 16])\n",
    "\n",
    "income_pop_gpt4 = augmented_premium_df.groupby([\"incomeLevel\", \"group_cl100k_base\"], observed=False)[\"population\"].sum().unstack().fillna(0).astype(int).copy()\n",
    "income_pop_gpt4_frac = (income_pop_gpt4.cumsum(axis=1) / income_pop_gpt4.sum(axis=1).values[:, None])\n",
    "income_pop_gpt4_frac = income_pop_gpt4_frac.loc[[\"High income\", \"Upper middle income\", \"Lower middle income\", \"Low income\"]]\n",
    "\n",
    "income_pop_gpt4o = augmented_premium_df.groupby([\"incomeLevel\", \"group_o200k_base\"], observed=False)[\"population\"].sum().unstack().fillna(0).astype(int).copy()\n",
    "income_pop_gpt4o_frac = (income_pop_gpt4o.cumsum(axis=1) / income_pop_gpt4o.sum(axis=1).values[:, None])\n",
    "income_pop_gpt4o_frac = income_pop_gpt4o_frac.loc[[\"High income\", \"Upper middle income\", \"Lower middle income\", \"Low income\"]]\n",
    "\n",
    "income_pop_gpt4_frac"
   ]
  },
  {
   "cell_type": "code",
   "execution_count": 6,
   "metadata": {},
   "outputs": [
    {
     "data": {
      "text/html": [
       "<div>\n",
       "<style scoped>\n",
       "    .dataframe tbody tr th:only-of-type {\n",
       "        vertical-align: middle;\n",
       "    }\n",
       "\n",
       "    .dataframe tbody tr th {\n",
       "        vertical-align: top;\n",
       "    }\n",
       "\n",
       "    .dataframe thead th {\n",
       "        text-align: right;\n",
       "    }\n",
       "</style>\n",
       "<table border=\"1\" class=\"dataframe\">\n",
       "  <thead>\n",
       "    <tr style=\"text-align: right;\">\n",
       "      <th></th>\n",
       "      <th>(0, 1]</th>\n",
       "      <th>(1, 2]</th>\n",
       "      <th>(2, 4]</th>\n",
       "      <th>(4, 6]</th>\n",
       "      <th>(6, 8]</th>\n",
       "      <th>(8, 10]</th>\n",
       "      <th>(10, 16]</th>\n",
       "    </tr>\n",
       "    <tr>\n",
       "      <th>incomeLevel</th>\n",
       "      <th></th>\n",
       "      <th></th>\n",
       "      <th></th>\n",
       "      <th></th>\n",
       "      <th></th>\n",
       "      <th></th>\n",
       "      <th></th>\n",
       "    </tr>\n",
       "  </thead>\n",
       "  <tbody>\n",
       "    <tr>\n",
       "      <th>High income</th>\n",
       "      <td>0.388935</td>\n",
       "      <td>0.375109</td>\n",
       "      <td>0.213074</td>\n",
       "      <td>0.016810</td>\n",
       "      <td>0.003547</td>\n",
       "      <td>0.002314</td>\n",
       "      <td>0.000211</td>\n",
       "    </tr>\n",
       "    <tr>\n",
       "      <th>Upper middle income</th>\n",
       "      <td>0.038856</td>\n",
       "      <td>0.318052</td>\n",
       "      <td>0.608223</td>\n",
       "      <td>0.030911</td>\n",
       "      <td>0.000730</td>\n",
       "      <td>0.002564</td>\n",
       "      <td>0.000664</td>\n",
       "    </tr>\n",
       "    <tr>\n",
       "      <th>Lower middle income</th>\n",
       "      <td>0.175086</td>\n",
       "      <td>0.077939</td>\n",
       "      <td>0.250420</td>\n",
       "      <td>0.360283</td>\n",
       "      <td>0.051160</td>\n",
       "      <td>0.059636</td>\n",
       "      <td>0.025477</td>\n",
       "    </tr>\n",
       "    <tr>\n",
       "      <th>Low income</th>\n",
       "      <td>0.063463</td>\n",
       "      <td>0.245058</td>\n",
       "      <td>0.569179</td>\n",
       "      <td>0.007424</td>\n",
       "      <td>0.114875</td>\n",
       "      <td>0.000000</td>\n",
       "      <td>0.000000</td>\n",
       "    </tr>\n",
       "  </tbody>\n",
       "</table>\n",
       "</div>"
      ],
      "text/plain": [
       "                       (0, 1]    (1, 2]    (2, 4]    (4, 6]    (6, 8]  \\\n",
       "incomeLevel                                                             \n",
       "High income          0.388935  0.375109  0.213074  0.016810  0.003547   \n",
       "Upper middle income  0.038856  0.318052  0.608223  0.030911  0.000730   \n",
       "Lower middle income  0.175086  0.077939  0.250420  0.360283  0.051160   \n",
       "Low income           0.063463  0.245058  0.569179  0.007424  0.114875   \n",
       "\n",
       "                      (8, 10]  (10, 16]  \n",
       "incomeLevel                              \n",
       "High income          0.002314  0.000211  \n",
       "Upper middle income  0.002564  0.000664  \n",
       "Lower middle income  0.059636  0.025477  \n",
       "Low income           0.000000  0.000000  "
      ]
     },
     "execution_count": 6,
     "metadata": {},
     "output_type": "execute_result"
    }
   ],
   "source": [
    "pd.concat([pd.DataFrame([0] * income_pop_gpt4_frac.shape[0], index=income_pop_gpt4_frac.index), income_pop_gpt4_frac], axis=1).diff(axis=1).iloc[:, 1:]"
   ]
  },
  {
   "cell_type": "code",
   "execution_count": 7,
   "metadata": {},
   "outputs": [
    {
     "data": {
      "text/html": [
       "<div>\n",
       "<style scoped>\n",
       "    .dataframe tbody tr th:only-of-type {\n",
       "        vertical-align: middle;\n",
       "    }\n",
       "\n",
       "    .dataframe tbody tr th {\n",
       "        vertical-align: top;\n",
       "    }\n",
       "\n",
       "    .dataframe thead th {\n",
       "        text-align: right;\n",
       "    }\n",
       "</style>\n",
       "<table border=\"1\" class=\"dataframe\">\n",
       "  <thead>\n",
       "    <tr style=\"text-align: right;\">\n",
       "      <th>group_o200k_base</th>\n",
       "      <th>(0, 1]</th>\n",
       "      <th>(1, 2]</th>\n",
       "      <th>(2, 4]</th>\n",
       "      <th>(4, 6]</th>\n",
       "      <th>(6, 8]</th>\n",
       "      <th>(8, 10]</th>\n",
       "      <th>(10, 16]</th>\n",
       "    </tr>\n",
       "    <tr>\n",
       "      <th>incomeLevel</th>\n",
       "      <th></th>\n",
       "      <th></th>\n",
       "      <th></th>\n",
       "      <th></th>\n",
       "      <th></th>\n",
       "      <th></th>\n",
       "      <th></th>\n",
       "    </tr>\n",
       "  </thead>\n",
       "  <tbody>\n",
       "    <tr>\n",
       "      <th>High income</th>\n",
       "      <td>0.388935</td>\n",
       "      <td>0.987281</td>\n",
       "      <td>0.999210</td>\n",
       "      <td>0.999573</td>\n",
       "      <td>0.999797</td>\n",
       "      <td>0.999912</td>\n",
       "      <td>1.0</td>\n",
       "    </tr>\n",
       "    <tr>\n",
       "      <th>Upper middle income</th>\n",
       "      <td>0.038856</td>\n",
       "      <td>0.984464</td>\n",
       "      <td>0.999593</td>\n",
       "      <td>0.999600</td>\n",
       "      <td>0.999602</td>\n",
       "      <td>1.000000</td>\n",
       "      <td>1.0</td>\n",
       "    </tr>\n",
       "    <tr>\n",
       "      <th>Lower middle income</th>\n",
       "      <td>0.175086</td>\n",
       "      <td>0.903688</td>\n",
       "      <td>0.984374</td>\n",
       "      <td>0.994783</td>\n",
       "      <td>0.994820</td>\n",
       "      <td>0.997242</td>\n",
       "      <td>1.0</td>\n",
       "    </tr>\n",
       "    <tr>\n",
       "      <th>Low income</th>\n",
       "      <td>0.063463</td>\n",
       "      <td>0.830792</td>\n",
       "      <td>0.886327</td>\n",
       "      <td>0.983203</td>\n",
       "      <td>1.000000</td>\n",
       "      <td>1.000000</td>\n",
       "      <td>1.0</td>\n",
       "    </tr>\n",
       "  </tbody>\n",
       "</table>\n",
       "</div>"
      ],
      "text/plain": [
       "group_o200k_base       (0, 1]    (1, 2]    (2, 4]    (4, 6]    (6, 8]  \\\n",
       "incomeLevel                                                             \n",
       "High income          0.388935  0.987281  0.999210  0.999573  0.999797   \n",
       "Upper middle income  0.038856  0.984464  0.999593  0.999600  0.999602   \n",
       "Lower middle income  0.175086  0.903688  0.984374  0.994783  0.994820   \n",
       "Low income           0.063463  0.830792  0.886327  0.983203  1.000000   \n",
       "\n",
       "group_o200k_base      (8, 10]  (10, 16]  \n",
       "incomeLevel                              \n",
       "High income          0.999912       1.0  \n",
       "Upper middle income  1.000000       1.0  \n",
       "Lower middle income  0.997242       1.0  \n",
       "Low income           1.000000       1.0  "
      ]
     },
     "execution_count": 7,
     "metadata": {},
     "output_type": "execute_result"
    }
   ],
   "source": [
    "income_pop_gpt4o_frac"
   ]
  },
  {
   "cell_type": "code",
   "execution_count": 8,
   "metadata": {},
   "outputs": [
    {
     "data": {
      "text/html": [
       "<div>\n",
       "<style scoped>\n",
       "    .dataframe tbody tr th:only-of-type {\n",
       "        vertical-align: middle;\n",
       "    }\n",
       "\n",
       "    .dataframe tbody tr th {\n",
       "        vertical-align: top;\n",
       "    }\n",
       "\n",
       "    .dataframe thead th {\n",
       "        text-align: right;\n",
       "    }\n",
       "</style>\n",
       "<table border=\"1\" class=\"dataframe\">\n",
       "  <thead>\n",
       "    <tr style=\"text-align: right;\">\n",
       "      <th></th>\n",
       "      <th>(0, 1]</th>\n",
       "      <th>(1, 2]</th>\n",
       "      <th>(2, 4]</th>\n",
       "      <th>(4, 6]</th>\n",
       "      <th>(6, 8]</th>\n",
       "      <th>(8, 10]</th>\n",
       "      <th>(10, 16]</th>\n",
       "    </tr>\n",
       "    <tr>\n",
       "      <th>incomeLevel</th>\n",
       "      <th></th>\n",
       "      <th></th>\n",
       "      <th></th>\n",
       "      <th></th>\n",
       "      <th></th>\n",
       "      <th></th>\n",
       "      <th></th>\n",
       "    </tr>\n",
       "  </thead>\n",
       "  <tbody>\n",
       "    <tr>\n",
       "      <th>High income</th>\n",
       "      <td>0.388935</td>\n",
       "      <td>0.598346</td>\n",
       "      <td>0.011928</td>\n",
       "      <td>0.000363</td>\n",
       "      <td>0.000224</td>\n",
       "      <td>0.000116</td>\n",
       "      <td>0.000088</td>\n",
       "    </tr>\n",
       "    <tr>\n",
       "      <th>Upper middle income</th>\n",
       "      <td>0.038856</td>\n",
       "      <td>0.945608</td>\n",
       "      <td>0.015129</td>\n",
       "      <td>0.000007</td>\n",
       "      <td>0.000002</td>\n",
       "      <td>0.000398</td>\n",
       "      <td>0.000000</td>\n",
       "    </tr>\n",
       "    <tr>\n",
       "      <th>Lower middle income</th>\n",
       "      <td>0.175086</td>\n",
       "      <td>0.728602</td>\n",
       "      <td>0.080686</td>\n",
       "      <td>0.010410</td>\n",
       "      <td>0.000037</td>\n",
       "      <td>0.002422</td>\n",
       "      <td>0.002758</td>\n",
       "    </tr>\n",
       "    <tr>\n",
       "      <th>Low income</th>\n",
       "      <td>0.063463</td>\n",
       "      <td>0.767328</td>\n",
       "      <td>0.055535</td>\n",
       "      <td>0.096877</td>\n",
       "      <td>0.016797</td>\n",
       "      <td>0.000000</td>\n",
       "      <td>0.000000</td>\n",
       "    </tr>\n",
       "  </tbody>\n",
       "</table>\n",
       "</div>"
      ],
      "text/plain": [
       "                       (0, 1]    (1, 2]    (2, 4]    (4, 6]    (6, 8]  \\\n",
       "incomeLevel                                                             \n",
       "High income          0.388935  0.598346  0.011928  0.000363  0.000224   \n",
       "Upper middle income  0.038856  0.945608  0.015129  0.000007  0.000002   \n",
       "Lower middle income  0.175086  0.728602  0.080686  0.010410  0.000037   \n",
       "Low income           0.063463  0.767328  0.055535  0.096877  0.016797   \n",
       "\n",
       "                      (8, 10]  (10, 16]  \n",
       "incomeLevel                              \n",
       "High income          0.000116  0.000088  \n",
       "Upper middle income  0.000398  0.000000  \n",
       "Lower middle income  0.002422  0.002758  \n",
       "Low income           0.000000  0.000000  "
      ]
     },
     "execution_count": 8,
     "metadata": {},
     "output_type": "execute_result"
    }
   ],
   "source": [
    "pd.concat([pd.DataFrame([0] * income_pop_gpt4o_frac.shape[0], index=income_pop_gpt4o_frac.index), income_pop_gpt4o_frac], axis=1).diff(axis=1).iloc[:, 1:]"
   ]
  },
  {
   "cell_type": "code",
   "execution_count": 9,
   "metadata": {},
   "outputs": [
    {
     "data": {
      "text/html": [
       "<div>\n",
       "<style scoped>\n",
       "    .dataframe tbody tr th:only-of-type {\n",
       "        vertical-align: middle;\n",
       "    }\n",
       "\n",
       "    .dataframe tbody tr th {\n",
       "        vertical-align: top;\n",
       "    }\n",
       "\n",
       "    .dataframe thead th {\n",
       "        text-align: right;\n",
       "    }\n",
       "</style>\n",
       "<table border=\"1\" class=\"dataframe\">\n",
       "  <thead>\n",
       "    <tr style=\"text-align: right;\">\n",
       "      <th>group_cl100k_base</th>\n",
       "      <th>(0, 1]</th>\n",
       "      <th>(1, 2]</th>\n",
       "      <th>(2, 4]</th>\n",
       "      <th>(4, 6]</th>\n",
       "      <th>(6, 8]</th>\n",
       "      <th>(8, 10]</th>\n",
       "      <th>(10, 16]</th>\n",
       "    </tr>\n",
       "    <tr>\n",
       "      <th>incomeLevel</th>\n",
       "      <th></th>\n",
       "      <th></th>\n",
       "      <th></th>\n",
       "      <th></th>\n",
       "      <th></th>\n",
       "      <th></th>\n",
       "      <th></th>\n",
       "    </tr>\n",
       "  </thead>\n",
       "  <tbody>\n",
       "    <tr>\n",
       "      <th>High income</th>\n",
       "      <td>687097240</td>\n",
       "      <td>1349768930</td>\n",
       "      <td>1726186810</td>\n",
       "      <td>1755883277</td>\n",
       "      <td>1762148777</td>\n",
       "      <td>1766237007</td>\n",
       "      <td>1766610477</td>\n",
       "    </tr>\n",
       "    <tr>\n",
       "      <th>Low income</th>\n",
       "      <td>38641370</td>\n",
       "      <td>187851620</td>\n",
       "      <td>534411530</td>\n",
       "      <td>538931850</td>\n",
       "      <td>608876650</td>\n",
       "      <td>608876650</td>\n",
       "      <td>608876650</td>\n",
       "    </tr>\n",
       "    <tr>\n",
       "      <th>Lower middle income</th>\n",
       "      <td>669383480</td>\n",
       "      <td>967355910</td>\n",
       "      <td>1924755220</td>\n",
       "      <td>3302176992</td>\n",
       "      <td>3497770452</td>\n",
       "      <td>3725767652</td>\n",
       "      <td>3823171052</td>\n",
       "    </tr>\n",
       "    <tr>\n",
       "      <th>Not classified</th>\n",
       "      <td>29400</td>\n",
       "      <td>29619200</td>\n",
       "      <td>29760300</td>\n",
       "      <td>29766400</td>\n",
       "      <td>29766400</td>\n",
       "      <td>29766400</td>\n",
       "      <td>29766400</td>\n",
       "    </tr>\n",
       "    <tr>\n",
       "      <th>Upper middle income</th>\n",
       "      <td>119873340</td>\n",
       "      <td>1101078080</td>\n",
       "      <td>2977475006</td>\n",
       "      <td>3072835426</td>\n",
       "      <td>3075088526</td>\n",
       "      <td>3082998828</td>\n",
       "      <td>3085047828</td>\n",
       "    </tr>\n",
       "  </tbody>\n",
       "</table>\n",
       "</div>"
      ],
      "text/plain": [
       "group_cl100k_base       (0, 1]      (1, 2]      (2, 4]      (4, 6]  \\\n",
       "incomeLevel                                                          \n",
       "High income          687097240  1349768930  1726186810  1755883277   \n",
       "Low income            38641370   187851620   534411530   538931850   \n",
       "Lower middle income  669383480   967355910  1924755220  3302176992   \n",
       "Not classified           29400    29619200    29760300    29766400   \n",
       "Upper middle income  119873340  1101078080  2977475006  3072835426   \n",
       "\n",
       "group_cl100k_base        (6, 8]     (8, 10]    (10, 16]  \n",
       "incomeLevel                                              \n",
       "High income          1762148777  1766237007  1766610477  \n",
       "Low income            608876650   608876650   608876650  \n",
       "Lower middle income  3497770452  3725767652  3823171052  \n",
       "Not classified         29766400    29766400    29766400  \n",
       "Upper middle income  3075088526  3082998828  3085047828  "
      ]
     },
     "execution_count": 9,
     "metadata": {},
     "output_type": "execute_result"
    }
   ],
   "source": [
    "income_pop_gpt4.cumsum(axis=1)"
   ]
  },
  {
   "cell_type": "markdown",
   "metadata": {},
   "source": [
    "## Shortlist languages\n",
    "\n",
    "- Top 3 languages with the highest premium from low-income countries.\n",
    "  - dzo=\"Dzongkha\"\n",
    "  - taq=\"Tamasheq\"\n",
    "  - kbp=\"Kabiyè\"\n",
    "- Top 3 languages with the highest premium from low-middle-income countries.\n",
    "  - shn=\"Shan\"\n",
    "  - sat=\"Santhali\"\n",
    "  - ory=\"Odia\"\n",
    "- Top 3 languages by total population with at least 4x premium from low-income countries.\n",
    "  - nus=\"Nuer\"\n",
    "  - kbp=\"Kabiyè\"\n",
    "  - taq=\"Tamasheq\"\n",
    "- Top 3 languages by total population with at least 4x premium from low-middle-income countries.\n",
    "  - hin=\"Hindi\"\n",
    "  - ben=\"Bengali\"\n",
    "  - urd=\"Urdu\"\n",
    "- Top 5 languages by total population.\n",
    "  - eng=\"English\"\n",
    "  - zho=\"Chinese\"\n",
    "  - hin=\"Hindi\"\n",
    "  - spa=\"Spanish\"\n",
    "  - arb=\"Standard Arabic\"\n",
    "  - fra=\"French\""
   ]
  },
  {
   "cell_type": "code",
   "execution_count": 49,
   "metadata": {},
   "outputs": [
    {
     "data": {
      "text/html": [
       "<div>\n",
       "<style scoped>\n",
       "    .dataframe tbody tr th:only-of-type {\n",
       "        vertical-align: middle;\n",
       "    }\n",
       "\n",
       "    .dataframe tbody tr th {\n",
       "        vertical-align: top;\n",
       "    }\n",
       "\n",
       "    .dataframe thead th {\n",
       "        text-align: right;\n",
       "    }\n",
       "</style>\n",
       "<table border=\"1\" class=\"dataframe\">\n",
       "  <thead>\n",
       "    <tr style=\"text-align: right;\">\n",
       "      <th></th>\n",
       "      <th>lang</th>\n",
       "      <th>location</th>\n",
       "      <th>country</th>\n",
       "      <th>year</th>\n",
       "      <th>population</th>\n",
       "      <th>population_2022adj</th>\n",
       "      <th>NY.GDP.PCAP.CD</th>\n",
       "      <th>id</th>\n",
       "      <th>incomeLevel</th>\n",
       "      <th>cl100k_base</th>\n",
       "      <th>o200k_base</th>\n",
       "      <th>pop_weighted_wealth</th>\n",
       "      <th>total_population</th>\n",
       "      <th>weighted_wealth_income_classification</th>\n",
       "      <th>group_cl100k_base</th>\n",
       "      <th>group_o200k_base</th>\n",
       "    </tr>\n",
       "  </thead>\n",
       "  <tbody>\n",
       "    <tr>\n",
       "      <th>17</th>\n",
       "      <td>acm</td>\n",
       "      <td>Lebanon</td>\n",
       "      <td>LBN</td>\n",
       "      <td>2022.0</td>\n",
       "      <td>1.840000e+04</td>\n",
       "      <td>1.840000e+04</td>\n",
       "      <td>NaN</td>\n",
       "      <td>LBN</td>\n",
       "      <td>Lower middle income</td>\n",
       "      <td>3.000731</td>\n",
       "      <td>1.389443</td>\n",
       "      <td>7543.131613</td>\n",
       "      <td>1.860658e+07</td>\n",
       "      <td>Upper middle income</td>\n",
       "      <td>(2, 4]</td>\n",
       "      <td>(1, 2]</td>\n",
       "    </tr>\n",
       "    <tr>\n",
       "      <th>22</th>\n",
       "      <td>acm</td>\n",
       "      <td>Syria</td>\n",
       "      <td>SYR</td>\n",
       "      <td>2023.0</td>\n",
       "      <td>6.770000e+04</td>\n",
       "      <td>6.770000e+04</td>\n",
       "      <td>NaN</td>\n",
       "      <td>SYR</td>\n",
       "      <td>Low income</td>\n",
       "      <td>3.000731</td>\n",
       "      <td>1.389443</td>\n",
       "      <td>7543.131613</td>\n",
       "      <td>1.860658e+07</td>\n",
       "      <td>Upper middle income</td>\n",
       "      <td>(2, 4]</td>\n",
       "      <td>(1, 2]</td>\n",
       "    </tr>\n",
       "    <tr>\n",
       "      <th>29</th>\n",
       "      <td>acq</td>\n",
       "      <td>Eritrea</td>\n",
       "      <td>ERI</td>\n",
       "      <td>2024.0</td>\n",
       "      <td>3.800000e+04</td>\n",
       "      <td>3.800000e+04</td>\n",
       "      <td>NaN</td>\n",
       "      <td>ERI</td>\n",
       "      <td>Low income</td>\n",
       "      <td>3.031674</td>\n",
       "      <td>1.401661</td>\n",
       "      <td>2595.523605</td>\n",
       "      <td>1.269337e+07</td>\n",
       "      <td>Lower middle income</td>\n",
       "      <td>(2, 4]</td>\n",
       "      <td>(1, 2]</td>\n",
       "    </tr>\n",
       "    <tr>\n",
       "      <th>115</th>\n",
       "      <td>amh</td>\n",
       "      <td>South Sudan</td>\n",
       "      <td>SSD</td>\n",
       "      <td>2020.0</td>\n",
       "      <td>1.300000e+04</td>\n",
       "      <td>1.357500e+04</td>\n",
       "      <td>NaN</td>\n",
       "      <td>SSD</td>\n",
       "      <td>Low income</td>\n",
       "      <td>7.705929</td>\n",
       "      <td>5.853588</td>\n",
       "      <td>1617.088937</td>\n",
       "      <td>6.439829e+07</td>\n",
       "      <td>Lower middle income</td>\n",
       "      <td>(6, 8]</td>\n",
       "      <td>(4, 6]</td>\n",
       "    </tr>\n",
       "    <tr>\n",
       "      <th>133</th>\n",
       "      <td>apc</td>\n",
       "      <td>Cuba</td>\n",
       "      <td>CUB</td>\n",
       "      <td>2023.0</td>\n",
       "      <td>2.000000e+04</td>\n",
       "      <td>2.000000e+04</td>\n",
       "      <td>NaN</td>\n",
       "      <td>CUB</td>\n",
       "      <td>Upper middle income</td>\n",
       "      <td>2.844917</td>\n",
       "      <td>1.356936</td>\n",
       "      <td>9641.391421</td>\n",
       "      <td>5.408853e+07</td>\n",
       "      <td>Upper middle income</td>\n",
       "      <td>(2, 4]</td>\n",
       "      <td>(1, 2]</td>\n",
       "    </tr>\n",
       "    <tr>\n",
       "      <th>...</th>\n",
       "      <td>...</td>\n",
       "      <td>...</td>\n",
       "      <td>...</td>\n",
       "      <td>...</td>\n",
       "      <td>...</td>\n",
       "      <td>...</td>\n",
       "      <td>...</td>\n",
       "      <td>...</td>\n",
       "      <td>...</td>\n",
       "      <td>...</td>\n",
       "      <td>...</td>\n",
       "      <td>...</td>\n",
       "      <td>...</td>\n",
       "      <td>...</td>\n",
       "      <td>...</td>\n",
       "      <td>...</td>\n",
       "    </tr>\n",
       "    <tr>\n",
       "      <th>2857</th>\n",
       "      <td>urd</td>\n",
       "      <td>Afghanistan, all users. L1 users: 16,900 in Af...</td>\n",
       "      <td>AFG</td>\n",
       "      <td>2020.0</td>\n",
       "      <td>1.146900e+06</td>\n",
       "      <td>1.247414e+06</td>\n",
       "      <td>NaN</td>\n",
       "      <td>AFG</td>\n",
       "      <td>Low income</td>\n",
       "      <td>4.401929</td>\n",
       "      <td>1.667588</td>\n",
       "      <td>2433.621694</td>\n",
       "      <td>2.645303e+08</td>\n",
       "      <td>Lower middle income</td>\n",
       "      <td>(4, 6]</td>\n",
       "      <td>(1, 2]</td>\n",
       "    </tr>\n",
       "    <tr>\n",
       "      <th>2945</th>\n",
       "      <td>vie</td>\n",
       "      <td>China–Taiwan</td>\n",
       "      <td>TWN</td>\n",
       "      <td>2018.0</td>\n",
       "      <td>1.940000e+05</td>\n",
       "      <td>8.753000e+03</td>\n",
       "      <td>NaN</td>\n",
       "      <td>NaN</td>\n",
       "      <td>NaN</td>\n",
       "      <td>2.477658</td>\n",
       "      <td>1.504384</td>\n",
       "      <td>6119.101033</td>\n",
       "      <td>8.897282e+07</td>\n",
       "      <td>Upper middle income</td>\n",
       "      <td>(2, 4]</td>\n",
       "      <td>(1, 2]</td>\n",
       "    </tr>\n",
       "    <tr>\n",
       "      <th>3009</th>\n",
       "      <td>yue</td>\n",
       "      <td>Guam</td>\n",
       "      <td>GUM</td>\n",
       "      <td>2022.0</td>\n",
       "      <td>1.200000e+03</td>\n",
       "      <td>1.200000e+03</td>\n",
       "      <td>NaN</td>\n",
       "      <td>GUM</td>\n",
       "      <td>High income</td>\n",
       "      <td>2.111599</td>\n",
       "      <td>1.390468</td>\n",
       "      <td>17247.901211</td>\n",
       "      <td>8.670095e+07</td>\n",
       "      <td>High income</td>\n",
       "      <td>(2, 4]</td>\n",
       "      <td>(1, 2]</td>\n",
       "    </tr>\n",
       "    <tr>\n",
       "      <th>3027</th>\n",
       "      <td>yue</td>\n",
       "      <td>Réunion</td>\n",
       "      <td>REU</td>\n",
       "      <td>2021.0</td>\n",
       "      <td>1.440000e+04</td>\n",
       "      <td>1.694000e+03</td>\n",
       "      <td>NaN</td>\n",
       "      <td>NaN</td>\n",
       "      <td>NaN</td>\n",
       "      <td>2.111599</td>\n",
       "      <td>1.390468</td>\n",
       "      <td>17247.901211</td>\n",
       "      <td>8.670095e+07</td>\n",
       "      <td>High income</td>\n",
       "      <td>(2, 4]</td>\n",
       "      <td>(1, 2]</td>\n",
       "    </tr>\n",
       "    <tr>\n",
       "      <th>3036</th>\n",
       "      <td>zho</td>\n",
       "      <td>China</td>\n",
       "      <td>CHN</td>\n",
       "      <td>NaN</td>\n",
       "      <td>1.352665e+09</td>\n",
       "      <td>1.352665e+09</td>\n",
       "      <td>12720.216318</td>\n",
       "      <td>CHN</td>\n",
       "      <td>Upper middle income</td>\n",
       "      <td>2.019078</td>\n",
       "      <td>1.339837</td>\n",
       "      <td>12720.216318</td>\n",
       "      <td>1.352665e+09</td>\n",
       "      <td>Upper middle income</td>\n",
       "      <td>(2, 4]</td>\n",
       "      <td>(1, 2]</td>\n",
       "    </tr>\n",
       "  </tbody>\n",
       "</table>\n",
       "<p>233 rows × 16 columns</p>\n",
       "</div>"
      ],
      "text/plain": [
       "     lang                                           location country    year  \\\n",
       "17    acm                                            Lebanon     LBN  2022.0   \n",
       "22    acm                                              Syria     SYR  2023.0   \n",
       "29    acq                                            Eritrea     ERI  2024.0   \n",
       "115   amh                                        South Sudan     SSD  2020.0   \n",
       "133   apc                                               Cuba     CUB  2023.0   \n",
       "...   ...                                                ...     ...     ...   \n",
       "2857  urd  Afghanistan, all users. L1 users: 16,900 in Af...     AFG  2020.0   \n",
       "2945  vie                                       China–Taiwan     TWN  2018.0   \n",
       "3009  yue                                               Guam     GUM  2022.0   \n",
       "3027  yue                                            Réunion     REU  2021.0   \n",
       "3036  zho                                              China     CHN     NaN   \n",
       "\n",
       "        population  population_2022adj  NY.GDP.PCAP.CD   id  \\\n",
       "17    1.840000e+04        1.840000e+04             NaN  LBN   \n",
       "22    6.770000e+04        6.770000e+04             NaN  SYR   \n",
       "29    3.800000e+04        3.800000e+04             NaN  ERI   \n",
       "115   1.300000e+04        1.357500e+04             NaN  SSD   \n",
       "133   2.000000e+04        2.000000e+04             NaN  CUB   \n",
       "...            ...                 ...             ...  ...   \n",
       "2857  1.146900e+06        1.247414e+06             NaN  AFG   \n",
       "2945  1.940000e+05        8.753000e+03             NaN  NaN   \n",
       "3009  1.200000e+03        1.200000e+03             NaN  GUM   \n",
       "3027  1.440000e+04        1.694000e+03             NaN  NaN   \n",
       "3036  1.352665e+09        1.352665e+09    12720.216318  CHN   \n",
       "\n",
       "              incomeLevel  cl100k_base  o200k_base  pop_weighted_wealth  \\\n",
       "17    Lower middle income     3.000731    1.389443          7543.131613   \n",
       "22             Low income     3.000731    1.389443          7543.131613   \n",
       "29             Low income     3.031674    1.401661          2595.523605   \n",
       "115            Low income     7.705929    5.853588          1617.088937   \n",
       "133   Upper middle income     2.844917    1.356936          9641.391421   \n",
       "...                   ...          ...         ...                  ...   \n",
       "2857           Low income     4.401929    1.667588          2433.621694   \n",
       "2945                  NaN     2.477658    1.504384          6119.101033   \n",
       "3009          High income     2.111599    1.390468         17247.901211   \n",
       "3027                  NaN     2.111599    1.390468         17247.901211   \n",
       "3036  Upper middle income     2.019078    1.339837         12720.216318   \n",
       "\n",
       "      total_population weighted_wealth_income_classification  \\\n",
       "17        1.860658e+07                   Upper middle income   \n",
       "22        1.860658e+07                   Upper middle income   \n",
       "29        1.269337e+07                   Lower middle income   \n",
       "115       6.439829e+07                   Lower middle income   \n",
       "133       5.408853e+07                   Upper middle income   \n",
       "...                ...                                   ...   \n",
       "2857      2.645303e+08                   Lower middle income   \n",
       "2945      8.897282e+07                   Upper middle income   \n",
       "3009      8.670095e+07                           High income   \n",
       "3027      8.670095e+07                           High income   \n",
       "3036      1.352665e+09                   Upper middle income   \n",
       "\n",
       "     group_cl100k_base group_o200k_base  \n",
       "17              (2, 4]           (1, 2]  \n",
       "22              (2, 4]           (1, 2]  \n",
       "29              (2, 4]           (1, 2]  \n",
       "115             (6, 8]           (4, 6]  \n",
       "133             (2, 4]           (1, 2]  \n",
       "...                ...              ...  \n",
       "2857            (4, 6]           (1, 2]  \n",
       "2945            (2, 4]           (1, 2]  \n",
       "3009            (2, 4]           (1, 2]  \n",
       "3027            (2, 4]           (1, 2]  \n",
       "3036            (2, 4]           (1, 2]  \n",
       "\n",
       "[233 rows x 16 columns]"
      ]
     },
     "execution_count": 49,
     "metadata": {},
     "output_type": "execute_result"
    }
   ],
   "source": [
    "augmented_premium_df.loc[augmented_premium_df.isnull().sum(axis=1) > 0] #.dropna(subset=[\"pop_weighted_wealth\"])"
   ]
  },
  {
   "cell_type": "code",
   "execution_count": 4,
   "metadata": {},
   "outputs": [
    {
     "data": {
      "text/html": [
       "<div>\n",
       "<style scoped>\n",
       "    .dataframe tbody tr th:only-of-type {\n",
       "        vertical-align: middle;\n",
       "    }\n",
       "\n",
       "    .dataframe tbody tr th {\n",
       "        vertical-align: top;\n",
       "    }\n",
       "\n",
       "    .dataframe thead th {\n",
       "        text-align: right;\n",
       "    }\n",
       "</style>\n",
       "<table border=\"1\" class=\"dataframe\">\n",
       "  <thead>\n",
       "    <tr style=\"text-align: right;\">\n",
       "      <th></th>\n",
       "      <th>lang</th>\n",
       "      <th>location</th>\n",
       "      <th>country</th>\n",
       "      <th>year</th>\n",
       "      <th>population</th>\n",
       "      <th>population_2022adj</th>\n",
       "      <th>NY.GDP.PCAP.CD</th>\n",
       "      <th>id</th>\n",
       "      <th>incomeLevel</th>\n",
       "      <th>cl100k_base</th>\n",
       "      <th>o200k_base</th>\n",
       "      <th>pop_weighted_wealth</th>\n",
       "      <th>total_population</th>\n",
       "      <th>weighted_wealth_income_classification</th>\n",
       "    </tr>\n",
       "  </thead>\n",
       "  <tbody>\n",
       "    <tr>\n",
       "      <th>709</th>\n",
       "      <td>dzo</td>\n",
       "      <td>Bhutan</td>\n",
       "      <td>BTN</td>\n",
       "      <td>2021.0</td>\n",
       "      <td>304000.0</td>\n",
       "      <td>307903.0</td>\n",
       "      <td>NaN</td>\n",
       "      <td>BTN</td>\n",
       "      <td>Lower middle income</td>\n",
       "      <td>12.459297</td>\n",
       "      <td>9.222634</td>\n",
       "      <td>100.044211</td>\n",
       "      <td>321275.0</td>\n",
       "      <td>Low income</td>\n",
       "    </tr>\n",
       "    <tr>\n",
       "      <th>2562</th>\n",
       "      <td>taq</td>\n",
       "      <td>Burkina Faso</td>\n",
       "      <td>BFA</td>\n",
       "      <td>2021.0</td>\n",
       "      <td>187000.0</td>\n",
       "      <td>196870.0</td>\n",
       "      <td>830.037150</td>\n",
       "      <td>BFA</td>\n",
       "      <td>Low income</td>\n",
       "      <td>6.283203</td>\n",
       "      <td>6.261983</td>\n",
       "      <td>1010.426489</td>\n",
       "      <td>919624.0</td>\n",
       "      <td>Low income</td>\n",
       "    </tr>\n",
       "    <tr>\n",
       "      <th>1504</th>\n",
       "      <td>kbp</td>\n",
       "      <td>Benin</td>\n",
       "      <td>BEN</td>\n",
       "      <td>2021.0</td>\n",
       "      <td>17200.0</td>\n",
       "      <td>18152.0</td>\n",
       "      <td>1302.851036</td>\n",
       "      <td>BEN</td>\n",
       "      <td>Lower middle income</td>\n",
       "      <td>4.799921</td>\n",
       "      <td>3.974989</td>\n",
       "      <td>947.709170</td>\n",
       "      <td>1292355.0</td>\n",
       "      <td>Low income</td>\n",
       "    </tr>\n",
       "  </tbody>\n",
       "</table>\n",
       "</div>"
      ],
      "text/plain": [
       "     lang      location country    year  population  population_2022adj  \\\n",
       "709   dzo        Bhutan     BTN  2021.0    304000.0            307903.0   \n",
       "2562  taq  Burkina Faso     BFA  2021.0    187000.0            196870.0   \n",
       "1504  kbp         Benin     BEN  2021.0     17200.0             18152.0   \n",
       "\n",
       "      NY.GDP.PCAP.CD   id          incomeLevel  cl100k_base  o200k_base  \\\n",
       "709              NaN  BTN  Lower middle income    12.459297    9.222634   \n",
       "2562      830.037150  BFA           Low income     6.283203    6.261983   \n",
       "1504     1302.851036  BEN  Lower middle income     4.799921    3.974989   \n",
       "\n",
       "      pop_weighted_wealth  total_population  \\\n",
       "709            100.044211          321275.0   \n",
       "2562          1010.426489          919624.0   \n",
       "1504           947.709170         1292355.0   \n",
       "\n",
       "     weighted_wealth_income_classification  \n",
       "709                             Low income  \n",
       "2562                            Low income  \n",
       "1504                            Low income  "
      ]
     },
     "execution_count": 4,
     "metadata": {},
     "output_type": "execute_result"
    }
   ],
   "source": [
    "# Top 3 languages with the highest premium from low-income countries.\n",
    "augmented_premium_df[\n",
    "    # (augmented_premium_df[\"cl100k_base\"] > 4) &\n",
    "    (augmented_premium_df[\"weighted_wealth_income_classification\"]  == \"Low income\")].drop_duplicates(\"lang\").sort_values(\"cl100k_base\", ascending=False).head(3)"
   ]
  },
  {
   "cell_type": "code",
   "execution_count": 5,
   "metadata": {},
   "outputs": [
    {
     "data": {
      "text/html": [
       "<div>\n",
       "<style scoped>\n",
       "    .dataframe tbody tr th:only-of-type {\n",
       "        vertical-align: middle;\n",
       "    }\n",
       "\n",
       "    .dataframe tbody tr th {\n",
       "        vertical-align: top;\n",
       "    }\n",
       "\n",
       "    .dataframe thead th {\n",
       "        text-align: right;\n",
       "    }\n",
       "</style>\n",
       "<table border=\"1\" class=\"dataframe\">\n",
       "  <thead>\n",
       "    <tr style=\"text-align: right;\">\n",
       "      <th></th>\n",
       "      <th>lang</th>\n",
       "      <th>location</th>\n",
       "      <th>country</th>\n",
       "      <th>year</th>\n",
       "      <th>population</th>\n",
       "      <th>population_2022adj</th>\n",
       "      <th>NY.GDP.PCAP.CD</th>\n",
       "      <th>id</th>\n",
       "      <th>incomeLevel</th>\n",
       "      <th>cl100k_base</th>\n",
       "      <th>o200k_base</th>\n",
       "      <th>pop_weighted_wealth</th>\n",
       "      <th>total_population</th>\n",
       "      <th>weighted_wealth_income_classification</th>\n",
       "    </tr>\n",
       "  </thead>\n",
       "  <tbody>\n",
       "    <tr>\n",
       "      <th>2236</th>\n",
       "      <td>shn</td>\n",
       "      <td>Myanmar</td>\n",
       "      <td>MMR</td>\n",
       "      <td>2017.0</td>\n",
       "      <td>4590000.0</td>\n",
       "      <td>4791547.0</td>\n",
       "      <td>1149.211218</td>\n",
       "      <td>MMR</td>\n",
       "      <td>Lower middle income</td>\n",
       "      <td>15.328765</td>\n",
       "      <td>8.103200</td>\n",
       "      <td>1270.962393</td>\n",
       "      <td>4895001.0</td>\n",
       "      <td>Lower middle income</td>\n",
       "    </tr>\n",
       "    <tr>\n",
       "      <th>2231</th>\n",
       "      <td>sat</td>\n",
       "      <td>Bangladesh</td>\n",
       "      <td>BGD</td>\n",
       "      <td>2011.0</td>\n",
       "      <td>225000.0</td>\n",
       "      <td>259344.0</td>\n",
       "      <td>2688.305501</td>\n",
       "      <td>BGD</td>\n",
       "      <td>Lower middle income</td>\n",
       "      <td>12.962892</td>\n",
       "      <td>13.926960</td>\n",
       "      <td>2410.680911</td>\n",
       "      <td>8699573.0</td>\n",
       "      <td>Lower middle income</td>\n",
       "    </tr>\n",
       "    <tr>\n",
       "      <th>1909</th>\n",
       "      <td>ory</td>\n",
       "      <td>Bangladesh</td>\n",
       "      <td>BGD</td>\n",
       "      <td>2000.0</td>\n",
       "      <td>32500.0</td>\n",
       "      <td>43803.0</td>\n",
       "      <td>2688.305501</td>\n",
       "      <td>BGD</td>\n",
       "      <td>Lower middle income</td>\n",
       "      <td>12.594206</td>\n",
       "      <td>5.049518</td>\n",
       "      <td>2416.803702</td>\n",
       "      <td>45378324.0</td>\n",
       "      <td>Lower middle income</td>\n",
       "    </tr>\n",
       "  </tbody>\n",
       "</table>\n",
       "</div>"
      ],
      "text/plain": [
       "     lang    location country    year  population  population_2022adj  \\\n",
       "2236  shn     Myanmar     MMR  2017.0   4590000.0           4791547.0   \n",
       "2231  sat  Bangladesh     BGD  2011.0    225000.0            259344.0   \n",
       "1909  ory  Bangladesh     BGD  2000.0     32500.0             43803.0   \n",
       "\n",
       "      NY.GDP.PCAP.CD   id          incomeLevel  cl100k_base  o200k_base  \\\n",
       "2236     1149.211218  MMR  Lower middle income    15.328765    8.103200   \n",
       "2231     2688.305501  BGD  Lower middle income    12.962892   13.926960   \n",
       "1909     2688.305501  BGD  Lower middle income    12.594206    5.049518   \n",
       "\n",
       "      pop_weighted_wealth  total_population  \\\n",
       "2236          1270.962393         4895001.0   \n",
       "2231          2410.680911         8699573.0   \n",
       "1909          2416.803702        45378324.0   \n",
       "\n",
       "     weighted_wealth_income_classification  \n",
       "2236                   Lower middle income  \n",
       "2231                   Lower middle income  \n",
       "1909                   Lower middle income  "
      ]
     },
     "execution_count": 5,
     "metadata": {},
     "output_type": "execute_result"
    }
   ],
   "source": [
    "# Top 3 languages with the highest premium from low-middle-income countries.\n",
    "augmented_premium_df[\n",
    "    # (augmented_premium_df[\"cl100k_base\"] > 4) &\n",
    "    (augmented_premium_df[\"weighted_wealth_income_classification\"]  == \"Lower middle income\")].drop_duplicates(\"lang\").sort_values(\"cl100k_base\", ascending=False).head(3)"
   ]
  },
  {
   "cell_type": "code",
   "execution_count": 6,
   "metadata": {},
   "outputs": [
    {
     "data": {
      "text/html": [
       "<div>\n",
       "<style scoped>\n",
       "    .dataframe tbody tr th:only-of-type {\n",
       "        vertical-align: middle;\n",
       "    }\n",
       "\n",
       "    .dataframe tbody tr th {\n",
       "        vertical-align: top;\n",
       "    }\n",
       "\n",
       "    .dataframe thead th {\n",
       "        text-align: right;\n",
       "    }\n",
       "</style>\n",
       "<table border=\"1\" class=\"dataframe\">\n",
       "  <thead>\n",
       "    <tr style=\"text-align: right;\">\n",
       "      <th></th>\n",
       "      <th>lang</th>\n",
       "      <th>location</th>\n",
       "      <th>country</th>\n",
       "      <th>year</th>\n",
       "      <th>population</th>\n",
       "      <th>population_2022adj</th>\n",
       "      <th>NY.GDP.PCAP.CD</th>\n",
       "      <th>id</th>\n",
       "      <th>incomeLevel</th>\n",
       "      <th>cl100k_base</th>\n",
       "      <th>o200k_base</th>\n",
       "      <th>pop_weighted_wealth</th>\n",
       "      <th>total_population</th>\n",
       "      <th>weighted_wealth_income_classification</th>\n",
       "    </tr>\n",
       "  </thead>\n",
       "  <tbody>\n",
       "    <tr>\n",
       "      <th>1898</th>\n",
       "      <td>nus</td>\n",
       "      <td>Ethiopia, all users. L1 users: 153,000 in Ethi...</td>\n",
       "      <td>ETH</td>\n",
       "      <td>2007.0</td>\n",
       "      <td>154120.0</td>\n",
       "      <td>237216.0</td>\n",
       "      <td>1027.585911</td>\n",
       "      <td>ETH</td>\n",
       "      <td>Low income</td>\n",
       "      <td>4.031437</td>\n",
       "      <td>3.268707</td>\n",
       "      <td>138.208952</td>\n",
       "      <td>1763705.0</td>\n",
       "      <td>Low income</td>\n",
       "    </tr>\n",
       "    <tr>\n",
       "      <th>1504</th>\n",
       "      <td>kbp</td>\n",
       "      <td>Benin</td>\n",
       "      <td>BEN</td>\n",
       "      <td>2021.0</td>\n",
       "      <td>17200.0</td>\n",
       "      <td>18152.0</td>\n",
       "      <td>1302.851036</td>\n",
       "      <td>BEN</td>\n",
       "      <td>Lower middle income</td>\n",
       "      <td>4.799921</td>\n",
       "      <td>3.974989</td>\n",
       "      <td>947.709170</td>\n",
       "      <td>1292355.0</td>\n",
       "      <td>Low income</td>\n",
       "    </tr>\n",
       "    <tr>\n",
       "      <th>2562</th>\n",
       "      <td>taq</td>\n",
       "      <td>Burkina Faso</td>\n",
       "      <td>BFA</td>\n",
       "      <td>2021.0</td>\n",
       "      <td>187000.0</td>\n",
       "      <td>196870.0</td>\n",
       "      <td>830.037150</td>\n",
       "      <td>BFA</td>\n",
       "      <td>Low income</td>\n",
       "      <td>6.283203</td>\n",
       "      <td>6.261983</td>\n",
       "      <td>1010.426489</td>\n",
       "      <td>919624.0</td>\n",
       "      <td>Low income</td>\n",
       "    </tr>\n",
       "  </tbody>\n",
       "</table>\n",
       "</div>"
      ],
      "text/plain": [
       "     lang                                           location country    year  \\\n",
       "1898  nus  Ethiopia, all users. L1 users: 153,000 in Ethi...     ETH  2007.0   \n",
       "1504  kbp                                              Benin     BEN  2021.0   \n",
       "2562  taq                                       Burkina Faso     BFA  2021.0   \n",
       "\n",
       "      population  population_2022adj  NY.GDP.PCAP.CD   id  \\\n",
       "1898    154120.0            237216.0     1027.585911  ETH   \n",
       "1504     17200.0             18152.0     1302.851036  BEN   \n",
       "2562    187000.0            196870.0      830.037150  BFA   \n",
       "\n",
       "              incomeLevel  cl100k_base  o200k_base  pop_weighted_wealth  \\\n",
       "1898           Low income     4.031437    3.268707           138.208952   \n",
       "1504  Lower middle income     4.799921    3.974989           947.709170   \n",
       "2562           Low income     6.283203    6.261983          1010.426489   \n",
       "\n",
       "      total_population weighted_wealth_income_classification  \n",
       "1898         1763705.0                            Low income  \n",
       "1504         1292355.0                            Low income  \n",
       "2562          919624.0                            Low income  "
      ]
     },
     "execution_count": 6,
     "metadata": {},
     "output_type": "execute_result"
    }
   ],
   "source": [
    "# Top 3 languages by total population with at least 4x premium from low-income countries.\n",
    "augmented_premium_df[\n",
    "    (augmented_premium_df[\"cl100k_base\"] >= 4) &\n",
    "    (augmented_premium_df[\"weighted_wealth_income_classification\"]  == \"Low income\")].sort_values(\"total_population\", ascending=False).drop_duplicates(\"lang\").head(3)"
   ]
  },
  {
   "cell_type": "code",
   "execution_count": 7,
   "metadata": {},
   "outputs": [
    {
     "data": {
      "text/html": [
       "<div>\n",
       "<style scoped>\n",
       "    .dataframe tbody tr th:only-of-type {\n",
       "        vertical-align: middle;\n",
       "    }\n",
       "\n",
       "    .dataframe tbody tr th {\n",
       "        vertical-align: top;\n",
       "    }\n",
       "\n",
       "    .dataframe thead th {\n",
       "        text-align: right;\n",
       "    }\n",
       "</style>\n",
       "<table border=\"1\" class=\"dataframe\">\n",
       "  <thead>\n",
       "    <tr style=\"text-align: right;\">\n",
       "      <th></th>\n",
       "      <th>lang</th>\n",
       "      <th>location</th>\n",
       "      <th>country</th>\n",
       "      <th>year</th>\n",
       "      <th>population</th>\n",
       "      <th>population_2022adj</th>\n",
       "      <th>NY.GDP.PCAP.CD</th>\n",
       "      <th>id</th>\n",
       "      <th>incomeLevel</th>\n",
       "      <th>cl100k_base</th>\n",
       "      <th>o200k_base</th>\n",
       "      <th>pop_weighted_wealth</th>\n",
       "      <th>total_population</th>\n",
       "      <th>weighted_wealth_income_classification</th>\n",
       "    </tr>\n",
       "  </thead>\n",
       "  <tbody>\n",
       "    <tr>\n",
       "      <th>1224</th>\n",
       "      <td>hin</td>\n",
       "      <td>Luxembourg</td>\n",
       "      <td>LUX</td>\n",
       "      <td>2021.0</td>\n",
       "      <td>1300.0</td>\n",
       "      <td>1346.0</td>\n",
       "      <td>125006.021815</td>\n",
       "      <td>LUX</td>\n",
       "      <td>High income</td>\n",
       "      <td>4.821501</td>\n",
       "      <td>1.587333</td>\n",
       "      <td>2767.026060</td>\n",
       "      <td>694180807.0</td>\n",
       "      <td>Lower middle income</td>\n",
       "    </tr>\n",
       "    <tr>\n",
       "      <th>357</th>\n",
       "      <td>ben</td>\n",
       "      <td>Belgium</td>\n",
       "      <td>BEL</td>\n",
       "      <td>2018.0</td>\n",
       "      <td>5000.0</td>\n",
       "      <td>5136.0</td>\n",
       "      <td>49926.825430</td>\n",
       "      <td>BEL</td>\n",
       "      <td>High income</td>\n",
       "      <td>5.877417</td>\n",
       "      <td>1.710945</td>\n",
       "      <td>3321.487299</td>\n",
       "      <td>297023859.0</td>\n",
       "      <td>Lower middle income</td>\n",
       "    </tr>\n",
       "    <tr>\n",
       "      <th>2863</th>\n",
       "      <td>urd</td>\n",
       "      <td>Canada</td>\n",
       "      <td>CAN</td>\n",
       "      <td>2021.0</td>\n",
       "      <td>415000.0</td>\n",
       "      <td>424999.0</td>\n",
       "      <td>55522.445688</td>\n",
       "      <td>CAN</td>\n",
       "      <td>High income</td>\n",
       "      <td>4.401929</td>\n",
       "      <td>1.667588</td>\n",
       "      <td>2433.621694</td>\n",
       "      <td>264530341.0</td>\n",
       "      <td>Lower middle income</td>\n",
       "    </tr>\n",
       "  </tbody>\n",
       "</table>\n",
       "</div>"
      ],
      "text/plain": [
       "     lang    location country    year  population  population_2022adj  \\\n",
       "1224  hin  Luxembourg     LUX  2021.0      1300.0              1346.0   \n",
       "357   ben     Belgium     BEL  2018.0      5000.0              5136.0   \n",
       "2863  urd      Canada     CAN  2021.0    415000.0            424999.0   \n",
       "\n",
       "      NY.GDP.PCAP.CD   id  incomeLevel  cl100k_base  o200k_base  \\\n",
       "1224   125006.021815  LUX  High income     4.821501    1.587333   \n",
       "357     49926.825430  BEL  High income     5.877417    1.710945   \n",
       "2863    55522.445688  CAN  High income     4.401929    1.667588   \n",
       "\n",
       "      pop_weighted_wealth  total_population  \\\n",
       "1224          2767.026060       694180807.0   \n",
       "357           3321.487299       297023859.0   \n",
       "2863          2433.621694       264530341.0   \n",
       "\n",
       "     weighted_wealth_income_classification  \n",
       "1224                   Lower middle income  \n",
       "357                    Lower middle income  \n",
       "2863                   Lower middle income  "
      ]
     },
     "execution_count": 7,
     "metadata": {},
     "output_type": "execute_result"
    }
   ],
   "source": [
    "# Top 3 languages by total population with at least 4x premium from low-middle-income countries.\n",
    "augmented_premium_df[\n",
    "    (augmented_premium_df[\"cl100k_base\"] >= 4) &\n",
    "    (augmented_premium_df[\"weighted_wealth_income_classification\"]  == \"Lower middle income\")].sort_values(\"total_population\", ascending=False).drop_duplicates(\"lang\").head(3)"
   ]
  },
  {
   "cell_type": "code",
   "execution_count": 8,
   "metadata": {},
   "outputs": [
    {
     "data": {
      "text/html": [
       "<div>\n",
       "<style scoped>\n",
       "    .dataframe tbody tr th:only-of-type {\n",
       "        vertical-align: middle;\n",
       "    }\n",
       "\n",
       "    .dataframe tbody tr th {\n",
       "        vertical-align: top;\n",
       "    }\n",
       "\n",
       "    .dataframe thead th {\n",
       "        text-align: right;\n",
       "    }\n",
       "</style>\n",
       "<table border=\"1\" class=\"dataframe\">\n",
       "  <thead>\n",
       "    <tr style=\"text-align: right;\">\n",
       "      <th></th>\n",
       "      <th>lang</th>\n",
       "      <th>location</th>\n",
       "      <th>country</th>\n",
       "      <th>year</th>\n",
       "      <th>population</th>\n",
       "      <th>population_2022adj</th>\n",
       "      <th>NY.GDP.PCAP.CD</th>\n",
       "      <th>id</th>\n",
       "      <th>incomeLevel</th>\n",
       "      <th>cl100k_base</th>\n",
       "      <th>o200k_base</th>\n",
       "      <th>pop_weighted_wealth</th>\n",
       "      <th>total_population</th>\n",
       "      <th>weighted_wealth_income_classification</th>\n",
       "    </tr>\n",
       "  </thead>\n",
       "  <tbody>\n",
       "    <tr>\n",
       "      <th>939</th>\n",
       "      <td>eng</td>\n",
       "      <td>United States, all users. L1 users: 257,000,00...</td>\n",
       "      <td>USA</td>\n",
       "      <td>2019.0</td>\n",
       "      <td>3.060000e+08</td>\n",
       "      <td>3.120179e+08</td>\n",
       "      <td>76329.582265</td>\n",
       "      <td>USA</td>\n",
       "      <td>High income</td>\n",
       "      <td>1.000000</td>\n",
       "      <td>1.000000</td>\n",
       "      <td>22794.976819</td>\n",
       "      <td>1.974081e+09</td>\n",
       "      <td>High income</td>\n",
       "    </tr>\n",
       "    <tr>\n",
       "      <th>3036</th>\n",
       "      <td>zho</td>\n",
       "      <td>China</td>\n",
       "      <td>CHN</td>\n",
       "      <td>NaN</td>\n",
       "      <td>1.352665e+09</td>\n",
       "      <td>1.352665e+09</td>\n",
       "      <td>12720.216318</td>\n",
       "      <td>CHN</td>\n",
       "      <td>Upper middle income</td>\n",
       "      <td>2.019078</td>\n",
       "      <td>1.339837</td>\n",
       "      <td>12720.216318</td>\n",
       "      <td>1.352665e+09</td>\n",
       "      <td>Upper middle income</td>\n",
       "    </tr>\n",
       "    <tr>\n",
       "      <th>1214</th>\n",
       "      <td>hin</td>\n",
       "      <td>India, all users. L1 users: 339,000,000 in India</td>\n",
       "      <td>IND</td>\n",
       "      <td>2011.0</td>\n",
       "      <td>6.020000e+08</td>\n",
       "      <td>6.871545e+08</td>\n",
       "      <td>2410.888021</td>\n",
       "      <td>IND</td>\n",
       "      <td>Lower middle income</td>\n",
       "      <td>4.821501</td>\n",
       "      <td>1.587333</td>\n",
       "      <td>2767.026060</td>\n",
       "      <td>6.941808e+08</td>\n",
       "      <td>Lower middle income</td>\n",
       "    </tr>\n",
       "    <tr>\n",
       "      <th>2415</th>\n",
       "      <td>spa</td>\n",
       "      <td>Mexico, all users. L1 users: 122,000,000 in Me...</td>\n",
       "      <td>MEX</td>\n",
       "      <td>2021.0</td>\n",
       "      <td>1.302400e+08</td>\n",
       "      <td>1.317919e+08</td>\n",
       "      <td>11496.522872</td>\n",
       "      <td>MEX</td>\n",
       "      <td>Upper middle income</td>\n",
       "      <td>1.565468</td>\n",
       "      <td>1.330588</td>\n",
       "      <td>18333.500383</td>\n",
       "      <td>5.844301e+08</td>\n",
       "      <td>High income</td>\n",
       "    </tr>\n",
       "    <tr>\n",
       "      <th>205</th>\n",
       "      <td>arb</td>\n",
       "      <td>Egypt</td>\n",
       "      <td>EGY</td>\n",
       "      <td>2023.0</td>\n",
       "      <td>7.720000e+07</td>\n",
       "      <td>7.720000e+07</td>\n",
       "      <td>4295.407496</td>\n",
       "      <td>EGY</td>\n",
       "      <td>Lower middle income</td>\n",
       "      <td>2.764246</td>\n",
       "      <td>1.832455</td>\n",
       "      <td>7706.676159</td>\n",
       "      <td>3.324590e+08</td>\n",
       "      <td>Upper middle income</td>\n",
       "    </tr>\n",
       "    <tr>\n",
       "      <th>1020</th>\n",
       "      <td>fra</td>\n",
       "      <td>France, all users. L1 users: 55,600,000 in France</td>\n",
       "      <td>FRA</td>\n",
       "      <td>2020.0</td>\n",
       "      <td>6.570000e+07</td>\n",
       "      <td>6.626788e+07</td>\n",
       "      <td>40886.253268</td>\n",
       "      <td>FRA</td>\n",
       "      <td>High income</td>\n",
       "      <td>1.620679</td>\n",
       "      <td>1.379368</td>\n",
       "      <td>22726.073460</td>\n",
       "      <td>3.215457e+08</td>\n",
       "      <td>High income</td>\n",
       "    </tr>\n",
       "  </tbody>\n",
       "</table>\n",
       "</div>"
      ],
      "text/plain": [
       "     lang                                           location country    year  \\\n",
       "939   eng  United States, all users. L1 users: 257,000,00...     USA  2019.0   \n",
       "3036  zho                                              China     CHN     NaN   \n",
       "1214  hin   India, all users. L1 users: 339,000,000 in India     IND  2011.0   \n",
       "2415  spa  Mexico, all users. L1 users: 122,000,000 in Me...     MEX  2021.0   \n",
       "205   arb                                              Egypt     EGY  2023.0   \n",
       "1020  fra  France, all users. L1 users: 55,600,000 in France     FRA  2020.0   \n",
       "\n",
       "        population  population_2022adj  NY.GDP.PCAP.CD   id  \\\n",
       "939   3.060000e+08        3.120179e+08    76329.582265  USA   \n",
       "3036  1.352665e+09        1.352665e+09    12720.216318  CHN   \n",
       "1214  6.020000e+08        6.871545e+08     2410.888021  IND   \n",
       "2415  1.302400e+08        1.317919e+08    11496.522872  MEX   \n",
       "205   7.720000e+07        7.720000e+07     4295.407496  EGY   \n",
       "1020  6.570000e+07        6.626788e+07    40886.253268  FRA   \n",
       "\n",
       "              incomeLevel  cl100k_base  o200k_base  pop_weighted_wealth  \\\n",
       "939           High income     1.000000    1.000000         22794.976819   \n",
       "3036  Upper middle income     2.019078    1.339837         12720.216318   \n",
       "1214  Lower middle income     4.821501    1.587333          2767.026060   \n",
       "2415  Upper middle income     1.565468    1.330588         18333.500383   \n",
       "205   Lower middle income     2.764246    1.832455          7706.676159   \n",
       "1020          High income     1.620679    1.379368         22726.073460   \n",
       "\n",
       "      total_population weighted_wealth_income_classification  \n",
       "939       1.974081e+09                           High income  \n",
       "3036      1.352665e+09                   Upper middle income  \n",
       "1214      6.941808e+08                   Lower middle income  \n",
       "2415      5.844301e+08                           High income  \n",
       "205       3.324590e+08                   Upper middle income  \n",
       "1020      3.215457e+08                           High income  "
      ]
     },
     "execution_count": 8,
     "metadata": {},
     "output_type": "execute_result"
    }
   ],
   "source": [
    "# Top 5 languages by total population.\n",
    "augmented_premium_df.dropna(subset=[\"cl100k_base\"]).sort_values([\"total_population\", \"population\"], ascending=False).drop_duplicates(\"lang\").head(6)"
   ]
  },
  {
   "cell_type": "code",
   "execution_count": 9,
   "metadata": {},
   "outputs": [
    {
     "data": {
      "text/plain": [
       "{'dzo': {'name': 'Dzongkha', 'code': 'dzo_Tibt'},\n",
       " 'taq': {'name': 'Tamasheq', 'code': 'taq_Latn'},\n",
       " 'kbp': {'name': 'Kabiyè', 'code': 'kbp_Latn'},\n",
       " 'shn': {'name': 'Shan', 'code': 'shn_Mymr'},\n",
       " 'sat': {'name': 'Santhali', 'code': 'sat_Olck'},\n",
       " 'ory': {'name': 'Odia', 'code': 'ory_Orya'},\n",
       " 'nus': {'name': 'Nuer', 'code': 'nus_Latn'},\n",
       " 'hin': {'name': 'Hindi', 'code': 'hin_Deva'},\n",
       " 'ben': {'name': 'Bengali', 'code': 'ben_Beng'},\n",
       " 'urd': {'name': 'Urdu', 'code': 'urd_Arab'},\n",
       " 'eng': {'name': 'English', 'code': 'eng_Latn'},\n",
       " 'zho': {'name': 'Chinese', 'code': 'zho_Hans'},\n",
       " 'spa': {'name': 'Spanish', 'code': 'spa_Latn'},\n",
       " 'arb': {'name': 'Standard Arabic', 'code': 'arb_Arab'},\n",
       " 'fra': {'name': 'French', 'code': 'fra_Latn'}}"
      ]
     },
     "execution_count": 9,
     "metadata": {},
     "output_type": "execute_result"
    }
   ],
   "source": [
    "## Shortlist languages  # Check the analysis.ipynb notebook for the details\n",
    "lang_shortlist = [\n",
    "    # - Top 3 languages with the highest premium from low-income countries.\n",
    "    dict(\n",
    "        dzo=dict(\n",
    "            name=\"Dzongkha\",\n",
    "            code=\"dzo_Tibt\",\n",
    "        ),\n",
    "        taq=dict(\n",
    "            name=\"Tamasheq\",\n",
    "            code=\"taq_Latn\",\n",
    "        ),\n",
    "        kbp=dict(\n",
    "            name=\"Kabiyè\",\n",
    "            code=\"kbp_Latn\",\n",
    "        ),\n",
    "    ),\n",
    "    # - Top 3 languages with the highest premium from low-middle-income countries.\n",
    "    dict(\n",
    "        shn=dict(\n",
    "            name=\"Shan\",\n",
    "            code=\"shn_Mymr\",\n",
    "        ),\n",
    "        sat=dict(\n",
    "            name=\"Santhali\",\n",
    "            code=\"sat_Olck\",\n",
    "        ),\n",
    "        ory=dict(\n",
    "            name=\"Odia\",\n",
    "            code=\"ory_Orya\",\n",
    "        ),\n",
    "    ),\n",
    "    # - Top 3 languages by total population with at least 4x premium from low-income countries.\n",
    "    dict(\n",
    "    nus=dict(\n",
    "        name=\"Nuer\",\n",
    "        code=\"nus_Latn\",\n",
    "    ),\n",
    "    kbp=dict(\n",
    "        name=\"Kabiyè\",\n",
    "        code=\"kbp_Latn\",\n",
    "    ),\n",
    "    taq=dict(\n",
    "        name=\"Tamasheq\",\n",
    "        code=\"taq_Latn\",\n",
    "    ),\n",
    "    ),\n",
    "    # - Top 3 languages by total population with at least 4x premium from low-middle-income countries.\n",
    "    dict(\n",
    "        hin=dict(\n",
    "            name=\"Hindi\",\n",
    "            code=\"hin_Deva\",\n",
    "        ),\n",
    "        ben=dict(\n",
    "            name=\"Bengali\",\n",
    "            code=\"ben_Beng\",\n",
    "        ),\n",
    "        urd=dict(\n",
    "            name=\"Urdu\",\n",
    "            code=\"urd_Arab\",\n",
    "        ),\n",
    "    ),\n",
    "    # - Top 5 languages by total population.\n",
    "    dict(\n",
    "        eng=dict(\n",
    "            name=\"English\",\n",
    "            code=\"eng_Latn\",\n",
    "        ),\n",
    "        zho=dict(\n",
    "            name=\"Chinese\",\n",
    "            code=\"zho_Hans\",\n",
    "        ),\n",
    "        hin=dict(\n",
    "            name=\"Hindi\",\n",
    "            code=\"hin_Deva\",\n",
    "        ),\n",
    "        spa=dict(\n",
    "            name=\"Spanish\",\n",
    "            code=\"spa_Latn\",\n",
    "        ),\n",
    "        arb=dict(\n",
    "            name=\"Standard Arabic\",\n",
    "            code=\"arb_Arab\",\n",
    "        ),\n",
    "        fra=dict(\n",
    "            name=\"French\",\n",
    "            code=\"fra_Latn\",\n",
    "        ),\n",
    "    ),\n",
    "]\n",
    "\n",
    "lang_name = {k: v for d in lang_shortlist for k, v in d.items()}\n",
    "lang_name"
   ]
  },
  {
   "cell_type": "code",
   "execution_count": 10,
   "metadata": {},
   "outputs": [
    {
     "name": "stdout",
     "output_type": "stream",
     "text": [
      "['nus', 'kbp', 'taq', 'dzo', 'hin', 'ben', 'urd', 'ory', 'sat', 'shn', 'zho', 'arb', 'eng', 'spa', 'fra']\n"
     ]
    }
   ],
   "source": [
    "ordered_langs = augmented_premium_df[\n",
    "    augmented_premium_df[\"lang\"].isin(lang_name.keys())\n",
    "].sort_values([\"weighted_wealth_income_classification\", \"total_population\"], ascending=[True, False]).drop_duplicates(\"lang\")[\"lang\"].tolist()\n",
    "print(ordered_langs)"
   ]
  },
  {
   "cell_type": "code",
   "execution_count": 11,
   "metadata": {},
   "outputs": [
    {
     "data": {
      "text/plain": [
       "['Upper middle income', 'Lower middle income', 'High income', 'Low income', NaN]\n",
       "Categories (4, object): ['Low income' < 'Lower middle income' < 'Upper middle income' < 'High income']"
      ]
     },
     "execution_count": 11,
     "metadata": {},
     "output_type": "execute_result"
    }
   ],
   "source": [
    "augmented_premium_df[\"weighted_wealth_income_classification\"].unique()"
   ]
  },
  {
   "cell_type": "markdown",
   "metadata": {},
   "source": [
    "# Measure average decrease in tokenization premium between models"
   ]
  },
  {
   "cell_type": "code",
   "execution_count": 12,
   "metadata": {},
   "outputs": [
    {
     "data": {
      "text/plain": [
       "<Axes: >"
      ]
     },
     "execution_count": 12,
     "metadata": {},
     "output_type": "execute_result"
    },
    {
     "data": {
      "image/png": "[encoded data removed]",
      "text/plain": [
       "<Figure size 640x480 with 1 Axes>"
      ]
     },
     "metadata": {},
     "output_type": "display_data"
    }
   ],
   "source": [
    "ulang_df = augmented_premium_df.drop_duplicates(subset=[\"lang\"]).copy()\n",
    "\n",
    "\n",
    "ulang_df[\"premium_diff\"] = ulang_df[\"o200k_base\"] - ulang_df[\"cl100k_base\"]\n",
    "ulang_df[\"premium_diff_pct\"] = 100 * ulang_df[\"premium_diff\"] / ulang_df[\"cl100k_base\"]\n",
    "\n",
    "ulang_df[\"premium_diff_pct\"].hist(bins=10)"
   ]
  },
  {
   "cell_type": "code",
   "execution_count": 13,
   "metadata": {},
   "outputs": [
    {
     "data": {
      "application/vnd.plotly.v1+json": {
       "config": {
        "plotlyServerURL": "https://plot.ly"
       },
       "data": [
        {
         "alignmentgroup": "True",
         "bingroup": "x",
         "hovertemplate": "premium_diff_pct=%{x}<br>count=%{y}<extra></extra>",
         "legendgroup": "",
         "marker": {
          "color": "#636efa",
          "pattern": {
           "shape": ""
          }
         },
         "name": "",
         "nbinsx": 10,
         "offsetgroup": "",
         "orientation": "v",
         "showlegend": false,
         "texttemplate": "%{value}",
         "type": "histogram",
         "x": [
          -23.213405511574805,
          -53.69649849013753,
          -53.76609721539759,
          -51.240146301380946,
          -15.712979576913078,
          -22.81561372071179,
          -18.666701647121247,
          -24.03787248223645,
          -52.30316027634655,
          -33.708692836492055,
          -54.34905057272008,
          -49.83801991706253,
          -52.45816217878473,
          -67.74718439187298,
          -10.688303410415006,
          -64.20957090211685,
          -10.966456868756694,
          -44.14354493147463,
          -35.2107383174925,
          -59.11390528417266,
          -20.557121539695846,
          -12.489581116555389,
          -43.35569015389663,
          -12.787772932178441,
          -70.88950950872066,
          -62.224496955311274,
          -27.385622789057017,
          -27.693820248252937,
          -20.097346983451384,
          -11.556128120568035,
          -35.005520531402475,
          -13.41687787589342,
          -13.351993876491118,
          -24.192091069414733,
          -11.864630019837223,
          -42.32904816987875,
          null,
          -18.684129540275688,
          -18.863165171688355,
          -14.620664110219849,
          -17.72262815700842,
          -17.189133171785024,
          -10.028805947152604,
          -25.977893900378948,
          -58.569554619009516,
          0,
          -20.120354825468,
          -14.942988378190538,
          -14.5597409636901,
          -20.54350399735019,
          -14.371254038350612,
          -21.782663419675874,
          -21.407231303705778,
          -14.889506542163867,
          -6.521668669513922,
          -13.796276588763325,
          -18.939909258896044,
          -17.663283513434944,
          -20.601282819790477,
          -14.68751340388029,
          -18.21786701597215,
          -76.73353121988144,
          -18.930383803174895,
          -22.37097564968962,
          -59.46618272279512,
          -67.07802811837402,
          -63.07584747764366,
          -19.800593551906818,
          -16.65637731465259,
          -81.9939393310326,
          -32.63589908660385,
          -10.25111075816835,
          -19.808981983355125,
          -24.924903094817115,
          -10.598839076769858,
          -20.934569395713304,
          -26.9963660269179,
          -13.372086048309264,
          -10.410076400822147,
          -16.328399633950088,
          -77.87274601725315,
          -47.87862520301406,
          -81.74542061775955,
          -58.2290031932029,
          -17.186358404649248,
          -10.48661813689986,
          -49.59688589750674,
          -61.83573217016405,
          -20.483680585582224,
          -19.78105342756747,
          -52.38579246705737,
          -14.146805179025637,
          -8.48932034263152,
          -19.01960886662153,
          -11.793262611331363,
          -37.93611282358425,
          -13.919043611126279,
          -8.562082246229085,
          -11.48691757535294,
          -13.723112244850645,
          -23.55333564192831,
          -9.78138894152353,
          -14.324473777036337,
          -16.070583772220846,
          -13.084510297108169,
          -15.428963408710073,
          -8.093824543418982,
          -8.111979860352092,
          -22.826540956127435,
          -63.470325465020274,
          -64.12555665344784,
          -78.20086308071431,
          -64.14170919226939,
          -26.661912935174282,
          -35.52305847594887,
          -22.920115470317242,
          -54.29405368400182,
          -10.925254767294106,
          -22.76987653558302,
          -72.83355812926062,
          -22.490581907017393,
          -66.32225589331105,
          -15.009219102526279,
          -18.919553877478688,
          -22.751233103034906,
          -12.718290902831109,
          -59.90602530291388,
          -8.323741391123455,
          -66.72194574814101,
          -9.53621339236129,
          -54.51288397851954,
          -53.20326437995274,
          -20.46020517509674,
          -14.5992982179785,
          -17.38987941978291,
          -53.27365706748233,
          -12.236507743535718,
          -13.130184637344119,
          -16.969587097628747,
          -42.51689217371394,
          -12.696084502980852,
          -57.91265316258547,
          7.437131555693285,
          -9.512290599847518,
          -47.137293040770274,
          -68.98403048327353,
          -21.37082914852495,
          -19.968999328989362,
          -15.68837640135523,
          -20.46340452057589,
          -57.19048735011233,
          -22.218511226587903,
          -17.21216113188638,
          -15.003852922168246,
          -10.340678636088926,
          -38.81839714083874,
          -16.760222167098505,
          -23.92891710164794,
          -14.469572820249597,
          -24.11559690081079,
          -10.281891731680128,
          -74.21367266085682,
          -0.33773247669973044,
          -53.28694881021953,
          -76.79790710013097,
          -47.86437226518833,
          -17.979922627729348,
          -55.10561285618399,
          -23.398647989130417,
          -12.3633535124511,
          -15.938981295285474,
          -22.864421297661288,
          -30.778234047546356,
          -18.418912149697835,
          -25.67750335008854,
          1.0584507189219243,
          -51.33402233512856,
          -41.20157902005087,
          -12.161510925890612,
          -62.11689461136268,
          -18.274295503135093,
          -8.915988824737722,
          -39.2820093255099,
          -12.25036037441303,
          -10.506100415619112,
          -20.459766067430262,
          -63.708350566144034,
          -26.731411724470977,
          -34.15091925870207,
          -33.64111678336882,
          -22.371265033133902
         ],
         "xaxis": "x",
         "yaxis": "y"
        }
       ],
       "layout": {
        "bargap": 0.01,
        "barmode": "relative",
        "legend": {
         "tracegroupgap": 0
        },
        "margin": {
         "t": 60
        },
        "plot_bgcolor": "white",
        "template": {
         "data": {
          "bar": [
           {
            "error_x": {
             "color": "#2a3f5f"
            },
            "error_y": {
             "color": "#2a3f5f"
            },
            "marker": {
             "line": {
              "color": "#E5ECF6",
              "width": 0.5
             },
             "pattern": {
              "fillmode": "overlay",
              "size": 10,
              "solidity": 0.2
             }
            },
            "type": "bar"
           }
          ],
          "barpolar": [
           {
            "marker": {
             "line": {
              "color": "#E5ECF6",
              "width": 0.5
             },
             "pattern": {
              "fillmode": "overlay",
              "size": 10,
              "solidity": 0.2
             }
            },
            "type": "barpolar"
           }
          ],
          "carpet": [
           {
            "aaxis": {
             "endlinecolor": "#2a3f5f",
             "gridcolor": "white",
             "linecolor": "white",
             "minorgridcolor": "white",
             "startlinecolor": "#2a3f5f"
            },
            "baxis": {
             "endlinecolor": "#2a3f5f",
             "gridcolor": "white",
             "linecolor": "white",
             "minorgridcolor": "white",
             "startlinecolor": "#2a3f5f"
            },
            "type": "carpet"
           }
          ],
          "choropleth": [
           {
            "colorbar": {
             "outlinewidth": 0,
             "ticks": ""
            },
            "type": "choropleth"
           }
          ],
          "contour": [
           {
            "colorbar": {
             "outlinewidth": 0,
             "ticks": ""
            },
            "colorscale": [
             [
              0,
              "#0d0887"
             ],
             [
              0.1111111111111111,
              "#46039f"
             ],
             [
              0.2222222222222222,
              "#7201a8"
             ],
             [
              0.3333333333333333,
              "#9c179e"
             ],
             [
              0.4444444444444444,
              "#bd3786"
             ],
             [
              0.5555555555555556,
              "#d8576b"
             ],
             [
              0.6666666666666666,
              "#ed7953"
             ],
             [
              0.7777777777777778,
              "#fb9f3a"
             ],
             [
              0.8888888888888888,
              "#fdca26"
             ],
             [
              1,
              "#f0f921"
             ]
            ],
            "type": "contour"
           }
          ],
          "contourcarpet": [
           {
            "colorbar": {
             "outlinewidth": 0,
             "ticks": ""
            },
            "type": "contourcarpet"
           }
          ],
          "heatmap": [
           {
            "colorbar": {
             "outlinewidth": 0,
             "ticks": ""
            },
            "colorscale": [
             [
              0,
              "#0d0887"
             ],
             [
              0.1111111111111111,
              "#46039f"
             ],
             [
              0.2222222222222222,
              "#7201a8"
             ],
             [
              0.3333333333333333,
              "#9c179e"
             ],
             [
              0.4444444444444444,
              "#bd3786"
             ],
             [
              0.5555555555555556,
              "#d8576b"
             ],
             [
              0.6666666666666666,
              "#ed7953"
             ],
             [
              0.7777777777777778,
              "#fb9f3a"
             ],
             [
              0.8888888888888888,
              "#fdca26"
             ],
             [
              1,
              "#f0f921"
             ]
            ],
            "type": "heatmap"
           }
          ],
          "heatmapgl": [
           {
            "colorbar": {
             "outlinewidth": 0,
             "ticks": ""
            },
            "colorscale": [
             [
              0,
              "#0d0887"
             ],
             [
              0.1111111111111111,
              "#46039f"
             ],
             [
              0.2222222222222222,
              "#7201a8"
             ],
             [
              0.3333333333333333,
              "#9c179e"
             ],
             [
              0.4444444444444444,
              "#bd3786"
             ],
             [
              0.5555555555555556,
              "#d8576b"
             ],
             [
              0.6666666666666666,
              "#ed7953"
             ],
             [
              0.7777777777777778,
              "#fb9f3a"
             ],
             [
              0.8888888888888888,
              "#fdca26"
             ],
             [
              1,
              "#f0f921"
             ]
            ],
            "type": "heatmapgl"
           }
          ],
          "histogram": [
           {
            "marker": {
             "pattern": {
              "fillmode": "overlay",
              "size": 10,
              "solidity": 0.2
             }
            },
            "type": "histogram"
           }
          ],
          "histogram2d": [
           {
            "colorbar": {
             "outlinewidth": 0,
             "ticks": ""
            },
            "colorscale": [
             [
              0,
              "#0d0887"
             ],
             [
              0.1111111111111111,
              "#46039f"
             ],
             [
              0.2222222222222222,
              "#7201a8"
             ],
             [
              0.3333333333333333,
              "#9c179e"
             ],
             [
              0.4444444444444444,
              "#bd3786"
             ],
             [
              0.5555555555555556,
              "#d8576b"
             ],
             [
              0.6666666666666666,
              "#ed7953"
             ],
             [
              0.7777777777777778,
              "#fb9f3a"
             ],
             [
              0.8888888888888888,
              "#fdca26"
             ],
             [
              1,
              "#f0f921"
             ]
            ],
            "type": "histogram2d"
           }
          ],
          "histogram2dcontour": [
           {
            "colorbar": {
             "outlinewidth": 0,
             "ticks": ""
            },
            "colorscale": [
             [
              0,
              "#0d0887"
             ],
             [
              0.1111111111111111,
              "#46039f"
             ],
             [
              0.2222222222222222,
              "#7201a8"
             ],
             [
              0.3333333333333333,
              "#9c179e"
             ],
             [
              0.4444444444444444,
              "#bd3786"
             ],
             [
              0.5555555555555556,
              "#d8576b"
             ],
             [
              0.6666666666666666,
              "#ed7953"
             ],
             [
              0.7777777777777778,
              "#fb9f3a"
             ],
             [
              0.8888888888888888,
              "#fdca26"
             ],
             [
              1,
              "#f0f921"
             ]
            ],
            "type": "histogram2dcontour"
           }
          ],
          "mesh3d": [
           {
            "colorbar": {
             "outlinewidth": 0,
             "ticks": ""
            },
            "type": "mesh3d"
           }
          ],
          "parcoords": [
           {
            "line": {
             "colorbar": {
              "outlinewidth": 0,
              "ticks": ""
             }
            },
            "type": "parcoords"
           }
          ],
          "pie": [
           {
            "automargin": true,
            "type": "pie"
           }
          ],
          "scatter": [
           {
            "fillpattern": {
             "fillmode": "overlay",
             "size": 10,
             "solidity": 0.2
            },
            "type": "scatter"
           }
          ],
          "scatter3d": [
           {
            "line": {
             "colorbar": {
              "outlinewidth": 0,
              "ticks": ""
             }
            },
            "marker": {
             "colorbar": {
              "outlinewidth": 0,
              "ticks": ""
             }
            },
            "type": "scatter3d"
           }
          ],
          "scattercarpet": [
           {
            "marker": {
             "colorbar": {
              "outlinewidth": 0,
              "ticks": ""
             }
            },
            "type": "scattercarpet"
           }
          ],
          "scattergeo": [
           {
            "marker": {
             "colorbar": {
              "outlinewidth": 0,
              "ticks": ""
             }
            },
            "type": "scattergeo"
           }
          ],
          "scattergl": [
           {
            "marker": {
             "colorbar": {
              "outlinewidth": 0,
              "ticks": ""
             }
            },
            "type": "scattergl"
           }
          ],
          "scattermapbox": [
           {
            "marker": {
             "colorbar": {
              "outlinewidth": 0,
              "ticks": ""
             }
            },
            "type": "scattermapbox"
           }
          ],
          "scatterpolar": [
           {
            "marker": {
             "colorbar": {
              "outlinewidth": 0,
              "ticks": ""
             }
            },
            "type": "scatterpolar"
           }
          ],
          "scatterpolargl": [
           {
            "marker": {
             "colorbar": {
              "outlinewidth": 0,
              "ticks": ""
             }
            },
            "type": "scatterpolargl"
           }
          ],
          "scatterternary": [
           {
            "marker": {
             "colorbar": {
              "outlinewidth": 0,
              "ticks": ""
             }
            },
            "type": "scatterternary"
           }
          ],
          "surface": [
           {
            "colorbar": {
             "outlinewidth": 0,
             "ticks": ""
            },
            "colorscale": [
             [
              0,
              "#0d0887"
             ],
             [
              0.1111111111111111,
              "#46039f"
             ],
             [
              0.2222222222222222,
              "#7201a8"
             ],
             [
              0.3333333333333333,
              "#9c179e"
             ],
             [
              0.4444444444444444,
              "#bd3786"
             ],
             [
              0.5555555555555556,
              "#d8576b"
             ],
             [
              0.6666666666666666,
              "#ed7953"
             ],
             [
              0.7777777777777778,
              "#fb9f3a"
             ],
             [
              0.8888888888888888,
              "#fdca26"
             ],
             [
              1,
              "#f0f921"
             ]
            ],
            "type": "surface"
           }
          ],
          "table": [
           {
            "cells": {
             "fill": {
              "color": "#EBF0F8"
             },
             "line": {
              "color": "white"
             }
            },
            "header": {
             "fill": {
              "color": "#C8D4E3"
             },
             "line": {
              "color": "white"
             }
            },
            "type": "table"
           }
          ]
         },
         "layout": {
          "annotationdefaults": {
           "arrowcolor": "#2a3f5f",
           "arrowhead": 0,
           "arrowwidth": 1
          },
          "autotypenumbers": "strict",
          "coloraxis": {
           "colorbar": {
            "outlinewidth": 0,
            "ticks": ""
           }
          },
          "colorscale": {
           "diverging": [
            [
             0,
             "#8e0152"
            ],
            [
             0.1,
             "#c51b7d"
            ],
            [
             0.2,
             "#de77ae"
            ],
            [
             0.3,
             "#f1b6da"
            ],
            [
             0.4,
             "#fde0ef"
            ],
            [
             0.5,
             "#f7f7f7"
            ],
            [
             0.6,
             "#e6f5d0"
            ],
            [
             0.7,
             "#b8e186"
            ],
            [
             0.8,
             "#7fbc41"
            ],
            [
             0.9,
             "#4d9221"
            ],
            [
             1,
             "#276419"
            ]
           ],
           "sequential": [
            [
             0,
             "#0d0887"
            ],
            [
             0.1111111111111111,
             "#46039f"
            ],
            [
             0.2222222222222222,
             "#7201a8"
            ],
            [
             0.3333333333333333,
             "#9c179e"
            ],
            [
             0.4444444444444444,
             "#bd3786"
            ],
            [
             0.5555555555555556,
             "#d8576b"
            ],
            [
             0.6666666666666666,
             "#ed7953"
            ],
            [
             0.7777777777777778,
             "#fb9f3a"
            ],
            [
             0.8888888888888888,
             "#fdca26"
            ],
            [
             1,
             "#f0f921"
            ]
           ],
           "sequentialminus": [
            [
             0,
             "#0d0887"
            ],
            [
             0.1111111111111111,
             "#46039f"
            ],
            [
             0.2222222222222222,
             "#7201a8"
            ],
            [
             0.3333333333333333,
             "#9c179e"
            ],
            [
             0.4444444444444444,
             "#bd3786"
            ],
            [
             0.5555555555555556,
             "#d8576b"
            ],
            [
             0.6666666666666666,
             "#ed7953"
            ],
            [
             0.7777777777777778,
             "#fb9f3a"
            ],
            [
             0.8888888888888888,
             "#fdca26"
            ],
            [
             1,
             "#f0f921"
            ]
           ]
          },
          "colorway": [
           "#636efa",
           "#EF553B",
           "#00cc96",
           "#ab63fa",
           "#FFA15A",
           "#19d3f3",
           "#FF6692",
           "#B6E880",
           "#FF97FF",
           "#FECB52"
          ],
          "font": {
           "color": "#2a3f5f"
          },
          "geo": {
           "bgcolor": "white",
           "lakecolor": "white",
           "landcolor": "#E5ECF6",
           "showlakes": true,
           "showland": true,
           "subunitcolor": "white"
          },
          "hoverlabel": {
           "align": "left"
          },
          "hovermode": "closest",
          "mapbox": {
           "style": "light"
          },
          "paper_bgcolor": "white",
          "plot_bgcolor": "#E5ECF6",
          "polar": {
           "angularaxis": {
            "gridcolor": "white",
            "linecolor": "white",
            "ticks": ""
           },
           "bgcolor": "#E5ECF6",
           "radialaxis": {
            "gridcolor": "white",
            "linecolor": "white",
            "ticks": ""
           }
          },
          "scene": {
           "xaxis": {
            "backgroundcolor": "#E5ECF6",
            "gridcolor": "white",
            "gridwidth": 2,
            "linecolor": "white",
            "showbackground": true,
            "ticks": "",
            "zerolinecolor": "white"
           },
           "yaxis": {
            "backgroundcolor": "#E5ECF6",
            "gridcolor": "white",
            "gridwidth": 2,
            "linecolor": "white",
            "showbackground": true,
            "ticks": "",
            "zerolinecolor": "white"
           },
           "zaxis": {
            "backgroundcolor": "#E5ECF6",
            "gridcolor": "white",
            "gridwidth": 2,
            "linecolor": "white",
            "showbackground": true,
            "ticks": "",
            "zerolinecolor": "white"
           }
          },
          "shapedefaults": {
           "line": {
            "color": "#2a3f5f"
           }
          },
          "ternary": {
           "aaxis": {
            "gridcolor": "white",
            "linecolor": "white",
            "ticks": ""
           },
           "baxis": {
            "gridcolor": "white",
            "linecolor": "white",
            "ticks": ""
           },
           "bgcolor": "#E5ECF6",
           "caxis": {
            "gridcolor": "white",
            "linecolor": "white",
            "ticks": ""
           }
          },
          "title": {
           "x": 0.05
          },
          "xaxis": {
           "automargin": true,
           "gridcolor": "white",
           "linecolor": "white",
           "ticks": "",
           "title": {
            "standoff": 15
           },
           "zerolinecolor": "white",
           "zerolinewidth": 2
          },
          "yaxis": {
           "automargin": true,
           "gridcolor": "white",
           "linecolor": "white",
           "ticks": "",
           "title": {
            "standoff": 15
           },
           "zerolinecolor": "white",
           "zerolinewidth": 2
          }
         }
        },
        "title": {
         "text": "Change in tokenization premium from GPT-4 to GPT-4o"
        },
        "xaxis": {
         "anchor": "y",
         "domain": [
          0,
          1
         ],
         "title": {
          "text": "Premium delta (%)"
         }
        },
        "yaxis": {
         "anchor": "x",
         "domain": [
          0,
          1
         ],
         "title": {
          "text": "# of languages"
         }
        }
       }
      }
     },
     "metadata": {},
     "output_type": "display_data"
    }
   ],
   "source": [
    "fig = px.histogram(ulang_df, x=\"premium_diff_pct\", nbins=10, text_auto=True)\n",
    "\n",
    "fig.update_layout(\n",
    "    plot_bgcolor='white',\n",
    "    title_text='Change in tokenization premium from GPT-4 to GPT-4o', # title of plot\n",
    "    xaxis_title_text='Premium delta (%)', # xaxis label\n",
    "    yaxis_title_text='# of languages', # yaxis label\n",
    "    bargap=0.01, # gap between bars of adjacent location coordinates\n",
    ")\n",
    "fig.write_image(\"../reports/premium_change.png\", format=\"png\", scale=4)\n",
    "fig.show()"
   ]
  },
  {
   "cell_type": "code",
   "execution_count": 14,
   "metadata": {},
   "outputs": [
    {
     "data": {
      "text/html": [
       "<div>\n",
       "<style scoped>\n",
       "    .dataframe tbody tr th:only-of-type {\n",
       "        vertical-align: middle;\n",
       "    }\n",
       "\n",
       "    .dataframe tbody tr th {\n",
       "        vertical-align: top;\n",
       "    }\n",
       "\n",
       "    .dataframe thead th {\n",
       "        text-align: right;\n",
       "    }\n",
       "</style>\n",
       "<table border=\"1\" class=\"dataframe\">\n",
       "  <thead>\n",
       "    <tr style=\"text-align: right;\">\n",
       "      <th></th>\n",
       "      <th>lang</th>\n",
       "      <th>location</th>\n",
       "      <th>country</th>\n",
       "      <th>year</th>\n",
       "      <th>population</th>\n",
       "      <th>population_2022adj</th>\n",
       "      <th>NY.GDP.PCAP.CD</th>\n",
       "      <th>id</th>\n",
       "      <th>incomeLevel</th>\n",
       "      <th>cl100k_base</th>\n",
       "      <th>o200k_base</th>\n",
       "      <th>pop_weighted_wealth</th>\n",
       "      <th>total_population</th>\n",
       "      <th>weighted_wealth_income_classification</th>\n",
       "      <th>premium_diff</th>\n",
       "      <th>premium_diff_pct</th>\n",
       "    </tr>\n",
       "  </thead>\n",
       "  <tbody>\n",
       "    <tr>\n",
       "      <th>2231</th>\n",
       "      <td>sat</td>\n",
       "      <td>Bangladesh</td>\n",
       "      <td>BGD</td>\n",
       "      <td>2011.0</td>\n",
       "      <td>225000.0</td>\n",
       "      <td>259344.0</td>\n",
       "      <td>2688.305501</td>\n",
       "      <td>BGD</td>\n",
       "      <td>Lower middle income</td>\n",
       "      <td>12.962892</td>\n",
       "      <td>13.926960</td>\n",
       "      <td>2410.680911</td>\n",
       "      <td>8.699573e+06</td>\n",
       "      <td>Lower middle income</td>\n",
       "      <td>0.964067</td>\n",
       "      <td>7.437132</td>\n",
       "    </tr>\n",
       "    <tr>\n",
       "      <th>2789</th>\n",
       "      <td>tzm</td>\n",
       "      <td>Canada</td>\n",
       "      <td>CAN</td>\n",
       "      <td>2021.0</td>\n",
       "      <td>4740.0</td>\n",
       "      <td>4854.0</td>\n",
       "      <td>55522.445688</td>\n",
       "      <td>CAN</td>\n",
       "      <td>High income</td>\n",
       "      <td>10.150779</td>\n",
       "      <td>10.258220</td>\n",
       "      <td>5538.420928</td>\n",
       "      <td>3.188939e+06</td>\n",
       "      <td>Upper middle income</td>\n",
       "      <td>0.107441</td>\n",
       "      <td>1.058451</td>\n",
       "    </tr>\n",
       "    <tr>\n",
       "      <th>773</th>\n",
       "      <td>eng</td>\n",
       "      <td>Aruba, all users. L1 users: 7,880 in Aruba</td>\n",
       "      <td>ABW</td>\n",
       "      <td>2020.0</td>\n",
       "      <td>63480.0</td>\n",
       "      <td>63482.0</td>\n",
       "      <td>33300.838819</td>\n",
       "      <td>ABW</td>\n",
       "      <td>High income</td>\n",
       "      <td>1.000000</td>\n",
       "      <td>1.000000</td>\n",
       "      <td>22794.976819</td>\n",
       "      <td>1.974081e+09</td>\n",
       "      <td>High income</td>\n",
       "      <td>0.000000</td>\n",
       "      <td>0.000000</td>\n",
       "    </tr>\n",
       "    <tr>\n",
       "      <th>2562</th>\n",
       "      <td>taq</td>\n",
       "      <td>Burkina Faso</td>\n",
       "      <td>BFA</td>\n",
       "      <td>2021.0</td>\n",
       "      <td>187000.0</td>\n",
       "      <td>196870.0</td>\n",
       "      <td>830.037150</td>\n",
       "      <td>BFA</td>\n",
       "      <td>Low income</td>\n",
       "      <td>6.283203</td>\n",
       "      <td>6.261983</td>\n",
       "      <td>1010.426489</td>\n",
       "      <td>9.196240e+05</td>\n",
       "      <td>Low income</td>\n",
       "      <td>-0.021220</td>\n",
       "      <td>-0.337732</td>\n",
       "    </tr>\n",
       "    <tr>\n",
       "      <th>1108</th>\n",
       "      <td>fur</td>\n",
       "      <td>Italy</td>\n",
       "      <td>ITA</td>\n",
       "      <td>2014.0</td>\n",
       "      <td>600000.0</td>\n",
       "      <td>587030.0</td>\n",
       "      <td>34776.423234</td>\n",
       "      <td>ITA</td>\n",
       "      <td>High income</td>\n",
       "      <td>1.872711</td>\n",
       "      <td>1.750579</td>\n",
       "      <td>34776.423234</td>\n",
       "      <td>5.870300e+05</td>\n",
       "      <td>High income</td>\n",
       "      <td>-0.122132</td>\n",
       "      <td>-6.521669</td>\n",
       "    </tr>\n",
       "    <tr>\n",
       "      <th>...</th>\n",
       "      <td>...</td>\n",
       "      <td>...</td>\n",
       "      <td>...</td>\n",
       "      <td>...</td>\n",
       "      <td>...</td>\n",
       "      <td>...</td>\n",
       "      <td>...</td>\n",
       "      <td>...</td>\n",
       "      <td>...</td>\n",
       "      <td>...</td>\n",
       "      <td>...</td>\n",
       "      <td>...</td>\n",
       "      <td>...</td>\n",
       "      <td>...</td>\n",
       "      <td>...</td>\n",
       "      <td>...</td>\n",
       "    </tr>\n",
       "    <tr>\n",
       "      <th>1452</th>\n",
       "      <td>kan</td>\n",
       "      <td>Australia</td>\n",
       "      <td>AUS</td>\n",
       "      <td>2021.0</td>\n",
       "      <td>14700.0</td>\n",
       "      <td>14903.0</td>\n",
       "      <td>65099.845912</td>\n",
       "      <td>AUS</td>\n",
       "      <td>High income</td>\n",
       "      <td>8.973211</td>\n",
       "      <td>1.985525</td>\n",
       "      <td>2573.945147</td>\n",
       "      <td>6.698378e+07</td>\n",
       "      <td>Lower middle income</td>\n",
       "      <td>-6.987686</td>\n",
       "      <td>-77.872746</td>\n",
       "    </tr>\n",
       "    <tr>\n",
       "      <th>1752</th>\n",
       "      <td>mal</td>\n",
       "      <td>United Arab Emirates</td>\n",
       "      <td>ARE</td>\n",
       "      <td>2023.0</td>\n",
       "      <td>314000.0</td>\n",
       "      <td>314000.0</td>\n",
       "      <td>53707.980081</td>\n",
       "      <td>ARE</td>\n",
       "      <td>High income</td>\n",
       "      <td>9.049247</td>\n",
       "      <td>1.972658</td>\n",
       "      <td>3900.429587</td>\n",
       "      <td>4.277313e+07</td>\n",
       "      <td>Lower middle income</td>\n",
       "      <td>-7.076589</td>\n",
       "      <td>-78.200863</td>\n",
       "    </tr>\n",
       "    <tr>\n",
       "      <th>1462</th>\n",
       "      <td>kat</td>\n",
       "      <td>Azerbaijan</td>\n",
       "      <td>AZE</td>\n",
       "      <td>2019.0</td>\n",
       "      <td>30000.0</td>\n",
       "      <td>30608.0</td>\n",
       "      <td>7762.073829</td>\n",
       "      <td>AZE</td>\n",
       "      <td>Upper middle income</td>\n",
       "      <td>9.884889</td>\n",
       "      <td>1.804445</td>\n",
       "      <td>7833.243516</td>\n",
       "      <td>3.912529e+06</td>\n",
       "      <td>Upper middle income</td>\n",
       "      <td>-8.080444</td>\n",
       "      <td>-81.745421</td>\n",
       "    </tr>\n",
       "    <tr>\n",
       "      <th>1309</th>\n",
       "      <td>hye</td>\n",
       "      <td>Armenia</td>\n",
       "      <td>ARM</td>\n",
       "      <td>2013.0</td>\n",
       "      <td>2960000.0</td>\n",
       "      <td>2823634.0</td>\n",
       "      <td>7018.051504</td>\n",
       "      <td>ARM</td>\n",
       "      <td>Upper middle income</td>\n",
       "      <td>9.990197</td>\n",
       "      <td>1.798841</td>\n",
       "      <td>7936.850693</td>\n",
       "      <td>3.675981e+06</td>\n",
       "      <td>Upper middle income</td>\n",
       "      <td>-8.191356</td>\n",
       "      <td>-81.993939</td>\n",
       "    </tr>\n",
       "    <tr>\n",
       "      <th>519</th>\n",
       "      <td>cmn</td>\n",
       "      <td>Aruba</td>\n",
       "      <td>ABW</td>\n",
       "      <td>2020.0</td>\n",
       "      <td>1670.0</td>\n",
       "      <td>1670.0</td>\n",
       "      <td>33300.838819</td>\n",
       "      <td>ABW</td>\n",
       "      <td>High income</td>\n",
       "      <td>NaN</td>\n",
       "      <td>NaN</td>\n",
       "      <td>13247.447489</td>\n",
       "      <td>1.121919e+09</td>\n",
       "      <td>Upper middle income</td>\n",
       "      <td>NaN</td>\n",
       "      <td>NaN</td>\n",
       "    </tr>\n",
       "  </tbody>\n",
       "</table>\n",
       "<p>191 rows × 16 columns</p>\n",
       "</div>"
      ],
      "text/plain": [
       "     lang                                    location country    year  \\\n",
       "2231  sat                                  Bangladesh     BGD  2011.0   \n",
       "2789  tzm                                      Canada     CAN  2021.0   \n",
       "773   eng  Aruba, all users. L1 users: 7,880 in Aruba     ABW  2020.0   \n",
       "2562  taq                                Burkina Faso     BFA  2021.0   \n",
       "1108  fur                                       Italy     ITA  2014.0   \n",
       "...   ...                                         ...     ...     ...   \n",
       "1452  kan                                   Australia     AUS  2021.0   \n",
       "1752  mal                        United Arab Emirates     ARE  2023.0   \n",
       "1462  kat                                  Azerbaijan     AZE  2019.0   \n",
       "1309  hye                                     Armenia     ARM  2013.0   \n",
       "519   cmn                                       Aruba     ABW  2020.0   \n",
       "\n",
       "      population  population_2022adj  NY.GDP.PCAP.CD   id  \\\n",
       "2231    225000.0            259344.0     2688.305501  BGD   \n",
       "2789      4740.0              4854.0    55522.445688  CAN   \n",
       "773      63480.0             63482.0    33300.838819  ABW   \n",
       "2562    187000.0            196870.0      830.037150  BFA   \n",
       "1108    600000.0            587030.0    34776.423234  ITA   \n",
       "...          ...                 ...             ...  ...   \n",
       "1452     14700.0             14903.0    65099.845912  AUS   \n",
       "1752    314000.0            314000.0    53707.980081  ARE   \n",
       "1462     30000.0             30608.0     7762.073829  AZE   \n",
       "1309   2960000.0           2823634.0     7018.051504  ARM   \n",
       "519       1670.0              1670.0    33300.838819  ABW   \n",
       "\n",
       "              incomeLevel  cl100k_base  o200k_base  pop_weighted_wealth  \\\n",
       "2231  Lower middle income    12.962892   13.926960          2410.680911   \n",
       "2789          High income    10.150779   10.258220          5538.420928   \n",
       "773           High income     1.000000    1.000000         22794.976819   \n",
       "2562           Low income     6.283203    6.261983          1010.426489   \n",
       "1108          High income     1.872711    1.750579         34776.423234   \n",
       "...                   ...          ...         ...                  ...   \n",
       "1452          High income     8.973211    1.985525          2573.945147   \n",
       "1752          High income     9.049247    1.972658          3900.429587   \n",
       "1462  Upper middle income     9.884889    1.804445          7833.243516   \n",
       "1309  Upper middle income     9.990197    1.798841          7936.850693   \n",
       "519           High income          NaN         NaN         13247.447489   \n",
       "\n",
       "      total_population weighted_wealth_income_classification  premium_diff  \\\n",
       "2231      8.699573e+06                   Lower middle income      0.964067   \n",
       "2789      3.188939e+06                   Upper middle income      0.107441   \n",
       "773       1.974081e+09                           High income      0.000000   \n",
       "2562      9.196240e+05                            Low income     -0.021220   \n",
       "1108      5.870300e+05                           High income     -0.122132   \n",
       "...                ...                                   ...           ...   \n",
       "1452      6.698378e+07                   Lower middle income     -6.987686   \n",
       "1752      4.277313e+07                   Lower middle income     -7.076589   \n",
       "1462      3.912529e+06                   Upper middle income     -8.080444   \n",
       "1309      3.675981e+06                   Upper middle income     -8.191356   \n",
       "519       1.121919e+09                   Upper middle income           NaN   \n",
       "\n",
       "      premium_diff_pct  \n",
       "2231          7.437132  \n",
       "2789          1.058451  \n",
       "773           0.000000  \n",
       "2562         -0.337732  \n",
       "1108         -6.521669  \n",
       "...                ...  \n",
       "1452        -77.872746  \n",
       "1752        -78.200863  \n",
       "1462        -81.745421  \n",
       "1309        -81.993939  \n",
       "519                NaN  \n",
       "\n",
       "[191 rows x 16 columns]"
      ]
     },
     "execution_count": 14,
     "metadata": {},
     "output_type": "execute_result"
    }
   ],
   "source": [
    "ulang_df.sort_values(\"premium_diff_pct\", ascending=False, inplace=True)\n",
    "ulang_df"
   ]
  },
  {
   "cell_type": "code",
   "execution_count": 15,
   "metadata": {},
   "outputs": [
    {
     "data": {
      "text/plain": [
       "count    187.000000\n",
       "mean     -30.133952\n",
       "std       20.476162\n",
       "min      -81.993939\n",
       "25%      -47.871499\n",
       "50%      -20.934569\n",
       "75%      -14.579520\n",
       "max       -0.337732\n",
       "Name: premium_diff_pct, dtype: float64"
      ]
     },
     "execution_count": 15,
     "metadata": {},
     "output_type": "execute_result"
    }
   ],
   "source": [
    "ulang_df[ulang_df[\"premium_diff_pct\"] < 0][\"premium_diff_pct\"].describe()"
   ]
  },
  {
   "cell_type": "code",
   "execution_count": 16,
   "metadata": {},
   "outputs": [
    {
     "data": {
      "text/plain": [
       "count    2.000000\n",
       "mean     4.247791\n",
       "std      4.510408\n",
       "min      1.058451\n",
       "25%      2.653121\n",
       "50%      4.247791\n",
       "75%      5.842461\n",
       "max      7.437132\n",
       "Name: premium_diff_pct, dtype: float64"
      ]
     },
     "execution_count": 16,
     "metadata": {},
     "output_type": "execute_result"
    }
   ],
   "source": [
    "ulang_df[ulang_df[\"premium_diff_pct\"] > 0][\"premium_diff_pct\"].describe()"
   ]
  },
  {
   "cell_type": "markdown",
   "metadata": {},
   "source": [
    "We find that the majority of the languages analyzed have experienced a decrease in tokenization premium from GPT-4 to GPT-4o. Notably, only Santhali (sat) and Tamazight (tzm) exhibit an increase in tokenization premium compared to other languages. The median decrease in tokenization premium is 20.93%, while the mean decrease is 30.13%. In contrast, Santhali shows a 7.44% increase in tokenization premium, and Tamazight demonstrates a marginal increase of 1.06%."
   ]
  },
  {
   "cell_type": "code",
   "execution_count": 17,
   "metadata": {},
   "outputs": [
    {
     "data": {
      "text/html": [
       "<div>\n",
       "<style scoped>\n",
       "    .dataframe tbody tr th:only-of-type {\n",
       "        vertical-align: middle;\n",
       "    }\n",
       "\n",
       "    .dataframe tbody tr th {\n",
       "        vertical-align: top;\n",
       "    }\n",
       "\n",
       "    .dataframe thead th {\n",
       "        text-align: right;\n",
       "    }\n",
       "</style>\n",
       "<table border=\"1\" class=\"dataframe\">\n",
       "  <thead>\n",
       "    <tr style=\"text-align: right;\">\n",
       "      <th></th>\n",
       "      <th>cl100k_base</th>\n",
       "      <th>o200k_base</th>\n",
       "      <th>premium_diff_pct</th>\n",
       "    </tr>\n",
       "    <tr>\n",
       "      <th>lang</th>\n",
       "      <th></th>\n",
       "      <th></th>\n",
       "      <th></th>\n",
       "    </tr>\n",
       "  </thead>\n",
       "  <tbody>\n",
       "    <tr>\n",
       "      <th>eng</th>\n",
       "      <td>1.000000</td>\n",
       "      <td>1.000000</td>\n",
       "      <td>0.000000</td>\n",
       "    </tr>\n",
       "    <tr>\n",
       "      <th>por</th>\n",
       "      <td>1.489847</td>\n",
       "      <td>1.230764</td>\n",
       "      <td>-17.389879</td>\n",
       "    </tr>\n",
       "    <tr>\n",
       "      <th>spa</th>\n",
       "      <td>1.565468</td>\n",
       "      <td>1.330588</td>\n",
       "      <td>-15.003853</td>\n",
       "    </tr>\n",
       "    <tr>\n",
       "      <th>deu</th>\n",
       "      <td>1.598946</td>\n",
       "      <td>1.315571</td>\n",
       "      <td>-17.722628</td>\n",
       "    </tr>\n",
       "    <tr>\n",
       "      <th>swh</th>\n",
       "      <td>1.976500</td>\n",
       "      <td>1.499855</td>\n",
       "      <td>-24.115597</td>\n",
       "    </tr>\n",
       "    <tr>\n",
       "      <th>zho</th>\n",
       "      <td>2.019078</td>\n",
       "      <td>1.339837</td>\n",
       "      <td>-33.641117</td>\n",
       "    </tr>\n",
       "    <tr>\n",
       "      <th>jpn</th>\n",
       "      <td>2.304123</td>\n",
       "      <td>1.682093</td>\n",
       "      <td>-26.996366</td>\n",
       "    </tr>\n",
       "    <tr>\n",
       "      <th>arb</th>\n",
       "      <td>2.764246</td>\n",
       "      <td>1.832455</td>\n",
       "      <td>-33.708693</td>\n",
       "    </tr>\n",
       "    <tr>\n",
       "      <th>hin</th>\n",
       "      <td>4.821501</td>\n",
       "      <td>1.587333</td>\n",
       "      <td>-67.078028</td>\n",
       "    </tr>\n",
       "    <tr>\n",
       "      <th>ben</th>\n",
       "      <td>5.877417</td>\n",
       "      <td>1.710945</td>\n",
       "      <td>-70.889510</td>\n",
       "    </tr>\n",
       "    <tr>\n",
       "      <th>amh</th>\n",
       "      <td>7.705929</td>\n",
       "      <td>5.853588</td>\n",
       "      <td>-24.037872</td>\n",
       "    </tr>\n",
       "    <tr>\n",
       "      <th>tel</th>\n",
       "      <td>8.426995</td>\n",
       "      <td>1.955239</td>\n",
       "      <td>-76.797907</td>\n",
       "    </tr>\n",
       "    <tr>\n",
       "      <th>sat</th>\n",
       "      <td>12.962892</td>\n",
       "      <td>13.926960</td>\n",
       "      <td>7.437132</td>\n",
       "    </tr>\n",
       "  </tbody>\n",
       "</table>\n",
       "</div>"
      ],
      "text/plain": [
       "      cl100k_base  o200k_base  premium_diff_pct\n",
       "lang                                           \n",
       "eng      1.000000    1.000000          0.000000\n",
       "por      1.489847    1.230764        -17.389879\n",
       "spa      1.565468    1.330588        -15.003853\n",
       "deu      1.598946    1.315571        -17.722628\n",
       "swh      1.976500    1.499855        -24.115597\n",
       "zho      2.019078    1.339837        -33.641117\n",
       "jpn      2.304123    1.682093        -26.996366\n",
       "arb      2.764246    1.832455        -33.708693\n",
       "hin      4.821501    1.587333        -67.078028\n",
       "ben      5.877417    1.710945        -70.889510\n",
       "amh      7.705929    5.853588        -24.037872\n",
       "tel      8.426995    1.955239        -76.797907\n",
       "sat     12.962892   13.926960          7.437132"
      ]
     },
     "execution_count": 17,
     "metadata": {},
     "output_type": "execute_result"
    }
   ],
   "source": [
    "        # English    & eng            & 1.00                         \\\\\n",
    "        # Portuguese & por            & 1.49                         \\\\\n",
    "        # Spanish    & spa            & 1.57                         \\\\\n",
    "        # German     & deu            & 1.60                         \\\\\n",
    "        # Swahili    & swh            & 1.98                         \\\\\n",
    "        # Chinese    & zho            & 2.02                         \\\\\n",
    "        # Japanese   & jpn            & 2.30                         \\\\\n",
    "        # Arabic     & arb            & 2.76                         \\\\\n",
    "        # Hindi      & hin            & 4.82                         \\\\\n",
    "        # Bengali    & ben            & 5.88                         \\\\\n",
    "        # Amharic    & amh            & 7.71                         \\\\\n",
    "        # Telugu     & tel            & 8.43                         \\\\\n",
    "        # Santali    & sat            & 12.96                        \\\\\n",
    "\n",
    "langs = [\n",
    "    \"eng\",\n",
    "    \"por\",\n",
    "    \"spa\",\n",
    "    \"deu\",\n",
    "    \"swh\",\n",
    "    \"zho\",\n",
    "    \"jpn\",\n",
    "    \"arb\",\n",
    "    \"hin\",\n",
    "    \"ben\",\n",
    "    \"amh\",\n",
    "    \"tel\",\n",
    "    \"sat\",\n",
    "]\n",
    "\n",
    "ulang_df.set_index(\"lang\").loc[langs][[\"cl100k_base\", \"o200k_base\", \"premium_diff_pct\"]]"
   ]
  },
  {
   "cell_type": "code",
   "execution_count": 19,
   "metadata": {},
   "outputs": [
    {
     "data": {
      "text/html": [
       "<div>\n",
       "<style scoped>\n",
       "    .dataframe tbody tr th:only-of-type {\n",
       "        vertical-align: middle;\n",
       "    }\n",
       "\n",
       "    .dataframe tbody tr th {\n",
       "        vertical-align: top;\n",
       "    }\n",
       "\n",
       "    .dataframe thead th {\n",
       "        text-align: right;\n",
       "    }\n",
       "</style>\n",
       "<table border=\"1\" class=\"dataframe\">\n",
       "  <thead>\n",
       "    <tr style=\"text-align: right;\">\n",
       "      <th></th>\n",
       "      <th>cl100k_base</th>\n",
       "      <th>o200k_base</th>\n",
       "      <th>premium_diff_pct</th>\n",
       "    </tr>\n",
       "    <tr>\n",
       "      <th>lang</th>\n",
       "      <th></th>\n",
       "      <th></th>\n",
       "      <th></th>\n",
       "    </tr>\n",
       "  </thead>\n",
       "  <tbody>\n",
       "    <tr>\n",
       "      <th>eng</th>\n",
       "      <td>1.000000</td>\n",
       "      <td>1.000000</td>\n",
       "      <td>0.000000</td>\n",
       "    </tr>\n",
       "    <tr>\n",
       "      <th>nus</th>\n",
       "      <td>4.031437</td>\n",
       "      <td>3.268707</td>\n",
       "      <td>-18.919554</td>\n",
       "    </tr>\n",
       "    <tr>\n",
       "      <th>kbp</th>\n",
       "      <td>4.799921</td>\n",
       "      <td>3.974989</td>\n",
       "      <td>-17.186358</td>\n",
       "    </tr>\n",
       "    <tr>\n",
       "      <th>taq</th>\n",
       "      <td>6.283203</td>\n",
       "      <td>6.261983</td>\n",
       "      <td>-0.337732</td>\n",
       "    </tr>\n",
       "    <tr>\n",
       "      <th>dzo</th>\n",
       "      <td>12.459297</td>\n",
       "      <td>9.222634</td>\n",
       "      <td>-25.977894</td>\n",
       "    </tr>\n",
       "    <tr>\n",
       "      <th>hin</th>\n",
       "      <td>4.821501</td>\n",
       "      <td>1.587333</td>\n",
       "      <td>-67.078028</td>\n",
       "    </tr>\n",
       "    <tr>\n",
       "      <th>ben</th>\n",
       "      <td>5.877417</td>\n",
       "      <td>1.710945</td>\n",
       "      <td>-70.889510</td>\n",
       "    </tr>\n",
       "    <tr>\n",
       "      <th>urd</th>\n",
       "      <td>4.401929</td>\n",
       "      <td>1.667588</td>\n",
       "      <td>-62.116895</td>\n",
       "    </tr>\n",
       "    <tr>\n",
       "      <th>ory</th>\n",
       "      <td>12.594206</td>\n",
       "      <td>5.049518</td>\n",
       "      <td>-59.906025</td>\n",
       "    </tr>\n",
       "    <tr>\n",
       "      <th>sat</th>\n",
       "      <td>12.962892</td>\n",
       "      <td>13.926960</td>\n",
       "      <td>7.437132</td>\n",
       "    </tr>\n",
       "    <tr>\n",
       "      <th>shn</th>\n",
       "      <td>15.328765</td>\n",
       "      <td>8.103200</td>\n",
       "      <td>-47.137293</td>\n",
       "    </tr>\n",
       "    <tr>\n",
       "      <th>zho</th>\n",
       "      <td>2.019078</td>\n",
       "      <td>1.339837</td>\n",
       "      <td>-33.641117</td>\n",
       "    </tr>\n",
       "    <tr>\n",
       "      <th>arb</th>\n",
       "      <td>2.764246</td>\n",
       "      <td>1.832455</td>\n",
       "      <td>-33.708693</td>\n",
       "    </tr>\n",
       "    <tr>\n",
       "      <th>eng</th>\n",
       "      <td>1.000000</td>\n",
       "      <td>1.000000</td>\n",
       "      <td>0.000000</td>\n",
       "    </tr>\n",
       "    <tr>\n",
       "      <th>spa</th>\n",
       "      <td>1.565468</td>\n",
       "      <td>1.330588</td>\n",
       "      <td>-15.003853</td>\n",
       "    </tr>\n",
       "    <tr>\n",
       "      <th>fra</th>\n",
       "      <td>1.620679</td>\n",
       "      <td>1.379368</td>\n",
       "      <td>-14.889507</td>\n",
       "    </tr>\n",
       "  </tbody>\n",
       "</table>\n",
       "</div>"
      ],
      "text/plain": [
       "      cl100k_base  o200k_base  premium_diff_pct\n",
       "lang                                           \n",
       "eng      1.000000    1.000000          0.000000\n",
       "nus      4.031437    3.268707        -18.919554\n",
       "kbp      4.799921    3.974989        -17.186358\n",
       "taq      6.283203    6.261983         -0.337732\n",
       "dzo     12.459297    9.222634        -25.977894\n",
       "hin      4.821501    1.587333        -67.078028\n",
       "ben      5.877417    1.710945        -70.889510\n",
       "urd      4.401929    1.667588        -62.116895\n",
       "ory     12.594206    5.049518        -59.906025\n",
       "sat     12.962892   13.926960          7.437132\n",
       "shn     15.328765    8.103200        -47.137293\n",
       "zho      2.019078    1.339837        -33.641117\n",
       "arb      2.764246    1.832455        -33.708693\n",
       "eng      1.000000    1.000000          0.000000\n",
       "spa      1.565468    1.330588        -15.003853\n",
       "fra      1.620679    1.379368        -14.889507"
      ]
     },
     "execution_count": 19,
     "metadata": {},
     "output_type": "execute_result"
    }
   ],
   "source": [
    "ulang_df.set_index(\"lang\").loc[[\"eng\"] + ordered_langs][[\"cl100k_base\", \"o200k_base\", \"premium_diff_pct\"]]"
   ]
  },
  {
   "cell_type": "markdown",
   "metadata": {},
   "source": [
    "# Common crawl\n",
    "\n",
    "In this section, we analyze the differences in tokenization costs across various languages between the two models, in relation to the proportion of pages crawled for each language in the Common Crawl dataset."
   ]
  },
  {
   "cell_type": "code",
   "execution_count": 66,
   "metadata": {},
   "outputs": [
    {
     "data": {
      "text/html": [
       "<div>\n",
       "<style scoped>\n",
       "    .dataframe tbody tr th:only-of-type {\n",
       "        vertical-align: middle;\n",
       "    }\n",
       "\n",
       "    .dataframe tbody tr th {\n",
       "        vertical-align: top;\n",
       "    }\n",
       "\n",
       "    .dataframe thead th {\n",
       "        text-align: right;\n",
       "    }\n",
       "</style>\n",
       "<table border=\"1\" class=\"dataframe\">\n",
       "  <thead>\n",
       "    <tr style=\"text-align: right;\">\n",
       "      <th></th>\n",
       "      <th>crawl</th>\n",
       "      <th>primary_language</th>\n",
       "      <th>pages</th>\n",
       "      <th>urls</th>\n",
       "      <th>%pages/crawl</th>\n",
       "    </tr>\n",
       "  </thead>\n",
       "  <tbody>\n",
       "    <tr>\n",
       "      <th>0</th>\n",
       "      <td>CC-MAIN-2008-2009</td>\n",
       "      <td>&lt;unknown&gt;</td>\n",
       "      <td>1798158091</td>\n",
       "      <td>1798158091</td>\n",
       "      <td>100.0000</td>\n",
       "    </tr>\n",
       "    <tr>\n",
       "      <th>1</th>\n",
       "      <td>CC-MAIN-2009-2010</td>\n",
       "      <td>&lt;unknown&gt;</td>\n",
       "      <td>2863495211</td>\n",
       "      <td>2863495211</td>\n",
       "      <td>100.0000</td>\n",
       "    </tr>\n",
       "    <tr>\n",
       "      <th>2</th>\n",
       "      <td>CC-MAIN-2012</td>\n",
       "      <td>&lt;unknown&gt;</td>\n",
       "      <td>3828539877</td>\n",
       "      <td>3828539877</td>\n",
       "      <td>100.0000</td>\n",
       "    </tr>\n",
       "    <tr>\n",
       "      <th>3</th>\n",
       "      <td>CC-MAIN-2013-20</td>\n",
       "      <td>&lt;unknown&gt;</td>\n",
       "      <td>1796098643</td>\n",
       "      <td>1796098643</td>\n",
       "      <td>100.0000</td>\n",
       "    </tr>\n",
       "    <tr>\n",
       "      <th>4</th>\n",
       "      <td>CC-MAIN-2013-48</td>\n",
       "      <td>&lt;unknown&gt;</td>\n",
       "      <td>2245773667</td>\n",
       "      <td>2245773667</td>\n",
       "      <td>100.0000</td>\n",
       "    </tr>\n",
       "    <tr>\n",
       "      <th>...</th>\n",
       "      <td>...</td>\n",
       "      <td>...</td>\n",
       "      <td>...</td>\n",
       "      <td>...</td>\n",
       "      <td>...</td>\n",
       "    </tr>\n",
       "    <tr>\n",
       "      <th>8317</th>\n",
       "      <td>CC-MAIN-2024-30</td>\n",
       "      <td>yid</td>\n",
       "      <td>48078</td>\n",
       "      <td>47994</td>\n",
       "      <td>0.0019</td>\n",
       "    </tr>\n",
       "    <tr>\n",
       "      <th>8318</th>\n",
       "      <td>CC-MAIN-2024-30</td>\n",
       "      <td>yor</td>\n",
       "      <td>21747</td>\n",
       "      <td>21721</td>\n",
       "      <td>0.0009</td>\n",
       "    </tr>\n",
       "    <tr>\n",
       "      <th>8319</th>\n",
       "      <td>CC-MAIN-2024-30</td>\n",
       "      <td>zha</td>\n",
       "      <td>1405</td>\n",
       "      <td>1401</td>\n",
       "      <td>0.0001</td>\n",
       "    </tr>\n",
       "    <tr>\n",
       "      <th>8320</th>\n",
       "      <td>CC-MAIN-2024-30</td>\n",
       "      <td>zho</td>\n",
       "      <td>130788958</td>\n",
       "      <td>130312411</td>\n",
       "      <td>5.1358</td>\n",
       "    </tr>\n",
       "    <tr>\n",
       "      <th>8321</th>\n",
       "      <td>CC-MAIN-2024-30</td>\n",
       "      <td>zul</td>\n",
       "      <td>59778</td>\n",
       "      <td>59723</td>\n",
       "      <td>0.0023</td>\n",
       "    </tr>\n",
       "  </tbody>\n",
       "</table>\n",
       "<p>8322 rows × 5 columns</p>\n",
       "</div>"
      ],
      "text/plain": [
       "                  crawl primary_language       pages        urls  %pages/crawl\n",
       "0     CC-MAIN-2008-2009        <unknown>  1798158091  1798158091      100.0000\n",
       "1     CC-MAIN-2009-2010        <unknown>  2863495211  2863495211      100.0000\n",
       "2          CC-MAIN-2012        <unknown>  3828539877  3828539877      100.0000\n",
       "3       CC-MAIN-2013-20        <unknown>  1796098643  1796098643      100.0000\n",
       "4       CC-MAIN-2013-48        <unknown>  2245773667  2245773667      100.0000\n",
       "...                 ...              ...         ...         ...           ...\n",
       "8317    CC-MAIN-2024-30              yid       48078       47994        0.0019\n",
       "8318    CC-MAIN-2024-30              yor       21747       21721        0.0009\n",
       "8319    CC-MAIN-2024-30              zha        1405        1401        0.0001\n",
       "8320    CC-MAIN-2024-30              zho   130788958   130312411        5.1358\n",
       "8321    CC-MAIN-2024-30              zul       59778       59723        0.0023\n",
       "\n",
       "[8322 rows x 5 columns]"
      ]
     },
     "execution_count": 66,
     "metadata": {},
     "output_type": "execute_result"
    }
   ],
   "source": [
    "# Load the data\n",
    "common_crawl = pd.read_csv(DATA_DIR / \"common-crawl-languages.csv\")\n",
    "common_crawl"
   ]
  },
  {
   "cell_type": "code",
   "execution_count": 67,
   "metadata": {},
   "outputs": [
    {
     "data": {
      "text/html": [
       "<div>\n",
       "<style scoped>\n",
       "    .dataframe tbody tr th:only-of-type {\n",
       "        vertical-align: middle;\n",
       "    }\n",
       "\n",
       "    .dataframe tbody tr th {\n",
       "        vertical-align: top;\n",
       "    }\n",
       "\n",
       "    .dataframe thead th {\n",
       "        text-align: right;\n",
       "    }\n",
       "</style>\n",
       "<table border=\"1\" class=\"dataframe\">\n",
       "  <thead>\n",
       "    <tr style=\"text-align: right;\">\n",
       "      <th></th>\n",
       "      <th>crawl</th>\n",
       "      <th>primary_language</th>\n",
       "      <th>pages</th>\n",
       "      <th>urls</th>\n",
       "      <th>%pages/crawl</th>\n",
       "    </tr>\n",
       "  </thead>\n",
       "  <tbody>\n",
       "    <tr>\n",
       "      <th>7350</th>\n",
       "      <td>CC-MAIN-2023-50</td>\n",
       "      <td>&lt;unknown&gt;</td>\n",
       "      <td>108462778</td>\n",
       "      <td>108462778</td>\n",
       "      <td>3.2338</td>\n",
       "    </tr>\n",
       "    <tr>\n",
       "      <th>7351</th>\n",
       "      <td>CC-MAIN-2023-50</td>\n",
       "      <td>aar</td>\n",
       "      <td>4930</td>\n",
       "      <td>4886</td>\n",
       "      <td>0.0001</td>\n",
       "    </tr>\n",
       "    <tr>\n",
       "      <th>7352</th>\n",
       "      <td>CC-MAIN-2023-50</td>\n",
       "      <td>abk</td>\n",
       "      <td>16530</td>\n",
       "      <td>16454</td>\n",
       "      <td>0.0005</td>\n",
       "    </tr>\n",
       "    <tr>\n",
       "      <th>7353</th>\n",
       "      <td>CC-MAIN-2023-50</td>\n",
       "      <td>afr</td>\n",
       "      <td>303548</td>\n",
       "      <td>302365</td>\n",
       "      <td>0.0091</td>\n",
       "    </tr>\n",
       "    <tr>\n",
       "      <th>7354</th>\n",
       "      <td>CC-MAIN-2023-50</td>\n",
       "      <td>aka</td>\n",
       "      <td>2487</td>\n",
       "      <td>2482</td>\n",
       "      <td>0.0001</td>\n",
       "    </tr>\n",
       "    <tr>\n",
       "      <th>...</th>\n",
       "      <td>...</td>\n",
       "      <td>...</td>\n",
       "      <td>...</td>\n",
       "      <td>...</td>\n",
       "      <td>...</td>\n",
       "    </tr>\n",
       "    <tr>\n",
       "      <th>7507</th>\n",
       "      <td>CC-MAIN-2023-50</td>\n",
       "      <td>yid</td>\n",
       "      <td>54774</td>\n",
       "      <td>54654</td>\n",
       "      <td>0.0016</td>\n",
       "    </tr>\n",
       "    <tr>\n",
       "      <th>7508</th>\n",
       "      <td>CC-MAIN-2023-50</td>\n",
       "      <td>yor</td>\n",
       "      <td>25930</td>\n",
       "      <td>25887</td>\n",
       "      <td>0.0008</td>\n",
       "    </tr>\n",
       "    <tr>\n",
       "      <th>7509</th>\n",
       "      <td>CC-MAIN-2023-50</td>\n",
       "      <td>zha</td>\n",
       "      <td>1675</td>\n",
       "      <td>1671</td>\n",
       "      <td>0.0000</td>\n",
       "    </tr>\n",
       "    <tr>\n",
       "      <th>7510</th>\n",
       "      <td>CC-MAIN-2023-50</td>\n",
       "      <td>zho</td>\n",
       "      <td>170377731</td>\n",
       "      <td>169831708</td>\n",
       "      <td>5.0798</td>\n",
       "    </tr>\n",
       "    <tr>\n",
       "      <th>7511</th>\n",
       "      <td>CC-MAIN-2023-50</td>\n",
       "      <td>zul</td>\n",
       "      <td>61397</td>\n",
       "      <td>61286</td>\n",
       "      <td>0.0018</td>\n",
       "    </tr>\n",
       "  </tbody>\n",
       "</table>\n",
       "<p>162 rows × 5 columns</p>\n",
       "</div>"
      ],
      "text/plain": [
       "                crawl primary_language      pages       urls  %pages/crawl\n",
       "7350  CC-MAIN-2023-50        <unknown>  108462778  108462778        3.2338\n",
       "7351  CC-MAIN-2023-50              aar       4930       4886        0.0001\n",
       "7352  CC-MAIN-2023-50              abk      16530      16454        0.0005\n",
       "7353  CC-MAIN-2023-50              afr     303548     302365        0.0091\n",
       "7354  CC-MAIN-2023-50              aka       2487       2482        0.0001\n",
       "...               ...              ...        ...        ...           ...\n",
       "7507  CC-MAIN-2023-50              yid      54774      54654        0.0016\n",
       "7508  CC-MAIN-2023-50              yor      25930      25887        0.0008\n",
       "7509  CC-MAIN-2023-50              zha       1675       1671        0.0000\n",
       "7510  CC-MAIN-2023-50              zho  170377731  169831708        5.0798\n",
       "7511  CC-MAIN-2023-50              zul      61397      61286        0.0018\n",
       "\n",
       "[162 rows x 5 columns]"
      ]
     },
     "execution_count": 67,
     "metadata": {},
     "output_type": "execute_result"
    }
   ],
   "source": [
    "# Filter to last crawl in 2023\n",
    "cc = common_crawl[common_crawl[\"crawl\"] == \"CC-MAIN-2023-50\"]\n",
    "cc"
   ]
  },
  {
   "cell_type": "code",
   "execution_count": 68,
   "metadata": {},
   "outputs": [
    {
     "data": {
      "text/html": [
       "<div>\n",
       "<style scoped>\n",
       "    .dataframe tbody tr th:only-of-type {\n",
       "        vertical-align: middle;\n",
       "    }\n",
       "\n",
       "    .dataframe tbody tr th {\n",
       "        vertical-align: top;\n",
       "    }\n",
       "\n",
       "    .dataframe thead th {\n",
       "        text-align: right;\n",
       "    }\n",
       "</style>\n",
       "<table border=\"1\" class=\"dataframe\">\n",
       "  <thead>\n",
       "    <tr style=\"text-align: right;\">\n",
       "      <th></th>\n",
       "      <th>lang</th>\n",
       "      <th>location</th>\n",
       "      <th>country</th>\n",
       "      <th>year</th>\n",
       "      <th>population</th>\n",
       "      <th>population_2022adj</th>\n",
       "      <th>NY.GDP.PCAP.CD</th>\n",
       "      <th>id</th>\n",
       "      <th>incomeLevel</th>\n",
       "      <th>cl100k_base</th>\n",
       "      <th>o200k_base</th>\n",
       "      <th>pop_weighted_wealth</th>\n",
       "      <th>total_population</th>\n",
       "      <th>premium_diff</th>\n",
       "      <th>premium_diff_pct</th>\n",
       "      <th>crawl</th>\n",
       "      <th>primary_language</th>\n",
       "      <th>pages</th>\n",
       "      <th>urls</th>\n",
       "      <th>%pages/crawl</th>\n",
       "    </tr>\n",
       "  </thead>\n",
       "  <tbody>\n",
       "    <tr>\n",
       "      <th>2</th>\n",
       "      <td>eng</td>\n",
       "      <td>Aruba, all users. L1 users: 7,880 in Aruba</td>\n",
       "      <td>ABW</td>\n",
       "      <td>2020.0</td>\n",
       "      <td>63480.0</td>\n",
       "      <td>63482.0</td>\n",
       "      <td>33300.838819</td>\n",
       "      <td>ABW</td>\n",
       "      <td>High income</td>\n",
       "      <td>1.000000</td>\n",
       "      <td>1.000000</td>\n",
       "      <td>22794.976819</td>\n",
       "      <td>1.974081e+09</td>\n",
       "      <td>0.000000</td>\n",
       "      <td>0.000000</td>\n",
       "      <td>CC-MAIN-2023-50</td>\n",
       "      <td>eng</td>\n",
       "      <td>1.490150e+09</td>\n",
       "      <td>1.475497e+09</td>\n",
       "      <td>44.4285</td>\n",
       "    </tr>\n",
       "    <tr>\n",
       "      <th>20</th>\n",
       "      <td>wol</td>\n",
       "      <td>Belgium</td>\n",
       "      <td>BEL</td>\n",
       "      <td>2024.0</td>\n",
       "      <td>2000.0</td>\n",
       "      <td>2000.0</td>\n",
       "      <td>49926.825430</td>\n",
       "      <td>BEL</td>\n",
       "      <td>High income</td>\n",
       "      <td>1.964484</td>\n",
       "      <td>1.758093</td>\n",
       "      <td>1895.597409</td>\n",
       "      <td>2.382969e+07</td>\n",
       "      <td>-0.206391</td>\n",
       "      <td>-10.506100</td>\n",
       "      <td>CC-MAIN-2023-50</td>\n",
       "      <td>wol</td>\n",
       "      <td>6.127000e+03</td>\n",
       "      <td>6.077000e+03</td>\n",
       "      <td>0.0002</td>\n",
       "    </tr>\n",
       "    <tr>\n",
       "      <th>21</th>\n",
       "      <td>ita</td>\n",
       "      <td>Albania</td>\n",
       "      <td>ALB</td>\n",
       "      <td>2021.0</td>\n",
       "      <td>7720.0</td>\n",
       "      <td>7555.0</td>\n",
       "      <td>6810.114041</td>\n",
       "      <td>ALB</td>\n",
       "      <td>Upper middle income</td>\n",
       "      <td>1.662557</td>\n",
       "      <td>1.486346</td>\n",
       "      <td>35246.793629</td>\n",
       "      <td>6.693998e+07</td>\n",
       "      <td>-0.176212</td>\n",
       "      <td>-10.598839</td>\n",
       "      <td>CC-MAIN-2023-50</td>\n",
       "      <td>ita</td>\n",
       "      <td>8.664894e+07</td>\n",
       "      <td>8.608676e+07</td>\n",
       "      <td>2.5834</td>\n",
       "    </tr>\n",
       "    <tr>\n",
       "      <th>31</th>\n",
       "      <td>war</td>\n",
       "      <td>Canada</td>\n",
       "      <td>CAN</td>\n",
       "      <td>2021.0</td>\n",
       "      <td>4520.0</td>\n",
       "      <td>4629.0</td>\n",
       "      <td>55522.445688</td>\n",
       "      <td>CAN</td>\n",
       "      <td>High income</td>\n",
       "      <td>1.979659</td>\n",
       "      <td>1.737144</td>\n",
       "      <td>3566.157835</td>\n",
       "      <td>3.559879e+06</td>\n",
       "      <td>-0.242515</td>\n",
       "      <td>-12.250360</td>\n",
       "      <td>CC-MAIN-2023-50</td>\n",
       "      <td>war</td>\n",
       "      <td>5.169200e+04</td>\n",
       "      <td>5.143300e+04</td>\n",
       "      <td>0.0015</td>\n",
       "    </tr>\n",
       "    <tr>\n",
       "      <th>34</th>\n",
       "      <td>sag</td>\n",
       "      <td>Central African Republic, all users. L1 users:...</td>\n",
       "      <td>CAF</td>\n",
       "      <td>2017.0</td>\n",
       "      <td>5100000.0</td>\n",
       "      <td>5793920.0</td>\n",
       "      <td>427.058096</td>\n",
       "      <td>CAF</td>\n",
       "      <td>Low income</td>\n",
       "      <td>2.111391</td>\n",
       "      <td>1.843327</td>\n",
       "      <td>476.306471</td>\n",
       "      <td>5.925237e+06</td>\n",
       "      <td>-0.268064</td>\n",
       "      <td>-12.696085</td>\n",
       "      <td>CC-MAIN-2023-50</td>\n",
       "      <td>sag</td>\n",
       "      <td>1.197700e+04</td>\n",
       "      <td>1.197400e+04</td>\n",
       "      <td>0.0004</td>\n",
       "    </tr>\n",
       "    <tr>\n",
       "      <th>...</th>\n",
       "      <td>...</td>\n",
       "      <td>...</td>\n",
       "      <td>...</td>\n",
       "      <td>...</td>\n",
       "      <td>...</td>\n",
       "      <td>...</td>\n",
       "      <td>...</td>\n",
       "      <td>...</td>\n",
       "      <td>...</td>\n",
       "      <td>...</td>\n",
       "      <td>...</td>\n",
       "      <td>...</td>\n",
       "      <td>...</td>\n",
       "      <td>...</td>\n",
       "      <td>...</td>\n",
       "      <td>...</td>\n",
       "      <td>...</td>\n",
       "      <td>...</td>\n",
       "      <td>...</td>\n",
       "      <td>...</td>\n",
       "    </tr>\n",
       "    <tr>\n",
       "      <th>185</th>\n",
       "      <td>tel</td>\n",
       "      <td>United Arab Emirates</td>\n",
       "      <td>ARE</td>\n",
       "      <td>2020.0</td>\n",
       "      <td>485000.0</td>\n",
       "      <td>497032.0</td>\n",
       "      <td>53707.980081</td>\n",
       "      <td>ARE</td>\n",
       "      <td>High income</td>\n",
       "      <td>8.426995</td>\n",
       "      <td>1.955239</td>\n",
       "      <td>3201.082290</td>\n",
       "      <td>1.091342e+08</td>\n",
       "      <td>-6.471756</td>\n",
       "      <td>-76.797907</td>\n",
       "      <td>CC-MAIN-2023-50</td>\n",
       "      <td>tel</td>\n",
       "      <td>5.404370e+05</td>\n",
       "      <td>5.391950e+05</td>\n",
       "      <td>0.0161</td>\n",
       "    </tr>\n",
       "    <tr>\n",
       "      <th>186</th>\n",
       "      <td>kan</td>\n",
       "      <td>Australia</td>\n",
       "      <td>AUS</td>\n",
       "      <td>2021.0</td>\n",
       "      <td>14700.0</td>\n",
       "      <td>14903.0</td>\n",
       "      <td>65099.845912</td>\n",
       "      <td>AUS</td>\n",
       "      <td>High income</td>\n",
       "      <td>8.973211</td>\n",
       "      <td>1.985525</td>\n",
       "      <td>2573.945147</td>\n",
       "      <td>6.698378e+07</td>\n",
       "      <td>-6.987686</td>\n",
       "      <td>-77.872746</td>\n",
       "      <td>CC-MAIN-2023-50</td>\n",
       "      <td>kan</td>\n",
       "      <td>4.117690e+05</td>\n",
       "      <td>4.109820e+05</td>\n",
       "      <td>0.0123</td>\n",
       "    </tr>\n",
       "    <tr>\n",
       "      <th>187</th>\n",
       "      <td>mal</td>\n",
       "      <td>United Arab Emirates</td>\n",
       "      <td>ARE</td>\n",
       "      <td>2023.0</td>\n",
       "      <td>314000.0</td>\n",
       "      <td>314000.0</td>\n",
       "      <td>53707.980081</td>\n",
       "      <td>ARE</td>\n",
       "      <td>High income</td>\n",
       "      <td>9.049247</td>\n",
       "      <td>1.972658</td>\n",
       "      <td>3900.429587</td>\n",
       "      <td>4.277313e+07</td>\n",
       "      <td>-7.076589</td>\n",
       "      <td>-78.200863</td>\n",
       "      <td>CC-MAIN-2023-50</td>\n",
       "      <td>mal</td>\n",
       "      <td>7.301960e+05</td>\n",
       "      <td>7.281590e+05</td>\n",
       "      <td>0.0218</td>\n",
       "    </tr>\n",
       "    <tr>\n",
       "      <th>188</th>\n",
       "      <td>kat</td>\n",
       "      <td>Azerbaijan</td>\n",
       "      <td>AZE</td>\n",
       "      <td>2019.0</td>\n",
       "      <td>30000.0</td>\n",
       "      <td>30608.0</td>\n",
       "      <td>7762.073829</td>\n",
       "      <td>AZE</td>\n",
       "      <td>Upper middle income</td>\n",
       "      <td>9.884889</td>\n",
       "      <td>1.804445</td>\n",
       "      <td>7833.243516</td>\n",
       "      <td>3.912529e+06</td>\n",
       "      <td>-8.080444</td>\n",
       "      <td>-81.745421</td>\n",
       "      <td>CC-MAIN-2023-50</td>\n",
       "      <td>kat</td>\n",
       "      <td>1.206129e+06</td>\n",
       "      <td>1.202238e+06</td>\n",
       "      <td>0.0360</td>\n",
       "    </tr>\n",
       "    <tr>\n",
       "      <th>189</th>\n",
       "      <td>hye</td>\n",
       "      <td>Armenia</td>\n",
       "      <td>ARM</td>\n",
       "      <td>2013.0</td>\n",
       "      <td>2960000.0</td>\n",
       "      <td>2823634.0</td>\n",
       "      <td>7018.051504</td>\n",
       "      <td>ARM</td>\n",
       "      <td>Upper middle income</td>\n",
       "      <td>9.990197</td>\n",
       "      <td>1.798841</td>\n",
       "      <td>7936.850693</td>\n",
       "      <td>3.675981e+06</td>\n",
       "      <td>-8.191356</td>\n",
       "      <td>-81.993939</td>\n",
       "      <td>CC-MAIN-2023-50</td>\n",
       "      <td>hye</td>\n",
       "      <td>1.005216e+06</td>\n",
       "      <td>1.000971e+06</td>\n",
       "      <td>0.0300</td>\n",
       "    </tr>\n",
       "  </tbody>\n",
       "</table>\n",
       "<p>108 rows × 20 columns</p>\n",
       "</div>"
      ],
      "text/plain": [
       "    lang                                           location country    year  \\\n",
       "2    eng         Aruba, all users. L1 users: 7,880 in Aruba     ABW  2020.0   \n",
       "20   wol                                            Belgium     BEL  2024.0   \n",
       "21   ita                                            Albania     ALB  2021.0   \n",
       "31   war                                             Canada     CAN  2021.0   \n",
       "34   sag  Central African Republic, all users. L1 users:...     CAF  2017.0   \n",
       "..   ...                                                ...     ...     ...   \n",
       "185  tel                               United Arab Emirates     ARE  2020.0   \n",
       "186  kan                                          Australia     AUS  2021.0   \n",
       "187  mal                               United Arab Emirates     ARE  2023.0   \n",
       "188  kat                                         Azerbaijan     AZE  2019.0   \n",
       "189  hye                                            Armenia     ARM  2013.0   \n",
       "\n",
       "     population  population_2022adj  NY.GDP.PCAP.CD   id          incomeLevel  \\\n",
       "2       63480.0             63482.0    33300.838819  ABW          High income   \n",
       "20       2000.0              2000.0    49926.825430  BEL          High income   \n",
       "21       7720.0              7555.0     6810.114041  ALB  Upper middle income   \n",
       "31       4520.0              4629.0    55522.445688  CAN          High income   \n",
       "34    5100000.0           5793920.0      427.058096  CAF           Low income   \n",
       "..          ...                 ...             ...  ...                  ...   \n",
       "185    485000.0            497032.0    53707.980081  ARE          High income   \n",
       "186     14700.0             14903.0    65099.845912  AUS          High income   \n",
       "187    314000.0            314000.0    53707.980081  ARE          High income   \n",
       "188     30000.0             30608.0     7762.073829  AZE  Upper middle income   \n",
       "189   2960000.0           2823634.0     7018.051504  ARM  Upper middle income   \n",
       "\n",
       "     cl100k_base  o200k_base  pop_weighted_wealth  total_population  \\\n",
       "2       1.000000    1.000000         22794.976819      1.974081e+09   \n",
       "20      1.964484    1.758093          1895.597409      2.382969e+07   \n",
       "21      1.662557    1.486346         35246.793629      6.693998e+07   \n",
       "31      1.979659    1.737144          3566.157835      3.559879e+06   \n",
       "34      2.111391    1.843327           476.306471      5.925237e+06   \n",
       "..           ...         ...                  ...               ...   \n",
       "185     8.426995    1.955239          3201.082290      1.091342e+08   \n",
       "186     8.973211    1.985525          2573.945147      6.698378e+07   \n",
       "187     9.049247    1.972658          3900.429587      4.277313e+07   \n",
       "188     9.884889    1.804445          7833.243516      3.912529e+06   \n",
       "189     9.990197    1.798841          7936.850693      3.675981e+06   \n",
       "\n",
       "     premium_diff  premium_diff_pct            crawl primary_language  \\\n",
       "2        0.000000          0.000000  CC-MAIN-2023-50              eng   \n",
       "20      -0.206391        -10.506100  CC-MAIN-2023-50              wol   \n",
       "21      -0.176212        -10.598839  CC-MAIN-2023-50              ita   \n",
       "31      -0.242515        -12.250360  CC-MAIN-2023-50              war   \n",
       "34      -0.268064        -12.696085  CC-MAIN-2023-50              sag   \n",
       "..            ...               ...              ...              ...   \n",
       "185     -6.471756        -76.797907  CC-MAIN-2023-50              tel   \n",
       "186     -6.987686        -77.872746  CC-MAIN-2023-50              kan   \n",
       "187     -7.076589        -78.200863  CC-MAIN-2023-50              mal   \n",
       "188     -8.080444        -81.745421  CC-MAIN-2023-50              kat   \n",
       "189     -8.191356        -81.993939  CC-MAIN-2023-50              hye   \n",
       "\n",
       "            pages          urls  %pages/crawl  \n",
       "2    1.490150e+09  1.475497e+09       44.4285  \n",
       "20   6.127000e+03  6.077000e+03        0.0002  \n",
       "21   8.664894e+07  8.608676e+07        2.5834  \n",
       "31   5.169200e+04  5.143300e+04        0.0015  \n",
       "34   1.197700e+04  1.197400e+04        0.0004  \n",
       "..            ...           ...           ...  \n",
       "185  5.404370e+05  5.391950e+05        0.0161  \n",
       "186  4.117690e+05  4.109820e+05        0.0123  \n",
       "187  7.301960e+05  7.281590e+05        0.0218  \n",
       "188  1.206129e+06  1.202238e+06        0.0360  \n",
       "189  1.005216e+06  1.000971e+06        0.0300  \n",
       "\n",
       "[108 rows x 20 columns]"
      ]
     },
     "execution_count": 68,
     "metadata": {},
     "output_type": "execute_result"
    }
   ],
   "source": [
    "# Merge the common crawl data to the main dataframe\n",
    "# Drop languages that are not represented in the common crawl statistics\n",
    "\n",
    "crawl_ulang = ulang_df.merge(cc, how=\"left\", left_on=\"lang\", right_on=\"primary_language\").dropna(subset=[\"crawl\"])\n",
    "\n",
    "crawl_ulang"
   ]
  },
  {
   "cell_type": "code",
   "execution_count": 69,
   "metadata": {},
   "outputs": [
    {
     "data": {
      "text/html": [
       "<div>\n",
       "<style scoped>\n",
       "    .dataframe tbody tr th:only-of-type {\n",
       "        vertical-align: middle;\n",
       "    }\n",
       "\n",
       "    .dataframe tbody tr th {\n",
       "        vertical-align: top;\n",
       "    }\n",
       "\n",
       "    .dataframe thead th {\n",
       "        text-align: right;\n",
       "    }\n",
       "</style>\n",
       "<table border=\"1\" class=\"dataframe\">\n",
       "  <thead>\n",
       "    <tr style=\"text-align: right;\">\n",
       "      <th></th>\n",
       "      <th>lang</th>\n",
       "      <th>%pages/crawl</th>\n",
       "      <th>cl100k_base</th>\n",
       "      <th>o200k_base</th>\n",
       "    </tr>\n",
       "  </thead>\n",
       "  <tbody>\n",
       "    <tr>\n",
       "      <th>2</th>\n",
       "      <td>eng</td>\n",
       "      <td>44.4285</td>\n",
       "      <td>1.000000</td>\n",
       "      <td>1.000000</td>\n",
       "    </tr>\n",
       "    <tr>\n",
       "      <th>138</th>\n",
       "      <td>rus</td>\n",
       "      <td>6.0303</td>\n",
       "      <td>2.486564</td>\n",
       "      <td>1.429354</td>\n",
       "    </tr>\n",
       "    <tr>\n",
       "      <th>71</th>\n",
       "      <td>deu</td>\n",
       "      <td>5.4499</td>\n",
       "      <td>1.598946</td>\n",
       "      <td>1.315571</td>\n",
       "    </tr>\n",
       "    <tr>\n",
       "      <th>122</th>\n",
       "      <td>jpn</td>\n",
       "      <td>5.1508</td>\n",
       "      <td>2.304123</td>\n",
       "      <td>1.682093</td>\n",
       "    </tr>\n",
       "    <tr>\n",
       "      <th>127</th>\n",
       "      <td>zho</td>\n",
       "      <td>5.0798</td>\n",
       "      <td>2.019078</td>\n",
       "      <td>1.339837</td>\n",
       "    </tr>\n",
       "    <tr>\n",
       "      <th>55</th>\n",
       "      <td>spa</td>\n",
       "      <td>4.5391</td>\n",
       "      <td>1.565468</td>\n",
       "      <td>1.330588</td>\n",
       "    </tr>\n",
       "    <tr>\n",
       "      <th>53</th>\n",
       "      <td>fra</td>\n",
       "      <td>4.3933</td>\n",
       "      <td>1.620679</td>\n",
       "      <td>1.379368</td>\n",
       "    </tr>\n",
       "    <tr>\n",
       "      <th>21</th>\n",
       "      <td>ita</td>\n",
       "      <td>2.5834</td>\n",
       "      <td>1.662557</td>\n",
       "      <td>1.486346</td>\n",
       "    </tr>\n",
       "    <tr>\n",
       "      <th>103</th>\n",
       "      <td>nld</td>\n",
       "      <td>1.9746</td>\n",
       "      <td>1.623297</td>\n",
       "      <td>1.258208</td>\n",
       "    </tr>\n",
       "    <tr>\n",
       "      <th>69</th>\n",
       "      <td>por</td>\n",
       "      <td>1.7631</td>\n",
       "      <td>1.489847</td>\n",
       "      <td>1.230764</td>\n",
       "    </tr>\n",
       "    <tr>\n",
       "      <th>50</th>\n",
       "      <td>pol</td>\n",
       "      <td>1.7490</td>\n",
       "      <td>1.945071</td>\n",
       "      <td>1.661104</td>\n",
       "    </tr>\n",
       "    <tr>\n",
       "      <th>135</th>\n",
       "      <td>vie</td>\n",
       "      <td>1.0291</td>\n",
       "      <td>2.477658</td>\n",
       "      <td>1.504384</td>\n",
       "    </tr>\n",
       "    <tr>\n",
       "      <th>116</th>\n",
       "      <td>ces</td>\n",
       "      <td>1.0206</td>\n",
       "      <td>2.130293</td>\n",
       "      <td>1.614931</td>\n",
       "    </tr>\n",
       "    <tr>\n",
       "      <th>118</th>\n",
       "      <td>tur</td>\n",
       "      <td>0.9804</td>\n",
       "      <td>1.945129</td>\n",
       "      <td>1.445668</td>\n",
       "    </tr>\n",
       "    <tr>\n",
       "      <th>85</th>\n",
       "      <td>ind</td>\n",
       "      <td>0.8596</td>\n",
       "      <td>1.563049</td>\n",
       "      <td>1.253425</td>\n",
       "    </tr>\n",
       "    <tr>\n",
       "      <th>133</th>\n",
       "      <td>kor</td>\n",
       "      <td>0.7288</td>\n",
       "      <td>2.398144</td>\n",
       "      <td>1.488381</td>\n",
       "    </tr>\n",
       "    <tr>\n",
       "      <th>63</th>\n",
       "      <td>hun</td>\n",
       "      <td>0.6695</td>\n",
       "      <td>2.171144</td>\n",
       "      <td>1.809510</td>\n",
       "    </tr>\n",
       "    <tr>\n",
       "      <th>48</th>\n",
       "      <td>swe</td>\n",
       "      <td>0.6637</td>\n",
       "      <td>1.593394</td>\n",
       "      <td>1.362837</td>\n",
       "    </tr>\n",
       "    <tr>\n",
       "      <th>163</th>\n",
       "      <td>ell</td>\n",
       "      <td>0.5806</td>\n",
       "      <td>5.198570</td>\n",
       "      <td>2.153791</td>\n",
       "    </tr>\n",
       "    <tr>\n",
       "      <th>38</th>\n",
       "      <td>ron</td>\n",
       "      <td>0.5690</td>\n",
       "      <td>1.895560</td>\n",
       "      <td>1.646669</td>\n",
       "    </tr>\n",
       "    <tr>\n",
       "      <th>51</th>\n",
       "      <td>dan</td>\n",
       "      <td>0.4306</td>\n",
       "      <td>1.634258</td>\n",
       "      <td>1.395319</td>\n",
       "    </tr>\n",
       "    <tr>\n",
       "      <th>159</th>\n",
       "      <td>tha</td>\n",
       "      <td>0.4251</td>\n",
       "      <td>4.402135</td>\n",
       "      <td>1.976312</td>\n",
       "    </tr>\n",
       "    <tr>\n",
       "      <th>136</th>\n",
       "      <td>ukr</td>\n",
       "      <td>0.3845</td>\n",
       "      <td>2.997509</td>\n",
       "      <td>1.762488</td>\n",
       "    </tr>\n",
       "    <tr>\n",
       "      <th>99</th>\n",
       "      <td>fin</td>\n",
       "      <td>0.3680</td>\n",
       "      <td>2.012124</td>\n",
       "      <td>1.573829</td>\n",
       "    </tr>\n",
       "    <tr>\n",
       "      <th>97</th>\n",
       "      <td>slk</td>\n",
       "      <td>0.3590</td>\n",
       "      <td>2.156378</td>\n",
       "      <td>1.695542</td>\n",
       "    </tr>\n",
       "    <tr>\n",
       "      <th>130</th>\n",
       "      <td>bul</td>\n",
       "      <td>0.2966</td>\n",
       "      <td>2.655355</td>\n",
       "      <td>1.725834</td>\n",
       "    </tr>\n",
       "    <tr>\n",
       "      <th>134</th>\n",
       "      <td>srp</td>\n",
       "      <td>0.2206</td>\n",
       "      <td>2.933646</td>\n",
       "      <td>1.794852</td>\n",
       "    </tr>\n",
       "    <tr>\n",
       "      <th>41</th>\n",
       "      <td>cat</td>\n",
       "      <td>0.2096</td>\n",
       "      <td>1.727828</td>\n",
       "      <td>1.496008</td>\n",
       "    </tr>\n",
       "    <tr>\n",
       "      <th>165</th>\n",
       "      <td>heb</td>\n",
       "      <td>0.2091</td>\n",
       "      <td>3.688886</td>\n",
       "      <td>1.495246</td>\n",
       "    </tr>\n",
       "    <tr>\n",
       "      <th>84</th>\n",
       "      <td>hrv</td>\n",
       "      <td>0.2014</td>\n",
       "      <td>1.853763</td>\n",
       "      <td>1.486707</td>\n",
       "    </tr>\n",
       "    <tr>\n",
       "      <th>178</th>\n",
       "      <td>hin</td>\n",
       "      <td>0.1749</td>\n",
       "      <td>4.821501</td>\n",
       "      <td>1.587333</td>\n",
       "    </tr>\n",
       "    <tr>\n",
       "      <th>86</th>\n",
       "      <td>slv</td>\n",
       "      <td>0.1631</td>\n",
       "      <td>1.902568</td>\n",
       "      <td>1.522644</td>\n",
       "    </tr>\n",
       "    <tr>\n",
       "      <th>112</th>\n",
       "      <td>lit</td>\n",
       "      <td>0.1553</td>\n",
       "      <td>2.211593</td>\n",
       "      <td>1.690689</td>\n",
       "    </tr>\n",
       "    <tr>\n",
       "      <th>88</th>\n",
       "      <td>est</td>\n",
       "      <td>0.1339</td>\n",
       "      <td>1.889517</td>\n",
       "      <td>1.509339</td>\n",
       "    </tr>\n",
       "    <tr>\n",
       "      <th>181</th>\n",
       "      <td>ben</td>\n",
       "      <td>0.0981</td>\n",
       "      <td>5.877417</td>\n",
       "      <td>1.710945</td>\n",
       "    </tr>\n",
       "    <tr>\n",
       "      <th>87</th>\n",
       "      <td>bos</td>\n",
       "      <td>0.0475</td>\n",
       "      <td>1.893456</td>\n",
       "      <td>1.512921</td>\n",
       "    </tr>\n",
       "    <tr>\n",
       "      <th>183</th>\n",
       "      <td>tam</td>\n",
       "      <td>0.0423</td>\n",
       "      <td>7.761550</td>\n",
       "      <td>2.001419</td>\n",
       "    </tr>\n",
       "    <tr>\n",
       "      <th>117</th>\n",
       "      <td>isl</td>\n",
       "      <td>0.0392</td>\n",
       "      <td>2.163679</td>\n",
       "      <td>1.624384</td>\n",
       "    </tr>\n",
       "    <tr>\n",
       "      <th>188</th>\n",
       "      <td>kat</td>\n",
       "      <td>0.0360</td>\n",
       "      <td>9.884889</td>\n",
       "      <td>1.804445</td>\n",
       "    </tr>\n",
       "    <tr>\n",
       "      <th>52</th>\n",
       "      <td>glg</td>\n",
       "      <td>0.0351</td>\n",
       "      <td>1.578326</td>\n",
       "      <td>1.346509</td>\n",
       "    </tr>\n",
       "    <tr>\n",
       "      <th>132</th>\n",
       "      <td>mkd</td>\n",
       "      <td>0.0334</td>\n",
       "      <td>2.795054</td>\n",
       "      <td>1.802165</td>\n",
       "    </tr>\n",
       "    <tr>\n",
       "      <th>54</th>\n",
       "      <td>eus</td>\n",
       "      <td>0.0328</td>\n",
       "      <td>1.906860</td>\n",
       "      <td>1.621918</td>\n",
       "    </tr>\n",
       "    <tr>\n",
       "      <th>189</th>\n",
       "      <td>hye</td>\n",
       "      <td>0.0300</td>\n",
       "      <td>9.990197</td>\n",
       "      <td>1.798841</td>\n",
       "    </tr>\n",
       "    <tr>\n",
       "      <th>168</th>\n",
       "      <td>urd</td>\n",
       "      <td>0.0265</td>\n",
       "      <td>4.401929</td>\n",
       "      <td>1.667588</td>\n",
       "    </tr>\n",
       "    <tr>\n",
       "      <th>162</th>\n",
       "      <td>kaz</td>\n",
       "      <td>0.0221</td>\n",
       "      <td>3.830282</td>\n",
       "      <td>1.599947</td>\n",
       "    </tr>\n",
       "    <tr>\n",
       "      <th>187</th>\n",
       "      <td>mal</td>\n",
       "      <td>0.0218</td>\n",
       "      <td>9.049247</td>\n",
       "      <td>1.972658</td>\n",
       "    </tr>\n",
       "    <tr>\n",
       "      <th>174</th>\n",
       "      <td>mar</td>\n",
       "      <td>0.0212</td>\n",
       "      <td>5.107235</td>\n",
       "      <td>1.831367</td>\n",
       "    </tr>\n",
       "    <tr>\n",
       "      <th>185</th>\n",
       "      <td>tel</td>\n",
       "      <td>0.0161</td>\n",
       "      <td>8.426995</td>\n",
       "      <td>1.955239</td>\n",
       "    </tr>\n",
       "    <tr>\n",
       "      <th>139</th>\n",
       "      <td>bel</td>\n",
       "      <td>0.0149</td>\n",
       "      <td>3.548104</td>\n",
       "      <td>2.009799</td>\n",
       "    </tr>\n",
       "    <tr>\n",
       "      <th>186</th>\n",
       "      <td>kan</td>\n",
       "      <td>0.0123</td>\n",
       "      <td>8.973211</td>\n",
       "      <td>1.985525</td>\n",
       "    </tr>\n",
       "  </tbody>\n",
       "</table>\n",
       "</div>"
      ],
      "text/plain": [
       "    lang  %pages/crawl  cl100k_base  o200k_base\n",
       "2    eng       44.4285     1.000000    1.000000\n",
       "138  rus        6.0303     2.486564    1.429354\n",
       "71   deu        5.4499     1.598946    1.315571\n",
       "122  jpn        5.1508     2.304123    1.682093\n",
       "127  zho        5.0798     2.019078    1.339837\n",
       "55   spa        4.5391     1.565468    1.330588\n",
       "53   fra        4.3933     1.620679    1.379368\n",
       "21   ita        2.5834     1.662557    1.486346\n",
       "103  nld        1.9746     1.623297    1.258208\n",
       "69   por        1.7631     1.489847    1.230764\n",
       "50   pol        1.7490     1.945071    1.661104\n",
       "135  vie        1.0291     2.477658    1.504384\n",
       "116  ces        1.0206     2.130293    1.614931\n",
       "118  tur        0.9804     1.945129    1.445668\n",
       "85   ind        0.8596     1.563049    1.253425\n",
       "133  kor        0.7288     2.398144    1.488381\n",
       "63   hun        0.6695     2.171144    1.809510\n",
       "48   swe        0.6637     1.593394    1.362837\n",
       "163  ell        0.5806     5.198570    2.153791\n",
       "38   ron        0.5690     1.895560    1.646669\n",
       "51   dan        0.4306     1.634258    1.395319\n",
       "159  tha        0.4251     4.402135    1.976312\n",
       "136  ukr        0.3845     2.997509    1.762488\n",
       "99   fin        0.3680     2.012124    1.573829\n",
       "97   slk        0.3590     2.156378    1.695542\n",
       "130  bul        0.2966     2.655355    1.725834\n",
       "134  srp        0.2206     2.933646    1.794852\n",
       "41   cat        0.2096     1.727828    1.496008\n",
       "165  heb        0.2091     3.688886    1.495246\n",
       "84   hrv        0.2014     1.853763    1.486707\n",
       "178  hin        0.1749     4.821501    1.587333\n",
       "86   slv        0.1631     1.902568    1.522644\n",
       "112  lit        0.1553     2.211593    1.690689\n",
       "88   est        0.1339     1.889517    1.509339\n",
       "181  ben        0.0981     5.877417    1.710945\n",
       "87   bos        0.0475     1.893456    1.512921\n",
       "183  tam        0.0423     7.761550    2.001419\n",
       "117  isl        0.0392     2.163679    1.624384\n",
       "188  kat        0.0360     9.884889    1.804445\n",
       "52   glg        0.0351     1.578326    1.346509\n",
       "132  mkd        0.0334     2.795054    1.802165\n",
       "54   eus        0.0328     1.906860    1.621918\n",
       "189  hye        0.0300     9.990197    1.798841\n",
       "168  urd        0.0265     4.401929    1.667588\n",
       "162  kaz        0.0221     3.830282    1.599947\n",
       "187  mal        0.0218     9.049247    1.972658\n",
       "174  mar        0.0212     5.107235    1.831367\n",
       "185  tel        0.0161     8.426995    1.955239\n",
       "139  bel        0.0149     3.548104    2.009799\n",
       "186  kan        0.0123     8.973211    1.985525"
      ]
     },
     "execution_count": 69,
     "metadata": {},
     "output_type": "execute_result"
    }
   ],
   "source": [
    "# Review the top-50 languages with respect to the volume of pages\n",
    "crawl_ulang[[\"lang\", \"%pages/crawl\", \"cl100k_base\", \"o200k_base\"]].sort_values(\"%pages/crawl\", ascending=False).head(50)"
   ]
  },
  {
   "cell_type": "code",
   "execution_count": 77,
   "metadata": {},
   "outputs": [
    {
     "data": {
      "text/html": [
       "<div>\n",
       "<style scoped>\n",
       "    .dataframe tbody tr th:only-of-type {\n",
       "        vertical-align: middle;\n",
       "    }\n",
       "\n",
       "    .dataframe tbody tr th {\n",
       "        vertical-align: top;\n",
       "    }\n",
       "\n",
       "    .dataframe thead th {\n",
       "        text-align: right;\n",
       "    }\n",
       "</style>\n",
       "<table border=\"1\" class=\"dataframe\">\n",
       "  <thead>\n",
       "    <tr style=\"text-align: right;\">\n",
       "      <th></th>\n",
       "      <th>%pages/crawl</th>\n",
       "      <th>cl100k_base</th>\n",
       "      <th>o200k_base</th>\n",
       "    </tr>\n",
       "  </thead>\n",
       "  <tbody>\n",
       "    <tr>\n",
       "      <th>%pages/crawl</th>\n",
       "      <td>1.000000</td>\n",
       "      <td>-0.150991</td>\n",
       "      <td>-0.119446</td>\n",
       "    </tr>\n",
       "    <tr>\n",
       "      <th>cl100k_base</th>\n",
       "      <td>-0.150991</td>\n",
       "      <td>1.000000</td>\n",
       "      <td>0.673658</td>\n",
       "    </tr>\n",
       "    <tr>\n",
       "      <th>o200k_base</th>\n",
       "      <td>-0.119446</td>\n",
       "      <td>0.673658</td>\n",
       "      <td>1.000000</td>\n",
       "    </tr>\n",
       "  </tbody>\n",
       "</table>\n",
       "</div>"
      ],
      "text/plain": [
       "              %pages/crawl  cl100k_base  o200k_base\n",
       "%pages/crawl      1.000000    -0.150991   -0.119446\n",
       "cl100k_base      -0.150991     1.000000    0.673658\n",
       "o200k_base       -0.119446     0.673658    1.000000"
      ]
     },
     "execution_count": 77,
     "metadata": {},
     "output_type": "execute_result"
    }
   ],
   "source": [
    "# Compute the pearson correlation\n",
    "crawl_ulang[[\"%pages/crawl\", \"cl100k_base\", \"o200k_base\"]].corr(method=\"pearson\")"
   ]
  },
  {
   "cell_type": "code",
   "execution_count": 78,
   "metadata": {},
   "outputs": [
    {
     "data": {
      "text/html": [
       "<div>\n",
       "<style scoped>\n",
       "    .dataframe tbody tr th:only-of-type {\n",
       "        vertical-align: middle;\n",
       "    }\n",
       "\n",
       "    .dataframe tbody tr th {\n",
       "        vertical-align: top;\n",
       "    }\n",
       "\n",
       "    .dataframe thead th {\n",
       "        text-align: right;\n",
       "    }\n",
       "</style>\n",
       "<table border=\"1\" class=\"dataframe\">\n",
       "  <thead>\n",
       "    <tr style=\"text-align: right;\">\n",
       "      <th></th>\n",
       "      <th>%pages/crawl</th>\n",
       "      <th>cl100k_base</th>\n",
       "      <th>o200k_base</th>\n",
       "    </tr>\n",
       "  </thead>\n",
       "  <tbody>\n",
       "    <tr>\n",
       "      <th>%pages/crawl</th>\n",
       "      <td>1.000000</td>\n",
       "      <td>-0.219135</td>\n",
       "      <td>-0.460592</td>\n",
       "    </tr>\n",
       "    <tr>\n",
       "      <th>cl100k_base</th>\n",
       "      <td>-0.219135</td>\n",
       "      <td>1.000000</td>\n",
       "      <td>0.679669</td>\n",
       "    </tr>\n",
       "    <tr>\n",
       "      <th>o200k_base</th>\n",
       "      <td>-0.460592</td>\n",
       "      <td>0.679669</td>\n",
       "      <td>1.000000</td>\n",
       "    </tr>\n",
       "  </tbody>\n",
       "</table>\n",
       "</div>"
      ],
      "text/plain": [
       "              %pages/crawl  cl100k_base  o200k_base\n",
       "%pages/crawl      1.000000    -0.219135   -0.460592\n",
       "cl100k_base      -0.219135     1.000000    0.679669\n",
       "o200k_base       -0.460592     0.679669    1.000000"
      ]
     },
     "execution_count": 78,
     "metadata": {},
     "output_type": "execute_result"
    }
   ],
   "source": [
    "crawl_ulang[[\"%pages/crawl\", \"cl100k_base\", \"o200k_base\"]].sort_values(\"%pages/crawl\", ascending=False).head(50).corr(method=\"pearson\")"
   ]
  },
  {
   "cell_type": "code",
   "execution_count": 79,
   "metadata": {},
   "outputs": [
    {
     "data": {
      "text/html": [
       "<div>\n",
       "<style scoped>\n",
       "    .dataframe tbody tr th:only-of-type {\n",
       "        vertical-align: middle;\n",
       "    }\n",
       "\n",
       "    .dataframe tbody tr th {\n",
       "        vertical-align: top;\n",
       "    }\n",
       "\n",
       "    .dataframe thead th {\n",
       "        text-align: right;\n",
       "    }\n",
       "</style>\n",
       "<table border=\"1\" class=\"dataframe\">\n",
       "  <thead>\n",
       "    <tr style=\"text-align: right;\">\n",
       "      <th></th>\n",
       "      <th>%pages/crawl</th>\n",
       "      <th>cl100k_base</th>\n",
       "      <th>o200k_base</th>\n",
       "    </tr>\n",
       "  </thead>\n",
       "  <tbody>\n",
       "    <tr>\n",
       "      <th>%pages/crawl</th>\n",
       "      <td>1.000000</td>\n",
       "      <td>-0.150935</td>\n",
       "      <td>-0.373602</td>\n",
       "    </tr>\n",
       "    <tr>\n",
       "      <th>cl100k_base</th>\n",
       "      <td>-0.150935</td>\n",
       "      <td>1.000000</td>\n",
       "      <td>0.625130</td>\n",
       "    </tr>\n",
       "    <tr>\n",
       "      <th>o200k_base</th>\n",
       "      <td>-0.373602</td>\n",
       "      <td>0.625130</td>\n",
       "      <td>1.000000</td>\n",
       "    </tr>\n",
       "  </tbody>\n",
       "</table>\n",
       "</div>"
      ],
      "text/plain": [
       "              %pages/crawl  cl100k_base  o200k_base\n",
       "%pages/crawl      1.000000    -0.150935   -0.373602\n",
       "cl100k_base      -0.150935     1.000000    0.625130\n",
       "o200k_base       -0.373602     0.625130    1.000000"
      ]
     },
     "execution_count": 79,
     "metadata": {},
     "output_type": "execute_result"
    }
   ],
   "source": [
    "# Compute the kendall tau correlation\n",
    "crawl_ulang[[\"%pages/crawl\", \"cl100k_base\", \"o200k_base\"]].corr(method=\"kendall\")"
   ]
  },
  {
   "cell_type": "code",
   "execution_count": 80,
   "metadata": {},
   "outputs": [
    {
     "data": {
      "text/html": [
       "<div>\n",
       "<style scoped>\n",
       "    .dataframe tbody tr th:only-of-type {\n",
       "        vertical-align: middle;\n",
       "    }\n",
       "\n",
       "    .dataframe tbody tr th {\n",
       "        vertical-align: top;\n",
       "    }\n",
       "\n",
       "    .dataframe thead th {\n",
       "        text-align: right;\n",
       "    }\n",
       "</style>\n",
       "<table border=\"1\" class=\"dataframe\">\n",
       "  <thead>\n",
       "    <tr style=\"text-align: right;\">\n",
       "      <th></th>\n",
       "      <th>%pages/crawl</th>\n",
       "      <th>cl100k_base</th>\n",
       "      <th>o200k_base</th>\n",
       "    </tr>\n",
       "  </thead>\n",
       "  <tbody>\n",
       "    <tr>\n",
       "      <th>%pages/crawl</th>\n",
       "      <td>1.000000</td>\n",
       "      <td>-0.423673</td>\n",
       "      <td>-0.453061</td>\n",
       "    </tr>\n",
       "    <tr>\n",
       "      <th>cl100k_base</th>\n",
       "      <td>-0.423673</td>\n",
       "      <td>1.000000</td>\n",
       "      <td>0.660408</td>\n",
       "    </tr>\n",
       "    <tr>\n",
       "      <th>o200k_base</th>\n",
       "      <td>-0.453061</td>\n",
       "      <td>0.660408</td>\n",
       "      <td>1.000000</td>\n",
       "    </tr>\n",
       "  </tbody>\n",
       "</table>\n",
       "</div>"
      ],
      "text/plain": [
       "              %pages/crawl  cl100k_base  o200k_base\n",
       "%pages/crawl      1.000000    -0.423673   -0.453061\n",
       "cl100k_base      -0.423673     1.000000    0.660408\n",
       "o200k_base       -0.453061     0.660408    1.000000"
      ]
     },
     "execution_count": 80,
     "metadata": {},
     "output_type": "execute_result"
    }
   ],
   "source": [
    "crawl_ulang[[\"%pages/crawl\", \"cl100k_base\", \"o200k_base\"]].sort_values(\"%pages/crawl\", ascending=False).head(50).corr(method=\"kendall\")"
   ]
  },
  {
   "cell_type": "code",
   "execution_count": 81,
   "metadata": {},
   "outputs": [
    {
     "data": {
      "text/html": [
       "<div>\n",
       "<style scoped>\n",
       "    .dataframe tbody tr th:only-of-type {\n",
       "        vertical-align: middle;\n",
       "    }\n",
       "\n",
       "    .dataframe tbody tr th {\n",
       "        vertical-align: top;\n",
       "    }\n",
       "\n",
       "    .dataframe thead th {\n",
       "        text-align: right;\n",
       "    }\n",
       "</style>\n",
       "<table border=\"1\" class=\"dataframe\">\n",
       "  <thead>\n",
       "    <tr style=\"text-align: right;\">\n",
       "      <th></th>\n",
       "      <th>%pages/crawl</th>\n",
       "      <th>cl100k_base</th>\n",
       "      <th>o200k_base</th>\n",
       "    </tr>\n",
       "  </thead>\n",
       "  <tbody>\n",
       "    <tr>\n",
       "      <th>%pages/crawl</th>\n",
       "      <td>1.000000</td>\n",
       "      <td>-0.233168</td>\n",
       "      <td>-0.531221</td>\n",
       "    </tr>\n",
       "    <tr>\n",
       "      <th>cl100k_base</th>\n",
       "      <td>-0.233168</td>\n",
       "      <td>1.000000</td>\n",
       "      <td>0.792544</td>\n",
       "    </tr>\n",
       "    <tr>\n",
       "      <th>o200k_base</th>\n",
       "      <td>-0.531221</td>\n",
       "      <td>0.792544</td>\n",
       "      <td>1.000000</td>\n",
       "    </tr>\n",
       "  </tbody>\n",
       "</table>\n",
       "</div>"
      ],
      "text/plain": [
       "              %pages/crawl  cl100k_base  o200k_base\n",
       "%pages/crawl      1.000000    -0.233168   -0.531221\n",
       "cl100k_base      -0.233168     1.000000    0.792544\n",
       "o200k_base       -0.531221     0.792544    1.000000"
      ]
     },
     "execution_count": 81,
     "metadata": {},
     "output_type": "execute_result"
    }
   ],
   "source": [
    "# Compute the spearman correlation\n",
    "crawl_ulang[[\"%pages/crawl\", \"cl100k_base\", \"o200k_base\"]].corr(method=\"spearman\")"
   ]
  },
  {
   "cell_type": "code",
   "execution_count": 82,
   "metadata": {},
   "outputs": [
    {
     "data": {
      "text/html": [
       "<div>\n",
       "<style scoped>\n",
       "    .dataframe tbody tr th:only-of-type {\n",
       "        vertical-align: middle;\n",
       "    }\n",
       "\n",
       "    .dataframe tbody tr th {\n",
       "        vertical-align: top;\n",
       "    }\n",
       "\n",
       "    .dataframe thead th {\n",
       "        text-align: right;\n",
       "    }\n",
       "</style>\n",
       "<table border=\"1\" class=\"dataframe\">\n",
       "  <thead>\n",
       "    <tr style=\"text-align: right;\">\n",
       "      <th></th>\n",
       "      <th>%pages/crawl</th>\n",
       "      <th>cl100k_base</th>\n",
       "      <th>o200k_base</th>\n",
       "    </tr>\n",
       "  </thead>\n",
       "  <tbody>\n",
       "    <tr>\n",
       "      <th>%pages/crawl</th>\n",
       "      <td>1.000000</td>\n",
       "      <td>-0.588860</td>\n",
       "      <td>-0.624778</td>\n",
       "    </tr>\n",
       "    <tr>\n",
       "      <th>cl100k_base</th>\n",
       "      <td>-0.588860</td>\n",
       "      <td>1.000000</td>\n",
       "      <td>0.832989</td>\n",
       "    </tr>\n",
       "    <tr>\n",
       "      <th>o200k_base</th>\n",
       "      <td>-0.624778</td>\n",
       "      <td>0.832989</td>\n",
       "      <td>1.000000</td>\n",
       "    </tr>\n",
       "  </tbody>\n",
       "</table>\n",
       "</div>"
      ],
      "text/plain": [
       "              %pages/crawl  cl100k_base  o200k_base\n",
       "%pages/crawl      1.000000    -0.588860   -0.624778\n",
       "cl100k_base      -0.588860     1.000000    0.832989\n",
       "o200k_base       -0.624778     0.832989    1.000000"
      ]
     },
     "execution_count": 82,
     "metadata": {},
     "output_type": "execute_result"
    }
   ],
   "source": [
    "crawl_ulang[[\"%pages/crawl\", \"cl100k_base\", \"o200k_base\"]].sort_values(\"%pages/crawl\", ascending=False).head(50).corr(method=\"spearman\")"
   ]
  },
  {
   "cell_type": "code",
   "execution_count": 99,
   "metadata": {},
   "outputs": [
    {
     "data": {
      "text/plain": [
       "weighted_wealth_income_classification\n",
       "Lower middle income    60\n",
       "High income            57\n",
       "Upper middle income    56\n",
       "Low income             17\n",
       "Name: count, dtype: int64"
      ]
     },
     "execution_count": 99,
     "metadata": {},
     "output_type": "execute_result"
    }
   ],
   "source": [
    "ulang_df[\"weighted_wealth_income_classification\"].value_counts()"
   ]
  },
  {
   "cell_type": "markdown",
   "metadata": {},
   "source": [
    "# LLM Logprobs Analysis"
   ]
  },
  {
   "cell_type": "code",
   "execution_count": 2,
   "metadata": {},
   "outputs": [],
   "source": [
    "import json\n",
    "\n",
    "with open(\"../data/processed/translate-batch/comparison/comparison-edfc88f3627a8256ccf893ca55af5bc6-completed.jsonl\") as f:\n",
    "    data = [json.loads(line) for line in f]\n",
    "\n",
    "# \"../data/processed/translate-batch/comparison/comparison-edfc88f3627a8256ccf893ca55af5bc6-completed.jsonl\""
   ]
  },
  {
   "cell_type": "code",
   "execution_count": 11,
   "metadata": {},
   "outputs": [
    {
     "name": "stdout",
     "output_type": "stream",
     "text": [
      "The -0.0053508054\n",
      " translation -0.31679082\n",
      " introduces -1.6764992\n",
      " inaccuracies -0.6163217\n",
      " and -0.6335877\n",
      " changes -0.92101365\n",
      " the -0.90842074\n",
      " meaning -0.09673565\n",
      " of -1.0023471\n",
      " the -0.638162\n",
      " original -0.14131546\n",
      " text -0.34333083\n",
      ", -0.19459759\n",
      " such -0.57417744\n",
      " as -1.3856493e-06\n",
      " \" -0.5601868\n",
      "regular -0.9667591\n",
      " ink -1.9361265e-07\n",
      "jet -2.4584822e-06\n",
      " atoms -2.0935051e-05\n",
      "\" -0.008069923\n",
      " instead -0.08104816\n",
      " of -4.604148e-06\n",
      " \" -0.011802443\n",
      "standard -0.011128234\n",
      " ink -1.9361265e-07\n",
      "jet -1.0280384e-06\n",
      " printers -2.220075e-06\n",
      "\" -0.1684571\n",
      " and -7.517272e-05\n",
      " \" -1.3225023\n",
      "as -0.78816813\n",
      " small -1.9862217e-05\n",
      " as -1.1637165e-05\n",
      " one -0.008622728\n",
      " U -0.00056697224\n",
      ".S -5.5122365e-07\n",
      ". -0.00011117222\n",
      " cent -5.5122365e-07\n",
      "\" -0.0037497254\n",
      " instead -0.18950552\n",
      " of -1.0683535e-05\n",
      " \" -0.22892761\n",
      "for -0.7260122\n",
      " possibly -0.012614199\n",
      " about -2.808727e-05\n",
      " one -5.5122365e-07\n",
      " U -1.5451682e-05\n",
      ".S -1.9361265e-07\n",
      ". -2.0219828e-05\n",
      " cent 0.0\n",
      " each -0.008830119\n",
      ".\"\n",
      "\n",
      " -0.20923294\n",
      "Rating -4.167649e-05\n",
      ": 0.0\n",
      " INC -4.3202e-07\n",
      "OR 0.0\n",
      "RECT 0.0\n"
     ]
    }
   ],
   "source": [
    "for lp in data[0][\"response\"][\"body\"][\"choices\"][0][\"logprobs\"][\"content\"]:\n",
    "    print(lp[\"token\"], lp[\"logprob\"])"
   ]
  },
  {
   "cell_type": "code",
   "execution_count": 12,
   "metadata": {},
   "outputs": [
    {
     "data": {
      "text/plain": [
       "[{'token': ':', 'logprob': 0.0, 'bytes': [58], 'top_logprobs': []},\n",
       " {'token': ' INC',\n",
       "  'logprob': -4.3202e-07,\n",
       "  'bytes': [32, 73, 78, 67],\n",
       "  'top_logprobs': []},\n",
       " {'token': 'OR', 'logprob': 0.0, 'bytes': [79, 82], 'top_logprobs': []},\n",
       " {'token': 'RECT',\n",
       "  'logprob': 0.0,\n",
       "  'bytes': [82, 69, 67, 84],\n",
       "  'top_logprobs': []}]"
      ]
     },
     "execution_count": 12,
     "metadata": {},
     "output_type": "execute_result"
    }
   ],
   "source": [
    "data[0][\"response\"][\"body\"][\"choices\"][0][\"logprobs\"][\"content\"][-4:]"
   ]
  },
  {
   "cell_type": "code",
   "execution_count": 22,
   "metadata": {},
   "outputs": [
    {
     "data": {
      "text/plain": [
       "[{'token': 'Rating',\n",
       "  'logprob': -1.3306016e-05,\n",
       "  'bytes': [82, 97, 116, 105, 110, 103],\n",
       "  'top_logprobs': []},\n",
       " {'token': ':', 'logprob': 0.0, 'bytes': [58], 'top_logprobs': []},\n",
       " {'token': ' COR',\n",
       "  'logprob': -6.704273e-07,\n",
       "  'bytes': [32, 67, 79, 82],\n",
       "  'top_logprobs': []},\n",
       " {'token': 'RECT',\n",
       "  'logprob': 0.0,\n",
       "  'bytes': [82, 69, 67, 84],\n",
       "  'top_logprobs': []}]"
      ]
     },
     "execution_count": 22,
     "metadata": {},
     "output_type": "execute_result"
    }
   ],
   "source": [
    "data[4000][\"response\"][\"body\"][\"choices\"][0][\"logprobs\"][\"content\"][-4:]"
   ]
  },
  {
   "cell_type": "code",
   "execution_count": null,
   "metadata": {},
   "outputs": [],
   "source": []
  }
 ],
 "metadata": {
  "kernelspec": {
   "display_name": "llm-lang-b0VyPkoq-py3.10",
   "language": "python",
   "name": "python3"
  },
  "language_info": {
   "codemirror_mode": {
    "name": "ipython",
    "version": 3
   },
   "file_extension": ".py",
   "mimetype": "text/x-python",
   "name": "python",
   "nbconvert_exporter": "python",
   "pygments_lexer": "ipython3",
   "version": "3.10.6"
  }
 },
 "nbformat": 4,
 "nbformat_minor": 2
}
